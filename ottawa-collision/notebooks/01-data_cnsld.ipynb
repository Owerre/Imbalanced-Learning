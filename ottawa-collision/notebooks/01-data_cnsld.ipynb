{
 "cells": [
  {
   "cell_type": "markdown",
   "metadata": {},
   "source": [
    "# Data Arrangement"
   ]
  },
  {
   "cell_type": "code",
   "execution_count": 1,
   "metadata": {},
   "outputs": [],
   "source": [
    "%matplotlib inline\n",
    "\n",
    "# Filter warnings\n",
    "import warnings\n",
    "warnings.filterwarnings(\"ignore\")\n",
    "\n",
    "# Data manipulation\n",
    "import pandas as pd\n",
    "import numpy as np\n",
    "\n",
    "# Data visualization\n",
    "import matplotlib.pyplot as plt\n",
    "import seaborn as sns\n",
    "\n",
    "# Set font scale and style\n",
    "plt.rcParams.update({'font.size': 15})"
   ]
  },
  {
   "cell_type": "markdown",
   "metadata": {},
   "source": [
    "# Load data"
   ]
  },
  {
   "cell_type": "code",
   "execution_count": 2,
   "metadata": {},
   "outputs": [],
   "source": [
    "df1 = pd.read_csv('../data/2013_Tabular_Transportation_Collision_Data.csv')\n",
    "df2 = pd.read_csv('../data/2014_Tabular_Transportation_Collision_Data.csv')\n",
    "df3 = pd.read_csv('../data/2015_Tabular_Transportation_Collision_Data.csv')\n",
    "df4 = pd.read_csv('../data/2016_Tabular_Transportation_Collision_Data.csv')\n",
    "df5 = pd.read_csv('../data/2017_Tabular_Transportation_Collision_Data.csv')\n",
    "df6 = pd.read_csv('../data/2018_Tabular_Transportation_Collision_Data.csv')\n",
    "df7 = pd.read_csv('../data/2019_Tabular_Transportation_Collision_Data.csv')"
   ]
  },
  {
   "cell_type": "markdown",
   "metadata": {},
   "source": [
    "# Concatenate DataFrames 1 to 4"
   ]
  },
  {
   "cell_type": "code",
   "execution_count": 3,
   "metadata": {},
   "outputs": [
    {
     "name": "stdout",
     "output_type": "stream",
     "text": [
      "Data size (59107, 17)\n"
     ]
    },
    {
     "data": {
      "text/html": [
       "<div>\n",
       "<style scoped>\n",
       "    .dataframe tbody tr th:only-of-type {\n",
       "        vertical-align: middle;\n",
       "    }\n",
       "\n",
       "    .dataframe tbody tr th {\n",
       "        vertical-align: top;\n",
       "    }\n",
       "\n",
       "    .dataframe thead th {\n",
       "        text-align: right;\n",
       "    }\n",
       "</style>\n",
       "<table border=\"1\" class=\"dataframe\">\n",
       "  <thead>\n",
       "    <tr style=\"text-align: right;\">\n",
       "      <th></th>\n",
       "      <th>date</th>\n",
       "      <th>time</th>\n",
       "      <th>collision_id</th>\n",
       "      <th>location</th>\n",
       "      <th>x</th>\n",
       "      <th>y</th>\n",
       "      <th>longitude</th>\n",
       "      <th>latitude</th>\n",
       "      <th>environment</th>\n",
       "      <th>light</th>\n",
       "      <th>surface_condition</th>\n",
       "      <th>traffic_control</th>\n",
       "      <th>traffic_control_condition</th>\n",
       "      <th>collision_classification</th>\n",
       "      <th>impact_type</th>\n",
       "      <th>no_of_pedestrians</th>\n",
       "      <th>fid</th>\n",
       "    </tr>\n",
       "  </thead>\n",
       "  <tbody>\n",
       "    <tr>\n",
       "      <th>0</th>\n",
       "      <td>2013/01/18 05:00:00+00</td>\n",
       "      <td>1899/12/31 23:13:00+00</td>\n",
       "      <td>13-704</td>\n",
       "      <td>ROBERTSON RD btwn MOODIE DR &amp; VANIER RD</td>\n",
       "      <td>357144.87500</td>\n",
       "      <td>5020503.5</td>\n",
       "      <td>-75.832298</td>\n",
       "      <td>45.322533</td>\n",
       "      <td>01 - Clear</td>\n",
       "      <td>07 - Dark</td>\n",
       "      <td>01 - Dry</td>\n",
       "      <td>10 - No control</td>\n",
       "      <td>NaN</td>\n",
       "      <td>02 - Non-fatal injury</td>\n",
       "      <td>02 - Angle</td>\n",
       "      <td>0</td>\n",
       "      <td>1</td>\n",
       "    </tr>\n",
       "    <tr>\n",
       "      <th>1</th>\n",
       "      <td>2013/01/20 05:00:00+00</td>\n",
       "      <td>1899/12/31 18:45:00+00</td>\n",
       "      <td>13-806</td>\n",
       "      <td>FALLOWFIELD RD btwn EAGLESON RD &amp; RICHMOND RD</td>\n",
       "      <td>356860.18750</td>\n",
       "      <td>5013034.5</td>\n",
       "      <td>-75.836708</td>\n",
       "      <td>45.255344</td>\n",
       "      <td>05 - Drifting Snow</td>\n",
       "      <td>01 - Daylight</td>\n",
       "      <td>06 - Ice</td>\n",
       "      <td>10 - No control</td>\n",
       "      <td>NaN</td>\n",
       "      <td>03 - P.D. only</td>\n",
       "      <td>01 - Approaching</td>\n",
       "      <td>0</td>\n",
       "      <td>2</td>\n",
       "    </tr>\n",
       "    <tr>\n",
       "      <th>2</th>\n",
       "      <td>2013/01/03 05:00:00+00</td>\n",
       "      <td>1899/12/31 21:22:00+00</td>\n",
       "      <td>13-101</td>\n",
       "      <td>FIFTH AVE @ RUPERT ST</td>\n",
       "      <td>368589.71875</td>\n",
       "      <td>5029516.5</td>\n",
       "      <td>-75.685158</td>\n",
       "      <td>45.402679</td>\n",
       "      <td>03 - Snow</td>\n",
       "      <td>01 - Daylight</td>\n",
       "      <td>06 - Ice</td>\n",
       "      <td>02 - Stop sign</td>\n",
       "      <td>01 - Functioning</td>\n",
       "      <td>03 - P.D. only</td>\n",
       "      <td>02 - Angle</td>\n",
       "      <td>0</td>\n",
       "      <td>3</td>\n",
       "    </tr>\n",
       "    <tr>\n",
       "      <th>3</th>\n",
       "      <td>2013/01/12 05:00:00+00</td>\n",
       "      <td>1899/12/31 21:10:00+00</td>\n",
       "      <td>13-502</td>\n",
       "      <td>BIRCH AVE @ FARNHAM CRES</td>\n",
       "      <td>370292.90625</td>\n",
       "      <td>5035187.0</td>\n",
       "      <td>-75.662651</td>\n",
       "      <td>45.453541</td>\n",
       "      <td>01 - Clear</td>\n",
       "      <td>01 - Daylight</td>\n",
       "      <td>02 - Wet</td>\n",
       "      <td>02 - Stop sign</td>\n",
       "      <td>01 - Functioning</td>\n",
       "      <td>03 - P.D. only</td>\n",
       "      <td>02 - Angle</td>\n",
       "      <td>0</td>\n",
       "      <td>4</td>\n",
       "    </tr>\n",
       "    <tr>\n",
       "      <th>4</th>\n",
       "      <td>2013/01/11 05:00:00+00</td>\n",
       "      <td>1900/01/01 04:00:00+00</td>\n",
       "      <td>13-503</td>\n",
       "      <td>ALESTHER ST btwn QUEEN MARY ST &amp; PRINCE ALBERT ST</td>\n",
       "      <td>372133.18750</td>\n",
       "      <td>5032130.5</td>\n",
       "      <td>-75.639542</td>\n",
       "      <td>45.425865</td>\n",
       "      <td>02 - Rain</td>\n",
       "      <td>07 - Dark</td>\n",
       "      <td>02 - Wet</td>\n",
       "      <td>10 - No control</td>\n",
       "      <td>NaN</td>\n",
       "      <td>03 - P.D. only</td>\n",
       "      <td>06 - SMV unattended vehicle</td>\n",
       "      <td>0</td>\n",
       "      <td>5</td>\n",
       "    </tr>\n",
       "  </tbody>\n",
       "</table>\n",
       "</div>"
      ],
      "text/plain": [
       "                     date                    time collision_id  \\\n",
       "0  2013/01/18 05:00:00+00  1899/12/31 23:13:00+00       13-704   \n",
       "1  2013/01/20 05:00:00+00  1899/12/31 18:45:00+00       13-806   \n",
       "2  2013/01/03 05:00:00+00  1899/12/31 21:22:00+00       13-101   \n",
       "3  2013/01/12 05:00:00+00  1899/12/31 21:10:00+00       13-502   \n",
       "4  2013/01/11 05:00:00+00  1900/01/01 04:00:00+00       13-503   \n",
       "\n",
       "                                            location             x          y  \\\n",
       "0            ROBERTSON RD btwn MOODIE DR & VANIER RD  357144.87500  5020503.5   \n",
       "1      FALLOWFIELD RD btwn EAGLESON RD & RICHMOND RD  356860.18750  5013034.5   \n",
       "2                              FIFTH AVE @ RUPERT ST  368589.71875  5029516.5   \n",
       "3                           BIRCH AVE @ FARNHAM CRES  370292.90625  5035187.0   \n",
       "4  ALESTHER ST btwn QUEEN MARY ST & PRINCE ALBERT ST  372133.18750  5032130.5   \n",
       "\n",
       "   longitude   latitude         environment          light surface_condition  \\\n",
       "0 -75.832298  45.322533          01 - Clear      07 - Dark          01 - Dry   \n",
       "1 -75.836708  45.255344  05 - Drifting Snow  01 - Daylight          06 - Ice   \n",
       "2 -75.685158  45.402679           03 - Snow  01 - Daylight          06 - Ice   \n",
       "3 -75.662651  45.453541          01 - Clear  01 - Daylight          02 - Wet   \n",
       "4 -75.639542  45.425865           02 - Rain      07 - Dark          02 - Wet   \n",
       "\n",
       "   traffic_control traffic_control_condition collision_classification  \\\n",
       "0  10 - No control                       NaN    02 - Non-fatal injury   \n",
       "1  10 - No control                       NaN           03 - P.D. only   \n",
       "2   02 - Stop sign          01 - Functioning           03 - P.D. only   \n",
       "3   02 - Stop sign          01 - Functioning           03 - P.D. only   \n",
       "4  10 - No control                       NaN           03 - P.D. only   \n",
       "\n",
       "                   impact_type  no_of_pedestrians  fid  \n",
       "0                   02 - Angle                  0    1  \n",
       "1             01 - Approaching                  0    2  \n",
       "2                   02 - Angle                  0    3  \n",
       "3                   02 - Angle                  0    4  \n",
       "4  06 - SMV unattended vehicle                  0    5  "
      ]
     },
     "execution_count": 3,
     "metadata": {},
     "output_type": "execute_result"
    }
   ],
   "source": [
    "dfa = pd.concat([df1, df2, df3, df4], sort = False) # Concatenate\n",
    "print(\"Data size\", dfa.shape)\n",
    "dfa.columns = [x.lower() for x in dfa.columns] # column names in lowe case\n",
    "dfa.head() # Display"
   ]
  },
  {
   "cell_type": "markdown",
   "metadata": {},
   "source": [
    "# Dataframe 5"
   ]
  },
  {
   "cell_type": "code",
   "execution_count": 4,
   "metadata": {
    "scrolled": true
   },
   "outputs": [],
   "source": [
    "list_to_drop =['collision_location', 'year']\n",
    "df5.columns = ['collision_id', 'location', 'x', 'y', 'longitude',\n",
    "               'latitude','year', 'date', 'time', 'environment',\n",
    "               'surface_condition','traffic_control',\n",
    "               'collision_location', 'light', \n",
    "               'collision_classification', 'impact_type', 'fid']\n",
    "df5.drop(list_to_drop, axis =1, inplace = True)"
   ]
  },
  {
   "cell_type": "code",
   "execution_count": 5,
   "metadata": {},
   "outputs": [],
   "source": [
    "ar = np.zeros(len(df5))\n",
    "ar[:] = np.nan\n",
    "df5['traffic_control_condition'] = ar\n",
    "df5['no_of_pedestrians'] = np.zeros(len(df5))"
   ]
  },
  {
   "cell_type": "markdown",
   "metadata": {},
   "source": [
    "# Dataframe 6"
   ]
  },
  {
   "cell_type": "code",
   "execution_count": 6,
   "metadata": {},
   "outputs": [],
   "source": [
    "list_to_drop =['geo_id', 'year', 'accident_location']\n",
    "df6.columns = ['date', 'collision_id', 'year', 'time', 'location',\n",
    "               'geo_id','accident_location', 'collision_classification',\n",
    "               'impact_type', 'environment', 'light', \n",
    "               'surface_condition', 'traffic_control','traffic_control_condition',\n",
    "               'no_of_pedestrians', 'x', 'y', 'longitude',\n",
    "               'latitude', 'fid']\n",
    "df6.drop(list_to_drop, axis =1, inplace = True)"
   ]
  },
  {
   "cell_type": "markdown",
   "metadata": {},
   "source": [
    "# Dataframe 7"
   ]
  },
  {
   "cell_type": "code",
   "execution_count": 7,
   "metadata": {},
   "outputs": [],
   "source": [
    "list_to_drop =['geo_id', 'accident_location']\n",
    "df7.columns = ['collision_id', 'date', 'time', 'location',\n",
    "               'geo_id','accident_location', 'collision_classification',\n",
    "               'impact_type', 'environment', 'light', \n",
    "               'surface_condition', 'traffic_control','traffic_control_condition',\n",
    "               'x', 'y', 'longitude','latitude', 'fid']\n",
    "df7.drop(list_to_drop, axis =1, inplace = True)"
   ]
  },
  {
   "cell_type": "code",
   "execution_count": 8,
   "metadata": {
    "scrolled": false
   },
   "outputs": [],
   "source": [
    "df7['no_of_pedestrians'] = np.zeros(len(df7))"
   ]
  },
  {
   "cell_type": "markdown",
   "metadata": {},
   "source": [
    "# Concatenate All DataFrames"
   ]
  },
  {
   "cell_type": "code",
   "execution_count": 9,
   "metadata": {},
   "outputs": [
    {
     "name": "stdout",
     "output_type": "stream",
     "text": [
      "Data size (104384, 15)\n"
     ]
    },
    {
     "data": {
      "text/html": [
       "<div>\n",
       "<style scoped>\n",
       "    .dataframe tbody tr th:only-of-type {\n",
       "        vertical-align: middle;\n",
       "    }\n",
       "\n",
       "    .dataframe tbody tr th {\n",
       "        vertical-align: top;\n",
       "    }\n",
       "\n",
       "    .dataframe thead th {\n",
       "        text-align: right;\n",
       "    }\n",
       "</style>\n",
       "<table border=\"1\" class=\"dataframe\">\n",
       "  <thead>\n",
       "    <tr style=\"text-align: right;\">\n",
       "      <th></th>\n",
       "      <th>date</th>\n",
       "      <th>location</th>\n",
       "      <th>x</th>\n",
       "      <th>y</th>\n",
       "      <th>longitude</th>\n",
       "      <th>latitude</th>\n",
       "      <th>environment</th>\n",
       "      <th>light</th>\n",
       "      <th>surface_condition</th>\n",
       "      <th>traffic_control</th>\n",
       "      <th>traffic_control_condition</th>\n",
       "      <th>collision_classification</th>\n",
       "      <th>impact_type</th>\n",
       "      <th>no_of_pedestrians</th>\n",
       "      <th>fid</th>\n",
       "    </tr>\n",
       "  </thead>\n",
       "  <tbody>\n",
       "    <tr>\n",
       "      <th>0</th>\n",
       "      <td>2013/01/18 05:00:00+00</td>\n",
       "      <td>ROBERTSON RD btwn MOODIE DR &amp; VANIER RD</td>\n",
       "      <td>357144.87500</td>\n",
       "      <td>5020503.5</td>\n",
       "      <td>-75.832298</td>\n",
       "      <td>45.322533</td>\n",
       "      <td>01 - Clear</td>\n",
       "      <td>07 - Dark</td>\n",
       "      <td>01 - Dry</td>\n",
       "      <td>10 - No control</td>\n",
       "      <td>NaN</td>\n",
       "      <td>02 - Non-fatal injury</td>\n",
       "      <td>02 - Angle</td>\n",
       "      <td>0.0</td>\n",
       "      <td>1</td>\n",
       "    </tr>\n",
       "    <tr>\n",
       "      <th>1</th>\n",
       "      <td>2013/01/20 05:00:00+00</td>\n",
       "      <td>FALLOWFIELD RD btwn EAGLESON RD &amp; RICHMOND RD</td>\n",
       "      <td>356860.18750</td>\n",
       "      <td>5013034.5</td>\n",
       "      <td>-75.836708</td>\n",
       "      <td>45.255344</td>\n",
       "      <td>05 - Drifting Snow</td>\n",
       "      <td>01 - Daylight</td>\n",
       "      <td>06 - Ice</td>\n",
       "      <td>10 - No control</td>\n",
       "      <td>NaN</td>\n",
       "      <td>03 - P.D. only</td>\n",
       "      <td>01 - Approaching</td>\n",
       "      <td>0.0</td>\n",
       "      <td>2</td>\n",
       "    </tr>\n",
       "    <tr>\n",
       "      <th>2</th>\n",
       "      <td>2013/01/03 05:00:00+00</td>\n",
       "      <td>FIFTH AVE @ RUPERT ST</td>\n",
       "      <td>368589.71875</td>\n",
       "      <td>5029516.5</td>\n",
       "      <td>-75.685158</td>\n",
       "      <td>45.402679</td>\n",
       "      <td>03 - Snow</td>\n",
       "      <td>01 - Daylight</td>\n",
       "      <td>06 - Ice</td>\n",
       "      <td>02 - Stop sign</td>\n",
       "      <td>01 - Functioning</td>\n",
       "      <td>03 - P.D. only</td>\n",
       "      <td>02 - Angle</td>\n",
       "      <td>0.0</td>\n",
       "      <td>3</td>\n",
       "    </tr>\n",
       "    <tr>\n",
       "      <th>3</th>\n",
       "      <td>2013/01/12 05:00:00+00</td>\n",
       "      <td>BIRCH AVE @ FARNHAM CRES</td>\n",
       "      <td>370292.90625</td>\n",
       "      <td>5035187.0</td>\n",
       "      <td>-75.662651</td>\n",
       "      <td>45.453541</td>\n",
       "      <td>01 - Clear</td>\n",
       "      <td>01 - Daylight</td>\n",
       "      <td>02 - Wet</td>\n",
       "      <td>02 - Stop sign</td>\n",
       "      <td>01 - Functioning</td>\n",
       "      <td>03 - P.D. only</td>\n",
       "      <td>02 - Angle</td>\n",
       "      <td>0.0</td>\n",
       "      <td>4</td>\n",
       "    </tr>\n",
       "    <tr>\n",
       "      <th>4</th>\n",
       "      <td>2013/01/11 05:00:00+00</td>\n",
       "      <td>ALESTHER ST btwn QUEEN MARY ST &amp; PRINCE ALBERT ST</td>\n",
       "      <td>372133.18750</td>\n",
       "      <td>5032130.5</td>\n",
       "      <td>-75.639542</td>\n",
       "      <td>45.425865</td>\n",
       "      <td>02 - Rain</td>\n",
       "      <td>07 - Dark</td>\n",
       "      <td>02 - Wet</td>\n",
       "      <td>10 - No control</td>\n",
       "      <td>NaN</td>\n",
       "      <td>03 - P.D. only</td>\n",
       "      <td>06 - SMV unattended vehicle</td>\n",
       "      <td>0.0</td>\n",
       "      <td>5</td>\n",
       "    </tr>\n",
       "  </tbody>\n",
       "</table>\n",
       "</div>"
      ],
      "text/plain": [
       "                     date                                           location  \\\n",
       "0  2013/01/18 05:00:00+00            ROBERTSON RD btwn MOODIE DR & VANIER RD   \n",
       "1  2013/01/20 05:00:00+00      FALLOWFIELD RD btwn EAGLESON RD & RICHMOND RD   \n",
       "2  2013/01/03 05:00:00+00                              FIFTH AVE @ RUPERT ST   \n",
       "3  2013/01/12 05:00:00+00                           BIRCH AVE @ FARNHAM CRES   \n",
       "4  2013/01/11 05:00:00+00  ALESTHER ST btwn QUEEN MARY ST & PRINCE ALBERT ST   \n",
       "\n",
       "              x          y  longitude   latitude         environment  \\\n",
       "0  357144.87500  5020503.5 -75.832298  45.322533          01 - Clear   \n",
       "1  356860.18750  5013034.5 -75.836708  45.255344  05 - Drifting Snow   \n",
       "2  368589.71875  5029516.5 -75.685158  45.402679           03 - Snow   \n",
       "3  370292.90625  5035187.0 -75.662651  45.453541          01 - Clear   \n",
       "4  372133.18750  5032130.5 -75.639542  45.425865           02 - Rain   \n",
       "\n",
       "           light surface_condition  traffic_control traffic_control_condition  \\\n",
       "0      07 - Dark          01 - Dry  10 - No control                       NaN   \n",
       "1  01 - Daylight          06 - Ice  10 - No control                       NaN   \n",
       "2  01 - Daylight          06 - Ice   02 - Stop sign          01 - Functioning   \n",
       "3  01 - Daylight          02 - Wet   02 - Stop sign          01 - Functioning   \n",
       "4      07 - Dark          02 - Wet  10 - No control                       NaN   \n",
       "\n",
       "  collision_classification                  impact_type  no_of_pedestrians  \\\n",
       "0    02 - Non-fatal injury                   02 - Angle                0.0   \n",
       "1           03 - P.D. only             01 - Approaching                0.0   \n",
       "2           03 - P.D. only                   02 - Angle                0.0   \n",
       "3           03 - P.D. only                   02 - Angle                0.0   \n",
       "4           03 - P.D. only  06 - SMV unattended vehicle                0.0   \n",
       "\n",
       "   fid  \n",
       "0    1  \n",
       "1    2  \n",
       "2    3  \n",
       "3    4  \n",
       "4    5  "
      ]
     },
     "execution_count": 9,
     "metadata": {},
     "output_type": "execute_result"
    }
   ],
   "source": [
    "df = pd.concat([dfa, df5, df6, df7], sort = False) \n",
    "\n",
    "df.drop(['time', 'collision_id'], axis =1, inplace = True)\n",
    "print(\"Data size\", df.shape)\n",
    "df.head() "
   ]
  },
  {
   "cell_type": "markdown",
   "metadata": {},
   "source": [
    "# Features From Date Variable"
   ]
  },
  {
   "cell_type": "code",
   "execution_count": 11,
   "metadata": {},
   "outputs": [],
   "source": [
    "df['date'] = pd.to_datetime(df['date'])\n",
    "df['collision_year'] = df['date'].dt.year\n",
    "df['collision_month'] = df['date'].dt.month_name() \n",
    "df['collision_day'] = df['date'].dt.day_name()\n",
    "df['collision_hour'] = df['date'].dt.hour"
   ]
  },
  {
   "cell_type": "code",
   "execution_count": 12,
   "metadata": {},
   "outputs": [],
   "source": [
    "# Drop duplicate rows\n",
    "df.drop_duplicates(inplace = True) "
   ]
  },
  {
   "cell_type": "markdown",
   "metadata": {},
   "source": [
    "## Save data"
   ]
  },
  {
   "cell_type": "code",
   "execution_count": 13,
   "metadata": {},
   "outputs": [],
   "source": [
    "df.to_csv('../data/clean_data.csv', index = False)"
   ]
  },
  {
   "cell_type": "code",
   "execution_count": null,
   "metadata": {},
   "outputs": [],
   "source": []
  }
 ],
 "metadata": {
  "kernelspec": {
   "display_name": "Python 3",
   "language": "python",
   "name": "python3"
  },
  "language_info": {
   "codemirror_mode": {
    "name": "ipython",
    "version": 3
   },
   "file_extension": ".py",
   "mimetype": "text/x-python",
   "name": "python",
   "nbconvert_exporter": "python",
   "pygments_lexer": "ipython3",
   "version": "3.7.7"
  }
 },
 "nbformat": 4,
 "nbformat_minor": 2
}
