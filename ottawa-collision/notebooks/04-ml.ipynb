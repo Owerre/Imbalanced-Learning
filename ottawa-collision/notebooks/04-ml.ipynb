{
 "cells": [
  {
   "cell_type": "markdown",
   "metadata": {},
   "source": [
    "# Imbalanced Supervised Machine Learning\n",
    "\n",
    "In this notebook, we train 4 different supervised ML models on the imbalanced dataset: \n",
    "\n",
    "1). Logistic Regression\n",
    "\n",
    "2). Support Vector Machine classifier\n",
    "\n",
    "3). Random Forest classifier\n",
    "\n",
    "4). XGBoost classifier\n",
    "\n",
    "The class distribution is 99.8 $\\%$ majority class and 0.2 $\\%$ minority class. The resulting  performance metrics of the training set show that none of these models predicted the minority class although the overall accuracy of the models are 99 $\\%$. This shows that accuracy is not a good performance measure for imbalanced datasets. \n",
    "\n",
    "The optimizimation of the area under the precision-recall (AUPR) curve and the area under the receiver operating characteristic (AUROC) curve does not give any improvement on the predictive power of the models, so we optimized the recall.  \n",
    "\n",
    "SMOTE in combination with XGBoost classifier was applied on the training set, but it did not give any improvement on the imbalanced test set."
   ]
  },
  {
   "cell_type": "code",
   "execution_count": 1,
   "metadata": {},
   "outputs": [],
   "source": [
    "%matplotlib inline\n",
    "\n",
    "# Ignore deprecated warning\n",
    "import warnings\n",
    "warnings.filterwarnings(\"ignore\")\n",
    "\n",
    "# Data manipulation\n",
    "import pandas as pd\n",
    "import numpy as np\n",
    "\n",
    "# Data visualization\n",
    "import matplotlib.pyplot as plt\n",
    "import seaborn as sns\n",
    "\n",
    "# Set font scale and style\n",
    "plt.rcParams.update({'font.size': 15})\n",
    "\n",
    "# Resampling\n",
    "from imblearn.under_sampling import RandomUnderSampler\n",
    "from imblearn.over_sampling import SMOTE\n",
    "\n",
    "# Machine learning models\n",
    "import xgboost as xgb\n",
    "from xgboost.sklearn import XGBClassifier\n",
    "from sklearn.ensemble import RandomForestClassifier\n",
    "from sklearn.linear_model import LogisticRegression\n",
    "from sklearn.svm import SVC\n",
    "\n",
    "# Grid search and model selection\n",
    "from sklearn.model_selection import GridSearchCV, RandomizedSearchCV\n",
    "from sklearn.model_selection import train_test_split\n",
    "\n",
    "# Model performance metrics\n",
    "from sklearn.model_selection import cross_val_score, cross_val_predict\n",
    "from sklearn.metrics import confusion_matrix, classification_report\n",
    "from sklearn.metrics import  accuracy_score, auc,recall_score,precision_recall_curve\n",
    "from sklearn.metrics import roc_curve, roc_auc_score, average_precision_score\n",
    "\n",
    "# Pickle\n",
    "import joblib"
   ]
  },
  {
   "cell_type": "code",
   "execution_count": 2,
   "metadata": {},
   "outputs": [],
   "source": [
    "# Import custom class\n",
    "%run -i '../src/helper/transfxn.py'\n",
    "%run -i '../src/helper/ml.py'\n",
    "%run -i '../src/helper/imputer.py'"
   ]
  },
  {
   "cell_type": "markdown",
   "metadata": {},
   "source": [
    "# Load data"
   ]
  },
  {
   "cell_type": "code",
   "execution_count": 3,
   "metadata": {},
   "outputs": [
    {
     "output_type": "stream",
     "name": "stdout",
     "text": [
      "Data size (89990, 29)\n"
     ]
    },
    {
     "output_type": "execute_result",
     "data": {
      "text/plain": [
       "  collision_id                                           location  \\\n",
       "0      14-4626                      LAFONTAINE AVE @ MCARTHUR AVE   \n",
       "1      14-3461                          COVENTRY RD @ VANIER PKWY   \n",
       "2      19-2334  CARIBOU AVE btwn EVELYN ST & CARLETON CATHCART...   \n",
       "3      13-6591  SPRUCE RIDGE RD btwn RICHARDSON SIDE RD & HAZE...   \n",
       "4      15-6107          ST. JOSEPH BLVD/OLD MONTREAL RD @ TRIM RD   \n",
       "\n",
       "              x            y  longitude   latitude environment          light  \\\n",
       "0  370949.25000  5032770.500 -75.654587  45.431740   02 - Rain  01 - Daylight   \n",
       "1  370676.50000  5031613.500 -75.658226  45.421356  01 - Clear  01 - Daylight   \n",
       "2  350997.80060  5013360.459 -75.911368  45.258686  01 - Clear   00 - Unknown   \n",
       "3  343959.34375  5013529.000 -76.001030  45.260628   02 - Rain  01 - Daylight   \n",
       "4  384685.53125  5039288.500 -75.477997  45.488949  01 - Clear  01 - Daylight   \n",
       "\n",
       "  surface_condition      traffic_control  ... day_ct month_ct year_ct  \\\n",
       "0          02 - Wet  01 - Traffic signal  ...  14459     5607   14843   \n",
       "1          01 - Dry  01 - Traffic signal  ...  15536     6654   14843   \n",
       "2  05 - Packed snow      10 - No control  ...  14459     8927   16399   \n",
       "3          02 - Wet      10 - No control  ...  10540     7078   15156   \n",
       "4          01 - Dry      11 - Roundabout  ...  15536     6741   15080   \n",
       "\n",
       "   avg_day_per_mnth  avg_mnth_per_year  hour_ct impact_type_ct envmt_ct  \\\n",
       "0          2.578741           0.377754     5336           9555   8146.0   \n",
       "1          2.334836           0.448292     4428           9555  70380.0   \n",
       "2          1.619693           0.544362     3192           7225  70380.0   \n",
       "3          1.489121           0.467010     2092          14638   8146.0   \n",
       "4          2.304703           0.447016     5110          14638  70380.0   \n",
       "\n",
       "   scond_ct  avg_hr_per_day  \n",
       "0     15812        0.369044  \n",
       "1     58569        0.285015  \n",
       "2      2407        0.220762  \n",
       "3     15812        0.198482  \n",
       "4     58569        0.328913  \n",
       "\n",
       "[5 rows x 29 columns]"
      ],
      "text/html": "<div>\n<style scoped>\n    .dataframe tbody tr th:only-of-type {\n        vertical-align: middle;\n    }\n\n    .dataframe tbody tr th {\n        vertical-align: top;\n    }\n\n    .dataframe thead th {\n        text-align: right;\n    }\n</style>\n<table border=\"1\" class=\"dataframe\">\n  <thead>\n    <tr style=\"text-align: right;\">\n      <th></th>\n      <th>collision_id</th>\n      <th>location</th>\n      <th>x</th>\n      <th>y</th>\n      <th>longitude</th>\n      <th>latitude</th>\n      <th>environment</th>\n      <th>light</th>\n      <th>surface_condition</th>\n      <th>traffic_control</th>\n      <th>...</th>\n      <th>day_ct</th>\n      <th>month_ct</th>\n      <th>year_ct</th>\n      <th>avg_day_per_mnth</th>\n      <th>avg_mnth_per_year</th>\n      <th>hour_ct</th>\n      <th>impact_type_ct</th>\n      <th>envmt_ct</th>\n      <th>scond_ct</th>\n      <th>avg_hr_per_day</th>\n    </tr>\n  </thead>\n  <tbody>\n    <tr>\n      <th>0</th>\n      <td>14-4626</td>\n      <td>LAFONTAINE AVE @ MCARTHUR AVE</td>\n      <td>370949.25000</td>\n      <td>5032770.500</td>\n      <td>-75.654587</td>\n      <td>45.431740</td>\n      <td>02 - Rain</td>\n      <td>01 - Daylight</td>\n      <td>02 - Wet</td>\n      <td>01 - Traffic signal</td>\n      <td>...</td>\n      <td>14459</td>\n      <td>5607</td>\n      <td>14843</td>\n      <td>2.578741</td>\n      <td>0.377754</td>\n      <td>5336</td>\n      <td>9555</td>\n      <td>8146.0</td>\n      <td>15812</td>\n      <td>0.369044</td>\n    </tr>\n    <tr>\n      <th>1</th>\n      <td>14-3461</td>\n      <td>COVENTRY RD @ VANIER PKWY</td>\n      <td>370676.50000</td>\n      <td>5031613.500</td>\n      <td>-75.658226</td>\n      <td>45.421356</td>\n      <td>01 - Clear</td>\n      <td>01 - Daylight</td>\n      <td>01 - Dry</td>\n      <td>01 - Traffic signal</td>\n      <td>...</td>\n      <td>15536</td>\n      <td>6654</td>\n      <td>14843</td>\n      <td>2.334836</td>\n      <td>0.448292</td>\n      <td>4428</td>\n      <td>9555</td>\n      <td>70380.0</td>\n      <td>58569</td>\n      <td>0.285015</td>\n    </tr>\n    <tr>\n      <th>2</th>\n      <td>19-2334</td>\n      <td>CARIBOU AVE btwn EVELYN ST &amp; CARLETON CATHCART...</td>\n      <td>350997.80060</td>\n      <td>5013360.459</td>\n      <td>-75.911368</td>\n      <td>45.258686</td>\n      <td>01 - Clear</td>\n      <td>00 - Unknown</td>\n      <td>05 - Packed snow</td>\n      <td>10 - No control</td>\n      <td>...</td>\n      <td>14459</td>\n      <td>8927</td>\n      <td>16399</td>\n      <td>1.619693</td>\n      <td>0.544362</td>\n      <td>3192</td>\n      <td>7225</td>\n      <td>70380.0</td>\n      <td>2407</td>\n      <td>0.220762</td>\n    </tr>\n    <tr>\n      <th>3</th>\n      <td>13-6591</td>\n      <td>SPRUCE RIDGE RD btwn RICHARDSON SIDE RD &amp; HAZE...</td>\n      <td>343959.34375</td>\n      <td>5013529.000</td>\n      <td>-76.001030</td>\n      <td>45.260628</td>\n      <td>02 - Rain</td>\n      <td>01 - Daylight</td>\n      <td>02 - Wet</td>\n      <td>10 - No control</td>\n      <td>...</td>\n      <td>10540</td>\n      <td>7078</td>\n      <td>15156</td>\n      <td>1.489121</td>\n      <td>0.467010</td>\n      <td>2092</td>\n      <td>14638</td>\n      <td>8146.0</td>\n      <td>15812</td>\n      <td>0.198482</td>\n    </tr>\n    <tr>\n      <th>4</th>\n      <td>15-6107</td>\n      <td>ST. JOSEPH BLVD/OLD MONTREAL RD @ TRIM RD</td>\n      <td>384685.53125</td>\n      <td>5039288.500</td>\n      <td>-75.477997</td>\n      <td>45.488949</td>\n      <td>01 - Clear</td>\n      <td>01 - Daylight</td>\n      <td>01 - Dry</td>\n      <td>11 - Roundabout</td>\n      <td>...</td>\n      <td>15536</td>\n      <td>6741</td>\n      <td>15080</td>\n      <td>2.304703</td>\n      <td>0.447016</td>\n      <td>5110</td>\n      <td>14638</td>\n      <td>70380.0</td>\n      <td>58569</td>\n      <td>0.328913</td>\n    </tr>\n  </tbody>\n</table>\n<p>5 rows × 29 columns</p>\n</div>"
     },
     "metadata": {},
     "execution_count": 3
    }
   ],
   "source": [
    "df = pd.read_csv('../data/feat_engr_data.csv') # Load cleaned data\n",
    "\n",
    "df = df.sample(frac =1).reset_index(drop = True) # shuffle\n",
    "\n",
    "print('Data size',df.shape) # data size\n",
    "df.head()"
   ]
  },
  {
   "cell_type": "markdown",
   "metadata": {},
   "source": [
    "# Class distribution"
   ]
  },
  {
   "cell_type": "code",
   "execution_count": 6,
   "metadata": {},
   "outputs": [
    {
     "output_type": "execute_result",
     "data": {
      "text/plain": [
       "             labels  count  percentage\n",
       "0         P.D. only  73454   81.624625\n",
       "1  Non-fatal injury  16392   18.215357\n",
       "2      Fatal injury    144    0.160018"
      ],
      "text/html": "<div>\n<style scoped>\n    .dataframe tbody tr th:only-of-type {\n        vertical-align: middle;\n    }\n\n    .dataframe tbody tr th {\n        vertical-align: top;\n    }\n\n    .dataframe thead th {\n        text-align: right;\n    }\n</style>\n<table border=\"1\" class=\"dataframe\">\n  <thead>\n    <tr style=\"text-align: right;\">\n      <th></th>\n      <th>labels</th>\n      <th>count</th>\n      <th>percentage</th>\n    </tr>\n  </thead>\n  <tbody>\n    <tr>\n      <th>0</th>\n      <td>P.D. only</td>\n      <td>73454</td>\n      <td>81.624625</td>\n    </tr>\n    <tr>\n      <th>1</th>\n      <td>Non-fatal injury</td>\n      <td>16392</td>\n      <td>18.215357</td>\n    </tr>\n    <tr>\n      <th>2</th>\n      <td>Fatal injury</td>\n      <td>144</td>\n      <td>0.160018</td>\n    </tr>\n  </tbody>\n</table>\n</div>"
     },
     "metadata": {},
     "execution_count": 6
    }
   ],
   "source": [
    "label_pct = df['class'].value_counts(normalize = True)*100\n",
    "label_ct =  df['class'].value_counts()\n",
    "pd.DataFrame({'labels': label_pct.index, 'count': label_ct.values, 'percentage': label_pct.values})"
   ]
  },
  {
   "cell_type": "code",
   "execution_count": 7,
   "metadata": {},
   "outputs": [],
   "source": [
    "# Create a binary class\n",
    "map_dict = {'Non-fatal injury':0, 'P.D. only': 0, 'Fatal injury':1}\n",
    "df['class'].replace(map_dict, inplace=True)"
   ]
  },
  {
   "cell_type": "markdown",
   "metadata": {},
   "source": [
    "# Prepare the Data for Machine Learning"
   ]
  },
  {
   "cell_type": "code",
   "execution_count": 10,
   "metadata": {},
   "outputs": [],
   "source": [
    "# Feature matrix and class label\n",
    "cols_to_drop = ['collision_id', 'fid', 'no_of_pedestrians', 'location', 'light', 'longitude', 'latitude','class']\n",
    "X, y = df.drop(cols_to_drop, axis = 1), df['class']"
   ]
  },
  {
   "cell_type": "code",
   "execution_count": 11,
   "metadata": {},
   "outputs": [
    {
     "output_type": "stream",
     "name": "stdout",
     "text": [
      "Data size: (89990, 21) (89990,)\n"
     ]
    }
   ],
   "source": [
    "print('Data size:', X.shape, y.shape)"
   ]
  },
  {
   "cell_type": "markdown",
   "metadata": {},
   "source": [
    "# Create a test set\n",
    "We now split the data set into $80\\%$ training set and $20\\%$ test set in a stratify fashion"
   ]
  },
  {
   "cell_type": "code",
   "execution_count": 12,
   "metadata": {},
   "outputs": [],
   "source": [
    "X_train, X_test, y_train, y_test = train_test_split(X,y, test_size = 0.2, random_state = 42, stratify = y)"
   ]
  },
  {
   "cell_type": "code",
   "execution_count": 13,
   "metadata": {},
   "outputs": [
    {
     "output_type": "stream",
     "name": "stdout",
     "text": [
      "Training set size: (71992, 21) (71992,)\nTest set size: (17998, 21) (17998,)\n"
     ]
    }
   ],
   "source": [
    "print('Training set size:', X_train.shape, y_train.shape)\n",
    "print('Test set size:', X_test.shape, y_test.shape)"
   ]
  },
  {
   "cell_type": "code",
   "execution_count": 14,
   "metadata": {},
   "outputs": [
    {
     "output_type": "stream",
     "name": "stdout",
     "text": [
      "Training set class distribution:\n 0    99.84026\n1     0.15974\nName: class, dtype: float64\n------------------------------\nTest set class distribution:\n 0    99.838871\n1     0.161129\nName: class, dtype: float64\n"
     ]
    }
   ],
   "source": [
    "print('Training set class distribution:\\n', (y_train.value_counts()/X_train.shape[0])*100)\n",
    "print('--' * 15)\n",
    "print('Test set class distribution:\\n', (y_test.value_counts()/X_test.shape[0])*100)"
   ]
  },
  {
   "cell_type": "markdown",
   "metadata": {},
   "source": [
    "# Transformation pipeline"
   ]
  },
  {
   "cell_type": "code",
   "execution_count": 15,
   "metadata": {},
   "outputs": [],
   "source": [
    "# Instantiate the  classes\n",
    "transfxn = TransformationPipeline()\n",
    "imputer = DataFrameImputer()"
   ]
  },
  {
   "cell_type": "markdown",
   "metadata": {},
   "source": [
    "# 1. Impute missing values"
   ]
  },
  {
   "cell_type": "code",
   "execution_count": 16,
   "metadata": {},
   "outputs": [],
   "source": [
    "# Fit transform the training set\n",
    "X_train_imputed = imputer.fit_transform(X_train)\n",
    "\n",
    "# Transform the test set\n",
    "X_test_imputed = imputer.fit_transform(X_test)"
   ]
  },
  {
   "cell_type": "markdown",
   "metadata": {},
   "source": [
    "# 2. Preprocessing"
   ]
  },
  {
   "cell_type": "code",
   "execution_count": 17,
   "metadata": {},
   "outputs": [],
   "source": [
    "# Transform and scale data\n",
    "X_train_scaled, X_test_scaled, feat_names = transfxn.preprocessing(X_train_imputed, X_test_imputed)"
   ]
  },
  {
   "cell_type": "code",
   "execution_count": 18,
   "metadata": {},
   "outputs": [
    {
     "output_type": "stream",
     "name": "stdout",
     "text": [
      "Training set size after pre-processing: (71992, 78)\nTest set size after pre-processing: (17998, 78)\n"
     ]
    }
   ],
   "source": [
    "# Size of the data after pre-processing\n",
    "print('Training set size after pre-processing:', X_train_scaled.shape)\n",
    "print('Test set size after pre-processing:', X_test_scaled.shape)"
   ]
  },
  {
   "cell_type": "code",
   "execution_count": 19,
   "metadata": {},
   "outputs": [],
   "source": [
    "# Convert the class labels to arrays\n",
    "y_train, y_test = y_train.values,  y_test.values"
   ]
  },
  {
   "cell_type": "markdown",
   "metadata": {},
   "source": [
    "# A. Model Selection by Cross-Validation"
   ]
  },
  {
   "cell_type": "code",
   "execution_count": 20,
   "metadata": {},
   "outputs": [],
   "source": [
    "# Instantiate the class\n",
    "model = SupervisedModels()"
   ]
  },
  {
   "cell_type": "markdown",
   "metadata": {},
   "source": [
    "## A-1. Logistic Regression\n",
    "Logistic regression predicted only one class - the majority class, although the accuracy and AUROC are very high"
   ]
  },
  {
   "cell_type": "code",
   "execution_count": 21,
   "metadata": {},
   "outputs": [
    {
     "output_type": "stream",
     "name": "stdout",
     "text": [
      "5-Fold cross-validation results for Logistic Regression\n------------------------------------------------------------\nAccuracy (std): 0.998403 (0.000000)\nAUROC: 0.801832\nAUPRC: 0.006402\nPredicted classes: [0]\nConfusion matrix:\n [[71877     0]\n [  115     0]]\nClassification report:\n               precision    recall  f1-score   support\n\n           0       1.00      1.00      1.00     71877\n           1       0.00      0.00      0.00       115\n\n    accuracy                           1.00     71992\n   macro avg       0.50      0.50      0.50     71992\nweighted avg       1.00      1.00      1.00     71992\n\n------------------------------------------------------------\n"
     ]
    }
   ],
   "source": [
    "log_clf = LogisticRegression()   \n",
    "model.eval_metrics_cv(log_clf, X_train_scaled, y_train, cv_fold = 5, scoring = 'accuracy',\n",
    "                      model_nm = \"Logistic Regression\")"
   ]
  },
  {
   "cell_type": "code",
   "execution_count": 18,
   "metadata": {},
   "outputs": [
    {
     "data": {
      "text/plain": [
       "625.0173913043478"
      ]
     },
     "execution_count": 18,
     "metadata": {},
     "output_type": "execute_result"
    }
   ],
   "source": [
    "# Class ratio of the negative class \n",
    "# to the positive class\n",
    "neg = y_train == 0\n",
    "pos = y_train == 1\n",
    "class_ratio = np.sum(neg)/np.sum(pos)\n",
    "class_ratio"
   ]
  },
  {
   "cell_type": "code",
   "execution_count": 19,
   "metadata": {},
   "outputs": [
    {
     "name": "stdout",
     "output_type": "stream",
     "text": [
      "Fitting 5 folds for each of 18 candidates, totalling 90 fits\n",
      "Grid search best Recall score: 0.6086956521739131\n",
      "Grid search best parameters: {'class_weight': 'balanced', 'C': 1}\n",
      "\n",
      "5-Fold cross-validation results for Logistic Regression with best hyperparameters\n",
      "------------------------------------------------------------\n",
      "Accuracy (std): 0.798686 (0.008539)\n",
      "AUROC: 0.757899\n",
      "AUPRC: 0.012773\n",
      "Predicted classes: [0 1]\n",
      "Confusion matrix:\n",
      " [[57429 14448]\n",
      " [   45    70]]\n",
      "Classification report:\n",
      "               precision    recall  f1-score   support\n",
      "\n",
      "           0       1.00      0.80      0.89     71877\n",
      "           1       0.00      0.61      0.01       115\n",
      "\n",
      "    accuracy                           0.80     71992\n",
      "   macro avg       0.50      0.70      0.45     71992\n",
      "weighted avg       1.00      0.80      0.89     71992\n",
      "\n",
      "------------------------------------------------------------\n"
     ]
    }
   ],
   "source": [
    "# Range of hyperparameters\n",
    "params = {'C': [2**x for x in range(-2,9,2)], \n",
    "          'class_weight': ['balanced', {0:1, 1:3}, {0:1, 1:class_ratio}]\n",
    "          }\n",
    "                             \n",
    "# Grid search\n",
    "gsearch_log = RandomizedSearchCV(estimator = log_clf, param_distributions = params, \n",
    "                                scoring = 'recall', cv = 5, n_jobs = -1, \n",
    "                                 n_iter = 200,random_state = 42, verbose = 1)\n",
    "\n",
    "# Fit the  training set\n",
    "gsearch_log.fit(X_train_scaled, y_train)\n",
    "\n",
    "# Pickle trained model\n",
    "joblib.dump(gsearch_log.best_estimator_, '../src/model/log_clf.pkl')\n",
    "\n",
    "# Print results\n",
    "print('Grid search best Recall score:', gsearch_log.best_score_)\n",
    "print('Grid search best parameters:', gsearch_log.best_params_)\n",
    "print()\n",
    "model.eval_metrics_cv(gsearch_log.best_estimator_, X_train_scaled, y_train, cv_fold = 5,\n",
    " scoring = 'accuracy', model_nm = \"Logistic Regression with best hyperparameters\")"
   ]
  },
  {
   "cell_type": "markdown",
   "metadata": {},
   "source": [
    "## A-2. Support Vector Machine"
   ]
  },
  {
   "cell_type": "code",
   "execution_count": null,
   "metadata": {},
   "outputs": [],
   "source": [
    "svm_clf = SVC(probability = True, kernel = 'rbf')   \n",
    "model.eval_metrics_cv(svm_clf, X_train_scaled, y_train, cv_fold = 5, scoring = 'accuracy', \n",
    "                      model_nm = \"SVM Classifier\")"
   ]
  },
  {
   "cell_type": "code",
   "execution_count": null,
   "metadata": {},
   "outputs": [],
   "source": [
    "# Range of hyperparameters\n",
    "params = {'C': [2**x for x in range(-2,11,2)], \n",
    "          'gamma': [2**x for x in range(-11,1,2)],\n",
    "          'class_weight': [None, 'balanced',{0:1, 1:class_ratio}]\n",
    "         } \n",
    "                                                              \n",
    "# Randomized search for SVM\n",
    "svm_clf = SVC(probability = True, kernel = 'rbf')\n",
    "rsearch_svm = RandomizedSearchCV(svm_clf, param_distributions = params, cv = 5,\n",
    "                                 scoring = 'recall', n_iter =200,\n",
    "                                 n_jobs = -1,random_state = 42, verbose = 1) \n",
    "# Fit the training set\n",
    "rsearch_svm.fit(X_train_scaled, y_train)\n",
    "\n",
    "# Pickle trained model\n",
    "joblib.dump(rsearch_svm.best_estimator_, '../src/model/svm_clf.pkl')\n",
    "\n",
    "print('Best recall score: ', rsearch_svm.best_score_)\n",
    "print('Best parameters: ', rsearch_svm.best_params_)\n",
    "print()\n",
    "model.eval_metrics_cv(rsearch_svm.best_estimator_, X_train_scaled, y_train, cv_fold = 5,\n",
    " scoring = 'accuracy', model_nm = \"SVM Classifier with Best Hyperparameters\")"
   ]
  },
  {
   "cell_type": "markdown",
   "metadata": {},
   "source": [
    "## A-3. Random Forest"
   ]
  },
  {
   "cell_type": "code",
   "execution_count": 20,
   "metadata": {
    "scrolled": true
   },
   "outputs": [
    {
     "name": "stdout",
     "output_type": "stream",
     "text": [
      "5-Fold cross-validation results for Random Forest Classifier\n",
      "------------------------------------------------------------\n",
      "Accuracy (std): 0.998389 (0.000028)\n",
      "AUROC: 0.626212\n",
      "AUPRC: 0.005905\n",
      "Predicted classes: [0 1]\n",
      "Confusion matrix:\n",
      " [[71876     1]\n",
      " [  115     0]]\n",
      "Classification report:\n",
      "               precision    recall  f1-score   support\n",
      "\n",
      "           0       1.00      1.00      1.00     71877\n",
      "           1       0.00      0.00      0.00       115\n",
      "\n",
      "    accuracy                           1.00     71992\n",
      "   macro avg       0.50      0.50      0.50     71992\n",
      "weighted avg       1.00      1.00      1.00     71992\n",
      "\n",
      "------------------------------------------------------------\n"
     ]
    }
   ],
   "source": [
    "rf_clf = RandomForestClassifier(random_state = 42)                         \n",
    "model.eval_metrics_cv(rf_clf, X_train_scaled, y_train, cv_fold = 5, scoring = 'accuracy', \n",
    "                      model_nm = \"Random Forest Classifier\")"
   ]
  },
  {
   "cell_type": "code",
   "execution_count": 21,
   "metadata": {},
   "outputs": [
    {
     "data": {
      "text/plain": [
       "Text(0.5, 1.0, 'Top 20 Feature Importances for Random Forest Classifier')"
      ]
     },
     "execution_count": 21,
     "metadata": {},
     "output_type": "execute_result"
    },
    {
     "data": {
      "image/png": "[encoded data removed]",
      "text/plain": [
       "<Figure size 1296x720 with 1 Axes>"
      ]
     },
     "metadata": {
      "needs_background": "light"
     },
     "output_type": "display_data"
    }
   ],
   "source": [
    "# Compute feature importances\n",
    "importances_df = pd.DataFrame({'Features': feat_names, \n",
    "                                'Importances': rf_clf.feature_importances_\n",
    "                              })\n",
    "# Bar plot\n",
    "importances_df.sort_values('Importances', ascending = True, inplace = True)\n",
    "importances_df.set_index('Features', inplace = True)\n",
    "importances_df.tail(20).plot(kind='barh', figsize = (18,10))\n",
    "plt.title('Top 20 Feature Importances for Random Forest Classifier')"
   ]
  },
  {
   "cell_type": "markdown",
   "metadata": {},
   "source": [
    "## A-4. XGBoost"
   ]
  },
  {
   "cell_type": "code",
   "execution_count": 22,
   "metadata": {},
   "outputs": [
    {
     "name": "stdout",
     "output_type": "stream",
     "text": [
      "5-Fold cross-validation results for XGBoost Classifier\n",
      "------------------------------------------------------------\n",
      "Accuracy (std): 0.998389 (0.000028)\n",
      "AUROC: 0.731084\n",
      "AUPRC: 0.005353\n",
      "Predicted classes: [0 1]\n",
      "Confusion matrix:\n",
      " [[71876     1]\n",
      " [  115     0]]\n",
      "Classification report:\n",
      "               precision    recall  f1-score   support\n",
      "\n",
      "           0       1.00      1.00      1.00     71877\n",
      "           1       0.00      0.00      0.00       115\n",
      "\n",
      "    accuracy                           1.00     71992\n",
      "   macro avg       0.50      0.50      0.50     71992\n",
      "weighted avg       1.00      1.00      1.00     71992\n",
      "\n",
      "------------------------------------------------------------\n"
     ]
    }
   ],
   "source": [
    "param_dist = {'objective':'binary:logistic', 'eval_metric':'logloss', 'random_state':42}\n",
    "\n",
    "xgb_clf = XGBClassifier(**param_dist) \n",
    "model.eval_metrics_cv(xgb_clf, X_train_scaled, y_train, cv_fold = 5, scoring = 'accuracy', \n",
    "                      model_nm = \"XGBoost Classifier\")"
   ]
  },
  {
   "cell_type": "code",
   "execution_count": 23,
   "metadata": {},
   "outputs": [
    {
     "data": {
      "text/plain": [
       "Text(0.5, 1.0, 'Top 20 Feature Importances for XGBoost Classifier')"
      ]
     },
     "execution_count": 23,
     "metadata": {},
     "output_type": "execute_result"
    },
    {
     "data": {
      "image/png": "[encoded data removed]",
      "text/plain": [
       "<Figure size 1296x720 with 1 Axes>"
      ]
     },
     "metadata": {
      "needs_background": "light"
     },
     "output_type": "display_data"
    }
   ],
   "source": [
    "# Compute feature importances\n",
    "importances_df = pd.DataFrame({'Features': feat_names,\n",
    "                                 'Importances': xgb_clf.feature_importances_\n",
    "                              })\n",
    "# Bar plot\n",
    "importances_df.sort_values('Importances', ascending = True, inplace = True)\n",
    "importances_df.set_index('Features', inplace = True)\n",
    "importances_df.tail(20).plot(kind='barh', figsize = (18,10))\n",
    "plt.title('Top 20 Feature Importances for XGBoost Classifier')"
   ]
  },
  {
   "cell_type": "markdown",
   "metadata": {},
   "source": [
    "# B. Hyperparameter tuning - XGB\n",
    "Based on the results above, we select XGBoost and tune the Hyperparameters"
   ]
  },
  {
   "cell_type": "code",
   "execution_count": null,
   "metadata": {},
   "outputs": [
    {
     "name": "stdout",
     "output_type": "stream",
     "text": [
      "Fitting 5 folds for each of 16 candidates, totalling 80 fits\n"
     ]
    }
   ],
   "source": [
    "# Class ratio of the negative class to the positive class\n",
    "neg = y_train == 0\n",
    "pos = y_train == 1\n",
    "class_ratio = np.sum(neg)/np.sum(pos)\n",
    "\n",
    "# Range of hyperparameters\n",
    "params = {'subsample':[i/10 for i in range(5,9)],'colsample_bytree': [i/10 for i in range(5,9)]}\n",
    "\n",
    "# Randomized search\n",
    "param_dist = {'objective':'binary:logistic', 'eval_metric':'logloss', 'n_estimators':2000,\n",
    "              'scale_pos_weight':class_ratio, 'learning_rate':0.1, \n",
    "              'min_child_weight':5, 'max_depth':9,'random_state':42\n",
    "             }\n",
    "              \n",
    "xgb_clf = XGBClassifier(**param_dist)\n",
    "rsearch_xgb = RandomizedSearchCV(estimator = xgb_clf, param_distributions = params, \n",
    "                                  scoring = 'recall', cv = 5, n_jobs = -1, n_iter = 200, \n",
    "                                  random_state = 42, verbose = 1)   \n",
    "# Fit the  training set                                                            \n",
    "rsearch_xgb.fit(X_train_scaled, y_train)\n",
    "\n",
    "# Pickle trained model\n",
    "joblib.dump(rsearch_xgb.best_estimator_, '../src/model/xgb_clf.pkl')\n",
    "\n",
    "# Print results\n",
    "print('Randomized search best recall score:', rsearch_xgb.best_score_) \n",
    "print('Randomized search best hyperparameters:', rsearch_xgb.best_params_) \n",
    "print()\n",
    "model.eval_metrics_cv(rsearch_xgb.best_estimator_, X_train_scaled, y_train, cv_fold = 5,\n",
    " scoring = 'accuracy', model_nm = \"XGBoost Classifier with best hyperparameters\")"
   ]
  },
  {
   "cell_type": "markdown",
   "metadata": {},
   "source": [
    "# C. Resampling Methods\n",
    "In this section, we will employ a resampling technique on the training set to balance the classes. However, the final prediction will be made on the imbalanced test set. The idea of resampling is to trick the classifier using a balanced dataset.  "
   ]
  },
  {
   "cell_type": "markdown",
   "metadata": {},
   "source": [
    "## C-1. SMOTE  combined with XGBoost Classifier\n",
    "In Synthetic Minority Over Sampling Technique (SMOTE), we generate synthetic oberservations to match the minority clas.\n",
    "SMOTE oversampled the minority class in the training set, so we now have equal class distribution. "
   ]
  },
  {
   "cell_type": "code",
   "execution_count": null,
   "metadata": {},
   "outputs": [],
   "source": [
    "# Over sample the minority class\n",
    "sm = SMOTE(random_state = 42)\n",
    "X_train_scaled_ovsm, y_train_ovsm = sm.fit_resample(X_train_scaled, y_train)"
   ]
  },
  {
   "cell_type": "code",
   "execution_count": null,
   "metadata": {},
   "outputs": [],
   "source": [
    "print('SMOTE training data size:', X_train_scaled_ovsm.shape, y_train_ovsm.shape)"
   ]
  },
  {
   "cell_type": "code",
   "execution_count": null,
   "metadata": {},
   "outputs": [],
   "source": [
    "print('Imbalanced training set class distribution:', np.bincount(y_train))\n",
    "print('SMOTE resampled training set class distribution:', np.bincount(y_train_ovsm))"
   ]
  },
  {
   "cell_type": "code",
   "execution_count": null,
   "metadata": {},
   "outputs": [],
   "source": [
    "# XGBoost cross-validation on the SMOTE dataset\n",
    "param_dist = {'objective':'binary:logistic', 'eval_metric':'logloss', 'learning_rate':0.1,\n",
    "            'random_state':42\n",
    "            }\n",
    "            \n",
    "xgb_ovsm  = XGBClassifier(**param_dist)\n",
    "model.eval_metrics_cv(xgb_ovsm, X_train_scaled_ovsm, y_train_ovsm, cv_fold = 5, \n",
    "                      scoring = 'accuracy', model_nm = \"SMOTE with XGBoost Classifier\")"
   ]
  },
  {
   "cell_type": "markdown",
   "metadata": {},
   "source": [
    "# D. Prediction on the Imbalanced Test Set \n",
    "In this section, we make our final prediction on the imbalanced dataset after training the model using the resampling techniques."
   ]
  },
  {
   "cell_type": "markdown",
   "metadata": {},
   "source": [
    "## D-1. Normal Imbalanced Dataset"
   ]
  },
  {
   "cell_type": "code",
   "execution_count": null,
   "metadata": {},
   "outputs": [],
   "source": [
    "xgb_clf = joblib.load('../src/model/xgb_clf.pkl') # Load trained model\n",
    "model.test_pred(rf_clf, X_train_scaled, y_train, X_test_scaled, y_test, model_nm = \"XBoost Classifier\")"
   ]
  },
  {
   "cell_type": "markdown",
   "metadata": {},
   "source": [
    "## D-2. SMOTE Dataset"
   ]
  },
  {
   "cell_type": "code",
   "execution_count": null,
   "metadata": {},
   "outputs": [],
   "source": [
    "model.test_pred(xgb_ovsm, X_train_scaled_ovsm, y_train_ovsm, X_test_scaled, y_test, model_nm = \"SMOTE with XGBoost Classifier\")"
   ]
  },
  {
   "cell_type": "markdown",
   "metadata": {},
   "source": [
    "# E.  ROC and PR Curves\n"
   ]
  },
  {
   "cell_type": "code",
   "execution_count": null,
   "metadata": {},
   "outputs": [],
   "source": [
    "plt.figure(figsize = (20,15))\n",
    "\n",
    "# Normal imbalanced distribution\n",
    "model.plot_roc_pr_curves(xgb_clf, X_train_scaled, y_train, X_test_scaled, y_test, cv_fold = 5,\n",
    "                       color= 'b', label = 'Normal (AUC= %0.2f)')\n",
    "                     \n",
    "# SMOTE distribution\n",
    "model.plot_roc_pr_curves(xgb_ovsm, X_train_scaled_ovsm, y_train_ovsm, X_test_scaled, y_test, \n",
    "                         cv_fold = 5, color= 'r', label = 'SMOTE (AUC= %0.2f)') "
   ]
  },
  {
   "cell_type": "code",
   "execution_count": null,
   "metadata": {},
   "outputs": [],
   "source": []
  }
 ],
 "metadata": {
  "kernelspec": {
   "name": "python394jvsc74a57bd0aee8b7b246df8f9039afb4144a1f6fd8d2ca17a180786b69acc140d282b71a49",
   "display_name": "Python 3.9.4 64-bit"
  },
  "language_info": {
   "codemirror_mode": {
    "name": "ipython",
    "version": 3
   },
   "file_extension": ".py",
   "mimetype": "text/x-python",
   "name": "python",
   "nbconvert_exporter": "python",
   "pygments_lexer": "ipython3",
   "version": "3.9.4"
  },
  "metadata": {
   "interpreter": {
    "hash": "aee8b7b246df8f9039afb4144a1f6fd8d2ca17a180786b69acc140d282b71a49"
   }
  }
 },
 "nbformat": 4,
 "nbformat_minor": 4
}