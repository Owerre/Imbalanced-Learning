{
 "cells": [
  {
   "cell_type": "markdown",
   "metadata": {},
   "source": [
    "# Feature Engineering\n",
    "In this notebook, we will engineer count based features based on existing features. We note that the number of features which can be engineered through count is very large"
   ]
  },
  {
   "cell_type": "code",
   "execution_count": 1,
   "metadata": {},
   "outputs": [],
   "source": [
    "# Ignore deprecated warning\n",
    "import warnings\n",
    "warnings.filterwarnings(\"ignore\")\n",
    "\n",
    "# Data manipulation\n",
    "%matplotlib inline\n",
    "import pandas as pd\n",
    "import numpy as np\n",
    "import time\n",
    "\n",
    "# Data visualization\n",
    "import matplotlib.pyplot as plt\n",
    "import seaborn as sns\n",
    "\n",
    "# Set font scale and style\n",
    "plt.rcParams.update({'font.size': 15})"
   ]
  },
  {
   "source": [
    "#  Load  data"
   ],
   "cell_type": "markdown",
   "metadata": {}
  },
  {
   "cell_type": "code",
   "execution_count": 2,
   "metadata": {},
   "outputs": [
    {
     "output_type": "stream",
     "name": "stdout",
     "text": [
      "Data size: (89990, 14)\n"
     ]
    },
    {
     "output_type": "execute_result",
     "data": {
      "text/plain": [
       "              x          y         environment          light  \\\n",
       "0  357144.87500  5020503.5          01 - Clear      07 - Dark   \n",
       "1  356860.18750  5013034.5  05 - Drifting Snow  01 - Daylight   \n",
       "2  368589.71875  5029516.5           03 - Snow  01 - Daylight   \n",
       "3  370292.90625  5035187.0          01 - Clear  01 - Daylight   \n",
       "4  372133.18750  5032130.5           02 - Rain      07 - Dark   \n",
       "\n",
       "  surface_condition  traffic_control traffic_control_condition  \\\n",
       "0          01 - Dry  10 - No control                       NaN   \n",
       "1          06 - Ice  10 - No control                       NaN   \n",
       "2          06 - Ice   02 - Stop sign          01 - Functioning   \n",
       "3          02 - Wet   02 - Stop sign          01 - Functioning   \n",
       "4          02 - Wet  10 - No control                       NaN   \n",
       "\n",
       "              class                  impact_type  no_of_pedestrians  c_year  \\\n",
       "0  Non-fatal injury                   02 - Angle                  0    2013   \n",
       "1         P.D. only             01 - Approaching                  0    2013   \n",
       "2         P.D. only                   02 - Angle                  0    2013   \n",
       "3         P.D. only                   02 - Angle                  0    2013   \n",
       "4         P.D. only  06 - SMV unattended vehicle                  0    2013   \n",
       "\n",
       "   c_month     c_day  c_hour  \n",
       "0  January    Friday      23  \n",
       "1  January    Sunday      18  \n",
       "2  January  Thursday      21  \n",
       "3  January  Saturday      21  \n",
       "4  January    Friday       4  "
      ],
      "text/html": "<div>\n<style scoped>\n    .dataframe tbody tr th:only-of-type {\n        vertical-align: middle;\n    }\n\n    .dataframe tbody tr th {\n        vertical-align: top;\n    }\n\n    .dataframe thead th {\n        text-align: right;\n    }\n</style>\n<table border=\"1\" class=\"dataframe\">\n  <thead>\n    <tr style=\"text-align: right;\">\n      <th></th>\n      <th>x</th>\n      <th>y</th>\n      <th>environment</th>\n      <th>light</th>\n      <th>surface_condition</th>\n      <th>traffic_control</th>\n      <th>traffic_control_condition</th>\n      <th>class</th>\n      <th>impact_type</th>\n      <th>no_of_pedestrians</th>\n      <th>c_year</th>\n      <th>c_month</th>\n      <th>c_day</th>\n      <th>c_hour</th>\n    </tr>\n  </thead>\n  <tbody>\n    <tr>\n      <th>0</th>\n      <td>357144.87500</td>\n      <td>5020503.5</td>\n      <td>01 - Clear</td>\n      <td>07 - Dark</td>\n      <td>01 - Dry</td>\n      <td>10 - No control</td>\n      <td>NaN</td>\n      <td>Non-fatal injury</td>\n      <td>02 - Angle</td>\n      <td>0</td>\n      <td>2013</td>\n      <td>January</td>\n      <td>Friday</td>\n      <td>23</td>\n    </tr>\n    <tr>\n      <th>1</th>\n      <td>356860.18750</td>\n      <td>5013034.5</td>\n      <td>05 - Drifting Snow</td>\n      <td>01 - Daylight</td>\n      <td>06 - Ice</td>\n      <td>10 - No control</td>\n      <td>NaN</td>\n      <td>P.D. only</td>\n      <td>01 - Approaching</td>\n      <td>0</td>\n      <td>2013</td>\n      <td>January</td>\n      <td>Sunday</td>\n      <td>18</td>\n    </tr>\n    <tr>\n      <th>2</th>\n      <td>368589.71875</td>\n      <td>5029516.5</td>\n      <td>03 - Snow</td>\n      <td>01 - Daylight</td>\n      <td>06 - Ice</td>\n      <td>02 - Stop sign</td>\n      <td>01 - Functioning</td>\n      <td>P.D. only</td>\n      <td>02 - Angle</td>\n      <td>0</td>\n      <td>2013</td>\n      <td>January</td>\n      <td>Thursday</td>\n      <td>21</td>\n    </tr>\n    <tr>\n      <th>3</th>\n      <td>370292.90625</td>\n      <td>5035187.0</td>\n      <td>01 - Clear</td>\n      <td>01 - Daylight</td>\n      <td>02 - Wet</td>\n      <td>02 - Stop sign</td>\n      <td>01 - Functioning</td>\n      <td>P.D. only</td>\n      <td>02 - Angle</td>\n      <td>0</td>\n      <td>2013</td>\n      <td>January</td>\n      <td>Saturday</td>\n      <td>21</td>\n    </tr>\n    <tr>\n      <th>4</th>\n      <td>372133.18750</td>\n      <td>5032130.5</td>\n      <td>02 - Rain</td>\n      <td>07 - Dark</td>\n      <td>02 - Wet</td>\n      <td>10 - No control</td>\n      <td>NaN</td>\n      <td>P.D. only</td>\n      <td>06 - SMV unattended vehicle</td>\n      <td>0</td>\n      <td>2013</td>\n      <td>January</td>\n      <td>Friday</td>\n      <td>4</td>\n    </tr>\n  </tbody>\n</table>\n</div>"
     },
     "metadata": {},
     "execution_count": 2
    }
   ],
   "source": [
    "df = pd.read_csv('../data/clean_data.csv') \n",
    "df.drop(['longitude', 'latitude'], axis =1, inplace=True)\n",
    "print('Data size:', df.shape)\n",
    "df.head()"
   ]
  },
  {
   "cell_type": "code",
   "execution_count": 3,
   "metadata": {},
   "outputs": [
    {
     "output_type": "stream",
     "name": "stdout",
     "text": [
      "<class 'pandas.core.frame.DataFrame'>\nRangeIndex: 89990 entries, 0 to 89989\nData columns (total 14 columns):\n #   Column                     Non-Null Count  Dtype  \n---  ------                     --------------  -----  \n 0   x                          89990 non-null  float64\n 1   y                          89990 non-null  float64\n 2   environment                89989 non-null  object \n 3   light                      89990 non-null  object \n 4   surface_condition          89990 non-null  object \n 5   traffic_control            89954 non-null  object \n 6   traffic_control_condition  46084 non-null  object \n 7   class                      89990 non-null  object \n 8   impact_type                89990 non-null  object \n 9   no_of_pedestrians          89990 non-null  int64  \n 10  c_year                     89990 non-null  int64  \n 11  c_month                    89990 non-null  object \n 12  c_day                      89990 non-null  object \n 13  c_hour                     89990 non-null  int64  \ndtypes: float64(2), int64(3), object(9)\nmemory usage: 9.6+ MB\n"
     ]
    }
   ],
   "source": [
    "df.info()"
   ]
  },
  {
   "cell_type": "code",
   "execution_count": 4,
   "metadata": {},
   "outputs": [],
   "source": [
    "# Create binary class\n",
    "map_dict = {'Non-fatal injury':0, 'P.D. only':0, 'Fatal injury':1}\n",
    "df['class'].replace(map_dict, inplace=True)"
   ]
  },
  {
   "source": [
    "# 1. Day, month, and year counts"
   ],
   "cell_type": "markdown",
   "metadata": {}
  },
  {
   "cell_type": "code",
   "execution_count": 5,
   "metadata": {},
   "outputs": [],
   "source": [
    "# Day count\n",
    "df_day = pd.DataFrame(df.c_day.value_counts())\n",
    "df_day.reset_index(level=0,inplace=True)\n",
    "df_day.rename(columns = {'c_day':'day_ct',  'index':'c_day'},inplace=True)\n",
    "\n",
    "# Month count\n",
    "df_mnth = pd.DataFrame(df.c_month.value_counts())\n",
    "df_mnth.reset_index(level=0,inplace=True)\n",
    "df_mnth.rename(columns = {'c_month':'month_ct',  'index':'c_month'},inplace=True)\n",
    "\n",
    "# Year count\n",
    "df_year = pd.DataFrame(df.c_year.value_counts())\n",
    "df_year.reset_index(level=0,inplace=True)\n",
    "df_year.rename(columns = {'c_year':'year_ct',  'index':'c_year'},inplace=True)"
   ]
  },
  {
   "cell_type": "code",
   "execution_count": 6,
   "metadata": {},
   "outputs": [],
   "source": [
    "# left join to the main dataframe\n",
    "df = df.merge(df_day, how = 'left', on = 'c_day') \n",
    "df = df.merge(df_mnth, how = 'left', on = 'c_month')\n",
    "df = df.merge(df_year, how = 'left', on = 'c_year') "
   ]
  },
  {
   "cell_type": "markdown",
   "metadata": {},
   "source": [
    "# 2. Hour, impact type, environment, surface condition counts"
   ]
  },
  {
   "cell_type": "code",
   "execution_count": 7,
   "metadata": {
    "scrolled": true
   },
   "outputs": [],
   "source": [
    "# Hour count\n",
    "df_hour = pd.DataFrame(df.c_hour.value_counts())\n",
    "df_hour.reset_index(level=0,inplace=True)\n",
    "df_hour.rename(columns = {'c_hour':'hour_ct',  'index':'c_hour'},inplace=True)\n",
    "\n",
    "# Impact type count\n",
    "df_impact = pd.DataFrame(df.impact_type.value_counts())\n",
    "df_impact.reset_index(level=0,inplace=True)\n",
    "df_impact.rename(columns = {'impact_type':'impact_type_ct',  'index':'impact_type'},inplace=True)\n",
    "\n",
    "# Environment count\n",
    "df_env = pd.DataFrame(df.environment.value_counts())\n",
    "df_env.reset_index(level=0,inplace=True)\n",
    "df_env.rename(columns = {'environment':'envmt_ct',  'index':'environment'},inplace=True)\n",
    "\n",
    "# Surface condition count\n",
    "df_scond = pd.DataFrame(df.surface_condition.value_counts())\n",
    "df_scond.reset_index(level=0,inplace=True)\n",
    "df_scond.rename(columns = {'surface_condition':'scond_ct',  'index':'surface_condition'},inplace=True)"
   ]
  },
  {
   "cell_type": "code",
   "execution_count": 8,
   "metadata": {},
   "outputs": [],
   "source": [
    "# left join to the main dataframe\n",
    "df = df.merge(df_hour, how = 'left', on = 'c_hour')\n",
    "df = df.merge(df_impact, how = 'left', on = 'impact_type') \n",
    "df = df.merge(df_env, how = 'left', on = 'environment') \n",
    "df = df.merge(df_scond, how = 'left', on = 'surface_condition') "
   ]
  },
  {
   "cell_type": "code",
   "execution_count": 9,
   "metadata": {},
   "outputs": [],
   "source": [
    "# Average features\n",
    "df['hr_per_day'] =  df.hour_ct/df.day_ct\n",
    "df['impact_per_hour'] =  df.impact_type_ct/df.hour_ct\n",
    "df['impact_per_day'] =  df.impact_type_ct/df.day_ct\n",
    "df['envmt_per_hour'] =  df.envmt_ct/df.hour_ct\n",
    "df['surcond_per_hour'] =  df.scond_ct/df.hour_ct"
   ]
  },
  {
   "source": [
    "# Indicators and odd ratio"
   ],
   "cell_type": "markdown",
   "metadata": {}
  },
  {
   "cell_type": "code",
   "execution_count": 10,
   "metadata": {},
   "outputs": [],
   "source": [
    "def _odd(df, col1, col2):\n",
    "    \"\"\"\n",
    "    calability of a non-fatal collision\n",
    "\n",
    "    Parameters\n",
    "    ----------\n",
    "    df: pandas dataframe\n",
    "    col1: categorical column with two levels only\n",
    "    col2: class label with two classes only\n",
    "\n",
    "    Returns\n",
    "    ----------\n",
    "    pivoted dataframe\n",
    "    \"\"\"\n",
    "    pvt = pd.crosstab(df[col1], df[col2])\n",
    "    pvt['odds'] = pvt[1]/pvt[0]\n",
    "    pvt['odds ratio'] = pvt.odds['Y']/pvt.odds['N']\n",
    "    pvt['odds ratio'].loc['N'] = ''\n",
    "    return pvt"
   ]
  },
  {
   "cell_type": "code",
   "execution_count": 11,
   "metadata": {},
   "outputs": [
    {
     "output_type": "execute_result",
     "data": {
      "text/plain": [
       "class           0    1      odds odds ratio\n",
       "enviro_ind                                 \n",
       "N           89829  143  0.001592           \n",
       "Y              17    1  0.058824   36.95146"
      ],
      "text/html": "<div>\n<style scoped>\n    .dataframe tbody tr th:only-of-type {\n        vertical-align: middle;\n    }\n\n    .dataframe tbody tr th {\n        vertical-align: top;\n    }\n\n    .dataframe thead th {\n        text-align: right;\n    }\n</style>\n<table border=\"1\" class=\"dataframe\">\n  <thead>\n    <tr style=\"text-align: right;\">\n      <th>class</th>\n      <th>0</th>\n      <th>1</th>\n      <th>odds</th>\n      <th>odds ratio</th>\n    </tr>\n    <tr>\n      <th>enviro_ind</th>\n      <th></th>\n      <th></th>\n      <th></th>\n      <th></th>\n    </tr>\n  </thead>\n  <tbody>\n    <tr>\n      <th>N</th>\n      <td>89829</td>\n      <td>143</td>\n      <td>0.001592</td>\n      <td></td>\n    </tr>\n    <tr>\n      <th>Y</th>\n      <td>17</td>\n      <td>1</td>\n      <td>0.058824</td>\n      <td>36.95146</td>\n    </tr>\n  </tbody>\n</table>\n</div>"
     },
     "metadata": {},
     "execution_count": 11
    }
   ],
   "source": [
    "df['enviro_ind'] = np.where(df.environment == '99 - Other', 'Y', 'N')\n",
    "_odd(df, 'enviro_ind', 'class')"
   ]
  },
  {
   "cell_type": "code",
   "execution_count": 12,
   "metadata": {},
   "outputs": [
    {
     "output_type": "execute_result",
     "data": {
      "text/plain": [
       "class           0    1      odds odds ratio\n",
       "impact_ind                                 \n",
       "N           88535  133  0.001502           \n",
       "Y            1311   11  0.008391   5.585388"
      ],
      "text/html": "<div>\n<style scoped>\n    .dataframe tbody tr th:only-of-type {\n        vertical-align: middle;\n    }\n\n    .dataframe tbody tr th {\n        vertical-align: top;\n    }\n\n    .dataframe thead th {\n        text-align: right;\n    }\n</style>\n<table border=\"1\" class=\"dataframe\">\n  <thead>\n    <tr style=\"text-align: right;\">\n      <th>class</th>\n      <th>0</th>\n      <th>1</th>\n      <th>odds</th>\n      <th>odds ratio</th>\n    </tr>\n    <tr>\n      <th>impact_ind</th>\n      <th></th>\n      <th></th>\n      <th></th>\n      <th></th>\n    </tr>\n  </thead>\n  <tbody>\n    <tr>\n      <th>N</th>\n      <td>88535</td>\n      <td>133</td>\n      <td>0.001502</td>\n      <td></td>\n    </tr>\n    <tr>\n      <th>Y</th>\n      <td>1311</td>\n      <td>11</td>\n      <td>0.008391</td>\n      <td>5.585388</td>\n    </tr>\n  </tbody>\n</table>\n</div>"
     },
     "metadata": {},
     "execution_count": 12
    }
   ],
   "source": [
    "df['impact_ind'] = np.where(df.impact_type == '01 - Approaching', 'Y', 'N')\n",
    "_odd(df, 'impact_ind', 'class')"
   ]
  },
  {
   "cell_type": "code",
   "execution_count": 13,
   "metadata": {},
   "outputs": [
    {
     "output_type": "execute_result",
     "data": {
      "text/plain": [
       "class              0    1      odds odds ratio\n",
       "traf_cont_ind                                 \n",
       "N              89816  143  0.001592           \n",
       "Y                 30    1  0.033333  20.936131"
      ],
      "text/html": "<div>\n<style scoped>\n    .dataframe tbody tr th:only-of-type {\n        vertical-align: middle;\n    }\n\n    .dataframe tbody tr th {\n        vertical-align: top;\n    }\n\n    .dataframe thead th {\n        text-align: right;\n    }\n</style>\n<table border=\"1\" class=\"dataframe\">\n  <thead>\n    <tr style=\"text-align: right;\">\n      <th>class</th>\n      <th>0</th>\n      <th>1</th>\n      <th>odds</th>\n      <th>odds ratio</th>\n    </tr>\n    <tr>\n      <th>traf_cont_ind</th>\n      <th></th>\n      <th></th>\n      <th></th>\n      <th></th>\n    </tr>\n  </thead>\n  <tbody>\n    <tr>\n      <th>N</th>\n      <td>89816</td>\n      <td>143</td>\n      <td>0.001592</td>\n      <td></td>\n    </tr>\n    <tr>\n      <th>Y</th>\n      <td>30</td>\n      <td>1</td>\n      <td>0.033333</td>\n      <td>20.936131</td>\n    </tr>\n  </tbody>\n</table>\n</div>"
     },
     "metadata": {},
     "execution_count": 13
    }
   ],
   "source": [
    "df['traf_cont_ind'] = np.where(df.traffic_control == '08 - Traffic gate', 'Y', 'N')\n",
    "_odd(df, 'traf_cont_ind', 'class')"
   ]
  },
  {
   "cell_type": "code",
   "execution_count": 14,
   "metadata": {},
   "outputs": [
    {
     "output_type": "execute_result",
     "data": {
      "text/plain": [
       "class             0    1      odds odds ratio\n",
       "sur_cont_ind                                 \n",
       "N             89741  142  0.001582           \n",
       "Y               105    2  0.019048  12.037693"
      ],
      "text/html": "<div>\n<style scoped>\n    .dataframe tbody tr th:only-of-type {\n        vertical-align: middle;\n    }\n\n    .dataframe tbody tr th {\n        vertical-align: top;\n    }\n\n    .dataframe thead th {\n        text-align: right;\n    }\n</style>\n<table border=\"1\" class=\"dataframe\">\n  <thead>\n    <tr style=\"text-align: right;\">\n      <th>class</th>\n      <th>0</th>\n      <th>1</th>\n      <th>odds</th>\n      <th>odds ratio</th>\n    </tr>\n    <tr>\n      <th>sur_cont_ind</th>\n      <th></th>\n      <th></th>\n      <th></th>\n      <th></th>\n    </tr>\n  </thead>\n  <tbody>\n    <tr>\n      <th>N</th>\n      <td>89741</td>\n      <td>142</td>\n      <td>0.001582</td>\n      <td></td>\n    </tr>\n    <tr>\n      <th>Y</th>\n      <td>105</td>\n      <td>2</td>\n      <td>0.019048</td>\n      <td>12.037693</td>\n    </tr>\n  </tbody>\n</table>\n</div>"
     },
     "metadata": {},
     "execution_count": 14
    }
   ],
   "source": [
    "df['sur_cont_ind'] = np.where(df.surface_condition == '00 - Unknown', 'Y', 'N')\n",
    "_odd(df, 'sur_cont_ind', 'class')"
   ]
  },
  {
   "cell_type": "code",
   "execution_count": 15,
   "metadata": {},
   "outputs": [
    {
     "output_type": "execute_result",
     "data": {
      "text/plain": [
       "class          0   1      odds odds ratio\n",
       "light_ind                                \n",
       "N          67501  88  0.001304           \n",
       "Y          22345  56  0.002506   1.922362"
      ],
      "text/html": "<div>\n<style scoped>\n    .dataframe tbody tr th:only-of-type {\n        vertical-align: middle;\n    }\n\n    .dataframe tbody tr th {\n        vertical-align: top;\n    }\n\n    .dataframe thead th {\n        text-align: right;\n    }\n</style>\n<table border=\"1\" class=\"dataframe\">\n  <thead>\n    <tr style=\"text-align: right;\">\n      <th>class</th>\n      <th>0</th>\n      <th>1</th>\n      <th>odds</th>\n      <th>odds ratio</th>\n    </tr>\n    <tr>\n      <th>light_ind</th>\n      <th></th>\n      <th></th>\n      <th></th>\n      <th></th>\n    </tr>\n  </thead>\n  <tbody>\n    <tr>\n      <th>N</th>\n      <td>67501</td>\n      <td>88</td>\n      <td>0.001304</td>\n      <td></td>\n    </tr>\n    <tr>\n      <th>Y</th>\n      <td>22345</td>\n      <td>56</td>\n      <td>0.002506</td>\n      <td>1.922362</td>\n    </tr>\n  </tbody>\n</table>\n</div>"
     },
     "metadata": {},
     "execution_count": 15
    }
   ],
   "source": [
    "df['light_ind'] = np.where(df.light == '03 - Dawn', 'Y',\n",
    "                            np.where(df.light == '07 - Dark', 'Y', 'N')\n",
    "                            )\n",
    "_odd(df, 'light_ind', 'class')"
   ]
  },
  {
   "cell_type": "markdown",
   "metadata": {},
   "source": [
    "# Save as csv"
   ]
  },
  {
   "cell_type": "code",
   "execution_count": 16,
   "metadata": {},
   "outputs": [],
   "source": [
    "df.to_csv('../data/feat_engr_data.csv', index= False)"
   ]
  },
  {
   "source": [],
   "cell_type": "markdown",
   "metadata": {}
  }
 ],
 "metadata": {
  "kernelspec": {
   "name": "python394jvsc74a57bd0aee8b7b246df8f9039afb4144a1f6fd8d2ca17a180786b69acc140d282b71a49",
   "display_name": "Python 3.9.4 64-bit"
  },
  "language_info": {
   "codemirror_mode": {
    "name": "ipython",
    "version": 3
   },
   "file_extension": ".py",
   "mimetype": "text/x-python",
   "name": "python",
   "nbconvert_exporter": "python",
   "pygments_lexer": "ipython3",
   "version": "3.9.4"
  },
  "metadata": {
   "interpreter": {
    "hash": "aee8b7b246df8f9039afb4144a1f6fd8d2ca17a180786b69acc140d282b71a49"
   }
  }
 },
 "nbformat": 4,
 "nbformat_minor": 2
}