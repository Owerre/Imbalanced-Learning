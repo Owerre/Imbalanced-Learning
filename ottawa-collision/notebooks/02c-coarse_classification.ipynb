{
 "cells": [
  {
   "cell_type": "markdown",
   "metadata": {},
   "source": [
    "# Categorization (Coarse Classification)\n",
    "\n",
    "From the previous two notebooks, we can see that the data contains numerous categorical variables with many different levels. Each level of the category would create a dummy variable in our model, therefore there will be many redundant features in the model due to infrequent categories. We would like to create categories of values such that fewer parameters will have to be estimated and probably a more robust model can be obtained. We are going to categorize the values based on similar odds ratio."
   ]
  },
  {
   "cell_type": "code",
   "execution_count": 52,
   "metadata": {},
   "outputs": [],
   "source": [
    "%matplotlib inline\n",
    "\n",
    "# Filter warnings\n",
    "import warnings\n",
    "warnings.filterwarnings(\"ignore\")\n",
    "\n",
    "# Data manipulation\n",
    "import pandas as pd\n",
    "import numpy as np\n",
    "\n",
    "# Data visualization\n",
    "import matplotlib.pyplot as plt\n",
    "import seaborn as sns\n",
    "\n",
    "# Set font scale and style\n",
    "plt.rcParams.update({'font.size': 15})"
   ]
  },
  {
   "cell_type": "markdown",
   "metadata": {},
   "source": [
    "# Load data"
   ]
  },
  {
   "cell_type": "code",
   "execution_count": 53,
   "metadata": {},
   "outputs": [
    {
     "data": {
      "text/html": [
       "<div>\n",
       "<style scoped>\n",
       "    .dataframe tbody tr th:only-of-type {\n",
       "        vertical-align: middle;\n",
       "    }\n",
       "\n",
       "    .dataframe tbody tr th {\n",
       "        vertical-align: top;\n",
       "    }\n",
       "\n",
       "    .dataframe thead th {\n",
       "        text-align: right;\n",
       "    }\n",
       "</style>\n",
       "<table border=\"1\" class=\"dataframe\">\n",
       "  <thead>\n",
       "    <tr style=\"text-align: right;\">\n",
       "      <th></th>\n",
       "      <th>x</th>\n",
       "      <th>y</th>\n",
       "      <th>environment</th>\n",
       "      <th>light</th>\n",
       "      <th>surface_condition</th>\n",
       "      <th>traffic_control</th>\n",
       "      <th>traffic_control_condition</th>\n",
       "      <th>collision_classification</th>\n",
       "      <th>impact_type</th>\n",
       "      <th>no_of_pedestrians</th>\n",
       "      <th>collision_year</th>\n",
       "      <th>collision_month</th>\n",
       "      <th>collision_day</th>\n",
       "      <th>collision_hour</th>\n",
       "    </tr>\n",
       "  </thead>\n",
       "  <tbody>\n",
       "    <tr>\n",
       "      <th>0</th>\n",
       "      <td>357144.87500</td>\n",
       "      <td>5020503.5</td>\n",
       "      <td>01 - Clear</td>\n",
       "      <td>07 - Dark</td>\n",
       "      <td>01 - Dry</td>\n",
       "      <td>10 - No control</td>\n",
       "      <td>NaN</td>\n",
       "      <td>0</td>\n",
       "      <td>02 - Angle</td>\n",
       "      <td>0.0</td>\n",
       "      <td>2013.0</td>\n",
       "      <td>January</td>\n",
       "      <td>Friday</td>\n",
       "      <td>5</td>\n",
       "    </tr>\n",
       "    <tr>\n",
       "      <th>1</th>\n",
       "      <td>356860.18750</td>\n",
       "      <td>5013034.5</td>\n",
       "      <td>05 - Drifting Snow</td>\n",
       "      <td>01 - Daylight</td>\n",
       "      <td>06 - Ice</td>\n",
       "      <td>10 - No control</td>\n",
       "      <td>NaN</td>\n",
       "      <td>0</td>\n",
       "      <td>01 - Approaching</td>\n",
       "      <td>0.0</td>\n",
       "      <td>2013.0</td>\n",
       "      <td>January</td>\n",
       "      <td>Sunday</td>\n",
       "      <td>5</td>\n",
       "    </tr>\n",
       "    <tr>\n",
       "      <th>2</th>\n",
       "      <td>368589.71875</td>\n",
       "      <td>5029516.5</td>\n",
       "      <td>03 - Snow</td>\n",
       "      <td>01 - Daylight</td>\n",
       "      <td>06 - Ice</td>\n",
       "      <td>02 - Stop sign</td>\n",
       "      <td>01 - Functioning</td>\n",
       "      <td>0</td>\n",
       "      <td>02 - Angle</td>\n",
       "      <td>0.0</td>\n",
       "      <td>2013.0</td>\n",
       "      <td>January</td>\n",
       "      <td>Thursday</td>\n",
       "      <td>5</td>\n",
       "    </tr>\n",
       "    <tr>\n",
       "      <th>3</th>\n",
       "      <td>370292.90625</td>\n",
       "      <td>5035187.0</td>\n",
       "      <td>01 - Clear</td>\n",
       "      <td>01 - Daylight</td>\n",
       "      <td>02 - Wet</td>\n",
       "      <td>02 - Stop sign</td>\n",
       "      <td>01 - Functioning</td>\n",
       "      <td>0</td>\n",
       "      <td>02 - Angle</td>\n",
       "      <td>0.0</td>\n",
       "      <td>2013.0</td>\n",
       "      <td>January</td>\n",
       "      <td>Saturday</td>\n",
       "      <td>5</td>\n",
       "    </tr>\n",
       "    <tr>\n",
       "      <th>4</th>\n",
       "      <td>372133.18750</td>\n",
       "      <td>5032130.5</td>\n",
       "      <td>02 - Rain</td>\n",
       "      <td>07 - Dark</td>\n",
       "      <td>02 - Wet</td>\n",
       "      <td>10 - No control</td>\n",
       "      <td>NaN</td>\n",
       "      <td>0</td>\n",
       "      <td>06 - SMV unattended vehicle</td>\n",
       "      <td>0.0</td>\n",
       "      <td>2013.0</td>\n",
       "      <td>January</td>\n",
       "      <td>Friday</td>\n",
       "      <td>5</td>\n",
       "    </tr>\n",
       "  </tbody>\n",
       "</table>\n",
       "</div>"
      ],
      "text/plain": [
       "              x          y         environment          light  \\\n",
       "0  357144.87500  5020503.5          01 - Clear      07 - Dark   \n",
       "1  356860.18750  5013034.5  05 - Drifting Snow  01 - Daylight   \n",
       "2  368589.71875  5029516.5           03 - Snow  01 - Daylight   \n",
       "3  370292.90625  5035187.0          01 - Clear  01 - Daylight   \n",
       "4  372133.18750  5032130.5           02 - Rain      07 - Dark   \n",
       "\n",
       "  surface_condition  traffic_control traffic_control_condition  \\\n",
       "0          01 - Dry  10 - No control                       NaN   \n",
       "1          06 - Ice  10 - No control                       NaN   \n",
       "2          06 - Ice   02 - Stop sign          01 - Functioning   \n",
       "3          02 - Wet   02 - Stop sign          01 - Functioning   \n",
       "4          02 - Wet  10 - No control                       NaN   \n",
       "\n",
       "   collision_classification                  impact_type  no_of_pedestrians  \\\n",
       "0                         0                   02 - Angle                0.0   \n",
       "1                         0             01 - Approaching                0.0   \n",
       "2                         0                   02 - Angle                0.0   \n",
       "3                         0                   02 - Angle                0.0   \n",
       "4                         0  06 - SMV unattended vehicle                0.0   \n",
       "\n",
       "   collision_year collision_month collision_day  collision_hour  \n",
       "0          2013.0         January        Friday               5  \n",
       "1          2013.0         January        Sunday               5  \n",
       "2          2013.0         January      Thursday               5  \n",
       "3          2013.0         January      Saturday               5  \n",
       "4          2013.0         January        Friday               5  "
      ]
     },
     "execution_count": 53,
     "metadata": {},
     "output_type": "execute_result"
    }
   ],
   "source": [
    "df = pd.read_csv('../data/binary_class_data.csv')\n",
    "df.head()"
   ]
  },
  {
   "cell_type": "markdown",
   "metadata": {},
   "source": [
    "# 1. Environment"
   ]
  },
  {
   "cell_type": "code",
   "execution_count": 54,
   "metadata": {},
   "outputs": [
    {
     "name": "stdout",
     "output_type": "stream",
     "text": [
      "Odd ratio: [151.0, 530.76, 966.7, 2144.4, nan, nan, nan, 145.0, 27.0]\n"
     ]
    },
    {
     "data": {
      "text/html": [
       "<div>\n",
       "<style scoped>\n",
       "    .dataframe tbody tr th:only-of-type {\n",
       "        vertical-align: middle;\n",
       "    }\n",
       "\n",
       "    .dataframe tbody tr th {\n",
       "        vertical-align: top;\n",
       "    }\n",
       "\n",
       "    .dataframe thead th {\n",
       "        text-align: right;\n",
       "    }\n",
       "</style>\n",
       "<table border=\"1\" class=\"dataframe\">\n",
       "  <thead>\n",
       "    <tr style=\"text-align: right;\">\n",
       "      <th>environment</th>\n",
       "      <th>00 - Unknown</th>\n",
       "      <th>01 - Clear</th>\n",
       "      <th>02 - Rain</th>\n",
       "      <th>03 - Snow</th>\n",
       "      <th>04 - Freezing Rain</th>\n",
       "      <th>05 - Drifting Snow</th>\n",
       "      <th>06 - Strong wind</th>\n",
       "      <th>07 - Fog, mist, smoke, dust</th>\n",
       "      <th>99 - Other</th>\n",
       "    </tr>\n",
       "    <tr>\n",
       "      <th>collision_classification</th>\n",
       "      <th></th>\n",
       "      <th></th>\n",
       "      <th></th>\n",
       "      <th></th>\n",
       "      <th></th>\n",
       "      <th></th>\n",
       "      <th></th>\n",
       "      <th></th>\n",
       "      <th></th>\n",
       "    </tr>\n",
       "  </thead>\n",
       "  <tbody>\n",
       "    <tr>\n",
       "      <th>0</th>\n",
       "      <td>151.0</td>\n",
       "      <td>81206.0</td>\n",
       "      <td>9667.0</td>\n",
       "      <td>10722.0</td>\n",
       "      <td>1455.0</td>\n",
       "      <td>527.0</td>\n",
       "      <td>166.0</td>\n",
       "      <td>290.0</td>\n",
       "      <td>27.0</td>\n",
       "    </tr>\n",
       "    <tr>\n",
       "      <th>1</th>\n",
       "      <td>1.0</td>\n",
       "      <td>153.0</td>\n",
       "      <td>10.0</td>\n",
       "      <td>5.0</td>\n",
       "      <td>NaN</td>\n",
       "      <td>NaN</td>\n",
       "      <td>NaN</td>\n",
       "      <td>2.0</td>\n",
       "      <td>1.0</td>\n",
       "    </tr>\n",
       "  </tbody>\n",
       "</table>\n",
       "</div>"
      ],
      "text/plain": [
       "environment               00 - Unknown  01 - Clear  02 - Rain  03 - Snow  \\\n",
       "collision_classification                                                   \n",
       "0                                151.0     81206.0     9667.0    10722.0   \n",
       "1                                  1.0       153.0       10.0        5.0   \n",
       "\n",
       "environment               04 - Freezing Rain  05 - Drifting Snow  \\\n",
       "collision_classification                                           \n",
       "0                                     1455.0               527.0   \n",
       "1                                        NaN                 NaN   \n",
       "\n",
       "environment               06 - Strong wind  07 - Fog, mist, smoke, dust  \\\n",
       "collision_classification                                                  \n",
       "0                                    166.0                        290.0   \n",
       "1                                      NaN                          2.0   \n",
       "\n",
       "environment               99 - Other  \n",
       "collision_classification              \n",
       "0                               27.0  \n",
       "1                                1.0  "
      ]
     },
     "execution_count": 54,
     "metadata": {},
     "output_type": "execute_result"
    }
   ],
   "source": [
    "pvt = df.pivot_table('x', index = 'collision_classification', columns = 'environment', aggfunc = 'count')\n",
    "print(\"Odd ratio:\", list(np.around(pvt.values[0]/pvt.values[1],2)))\n",
    "pvt"
   ]
  },
  {
   "cell_type": "code",
   "execution_count": 55,
   "metadata": {},
   "outputs": [
    {
     "data": {
      "text/plain": [
       "Clear                     91036\n",
       "Snow                      10727\n",
       "Freezing rain              2148\n",
       "Fog, mist, smoke, dust      444\n",
       "Other                        28\n",
       "Name: environment, dtype: int64"
      ]
     },
     "execution_count": 55,
     "metadata": {},
     "output_type": "execute_result"
    }
   ],
   "source": [
    "coll_dict = {'00 - Unknown':'Fog, mist, smoke, dust', \n",
    "             '07 - Fog, mist, smoke, dust':'Fog, mist, smoke, dust', \n",
    "             '01 - Clear':'Clear',\n",
    "            '02 - Rain':'Clear', \n",
    "             '03 - Snow': 'Snow', \n",
    "             '04 - Freezing Rain':'Freezing rain',\n",
    "            '05 - Drifting Snow':'Freezing rain',\n",
    "             '06 - Strong wind': 'Freezing rain',\n",
    "             '99 - Other': 'Other'}\n",
    "\n",
    "df['environment'].replace(coll_dict, inplace = True)\n",
    "\n",
    "df.environment.value_counts()"
   ]
  },
  {
   "cell_type": "markdown",
   "metadata": {},
   "source": [
    "# 2. Light"
   ]
  },
  {
   "cell_type": "code",
   "execution_count": 56,
   "metadata": {},
   "outputs": [
    {
     "name": "stdout",
     "output_type": "stream",
     "text": [
      "Odd ratio: [nan, 722.96, nan, 355.0, nan, 952.4, nan, 380.26, nan, nan]\n"
     ]
    },
    {
     "data": {
      "text/html": [
       "<div>\n",
       "<style scoped>\n",
       "    .dataframe tbody tr th:only-of-type {\n",
       "        vertical-align: middle;\n",
       "    }\n",
       "\n",
       "    .dataframe tbody tr th {\n",
       "        vertical-align: top;\n",
       "    }\n",
       "\n",
       "    .dataframe thead th {\n",
       "        text-align: right;\n",
       "    }\n",
       "</style>\n",
       "<table border=\"1\" class=\"dataframe\">\n",
       "  <thead>\n",
       "    <tr style=\"text-align: right;\">\n",
       "      <th>light</th>\n",
       "      <th>00 - Unknown</th>\n",
       "      <th>01 - Daylight</th>\n",
       "      <th>02 - Daylight, artificial</th>\n",
       "      <th>03 - Dawn</th>\n",
       "      <th>04 - Dawn, artificial</th>\n",
       "      <th>05 - Dusk</th>\n",
       "      <th>06 - Dusk, artificial</th>\n",
       "      <th>07 - Dark</th>\n",
       "      <th>08 - Dark, artificial</th>\n",
       "      <th>99 - Other</th>\n",
       "    </tr>\n",
       "    <tr>\n",
       "      <th>collision_classification</th>\n",
       "      <th></th>\n",
       "      <th></th>\n",
       "      <th></th>\n",
       "      <th></th>\n",
       "      <th></th>\n",
       "      <th></th>\n",
       "      <th></th>\n",
       "      <th></th>\n",
       "      <th></th>\n",
       "      <th></th>\n",
       "    </tr>\n",
       "  </thead>\n",
       "  <tbody>\n",
       "    <tr>\n",
       "      <th>0</th>\n",
       "      <td>2443.0</td>\n",
       "      <td>70850.0</td>\n",
       "      <td>1.0</td>\n",
       "      <td>2485.0</td>\n",
       "      <td>6.0</td>\n",
       "      <td>4762.0</td>\n",
       "      <td>3.0</td>\n",
       "      <td>23576.0</td>\n",
       "      <td>73.0</td>\n",
       "      <td>13.0</td>\n",
       "    </tr>\n",
       "    <tr>\n",
       "      <th>1</th>\n",
       "      <td>NaN</td>\n",
       "      <td>98.0</td>\n",
       "      <td>NaN</td>\n",
       "      <td>7.0</td>\n",
       "      <td>NaN</td>\n",
       "      <td>5.0</td>\n",
       "      <td>NaN</td>\n",
       "      <td>62.0</td>\n",
       "      <td>NaN</td>\n",
       "      <td>NaN</td>\n",
       "    </tr>\n",
       "  </tbody>\n",
       "</table>\n",
       "</div>"
      ],
      "text/plain": [
       "light                     00 - Unknown  01 - Daylight  \\\n",
       "collision_classification                                \n",
       "0                               2443.0        70850.0   \n",
       "1                                  NaN           98.0   \n",
       "\n",
       "light                     02 - Daylight, artificial  03 - Dawn  \\\n",
       "collision_classification                                         \n",
       "0                                               1.0     2485.0   \n",
       "1                                               NaN        7.0   \n",
       "\n",
       "light                     04 - Dawn, artificial  05 - Dusk  \\\n",
       "collision_classification                                     \n",
       "0                                           6.0     4762.0   \n",
       "1                                           NaN        5.0   \n",
       "\n",
       "light                     06 - Dusk, artificial  07 - Dark  \\\n",
       "collision_classification                                     \n",
       "0                                           3.0    23576.0   \n",
       "1                                           NaN       62.0   \n",
       "\n",
       "light                     08 - Dark, artificial  99 - Other  \n",
       "collision_classification                                     \n",
       "0                                          73.0        13.0  \n",
       "1                                           NaN         NaN  "
      ]
     },
     "execution_count": 56,
     "metadata": {},
     "output_type": "execute_result"
    }
   ],
   "source": [
    "pvt = df.pivot_table('x', index = 'collision_classification', columns = 'light', aggfunc = 'count')\n",
    "print(\"Odd ratio:\", list(np.around(pvt.values[0]/pvt.values[1],2)))\n",
    "pvt"
   ]
  },
  {
   "cell_type": "code",
   "execution_count": 57,
   "metadata": {},
   "outputs": [
    {
     "data": {
      "text/plain": [
       "Daylight                75715\n",
       "Dark                    26130\n",
       "Daylight, artificial     2539\n",
       "Name: light, dtype: int64"
      ]
     },
     "execution_count": 57,
     "metadata": {},
     "output_type": "execute_result"
    }
   ],
   "source": [
    "coll_dict = {'00 - Unknown':'Daylight, artificial', \n",
    "             '01 - Daylight':'Daylight', \n",
    "             '02 - Daylight, artificial':'Daylight, artificial',\n",
    "            '03 - Dawn':'Dark', \n",
    "             '04 - Dawn, artificial': 'Daylight, artificial', \n",
    "             '05 - Dusk':'Daylight',\n",
    "            '06 - Dusk, artificial':'Daylight, artificial',\n",
    "             '07 - Dark': 'Dark',\n",
    "             '08 - Dark, artificial': 'Daylight, artificial',\n",
    "            '99 - Other': 'Daylight, artificial'}\n",
    "\n",
    "df['light'].replace(coll_dict, inplace = True)\n",
    "\n",
    "df.light.value_counts()"
   ]
  },
  {
   "cell_type": "markdown",
   "metadata": {},
   "source": [
    "# 3. Surface condition"
   ]
  },
  {
   "cell_type": "code",
   "execution_count": 58,
   "metadata": {},
   "outputs": [
    {
     "name": "stdout",
     "output_type": "stream",
     "text": [
      "Odd ratio: [57.5, 497.46, 683.41, 2294.0, nan, 1387.0, 2411.5, nan, nan, nan, nan]\n"
     ]
    },
    {
     "data": {
      "text/html": [
       "<div>\n",
       "<style scoped>\n",
       "    .dataframe tbody tr th:only-of-type {\n",
       "        vertical-align: middle;\n",
       "    }\n",
       "\n",
       "    .dataframe tbody tr th {\n",
       "        vertical-align: top;\n",
       "    }\n",
       "\n",
       "    .dataframe thead th {\n",
       "        text-align: right;\n",
       "    }\n",
       "</style>\n",
       "<table border=\"1\" class=\"dataframe\">\n",
       "  <thead>\n",
       "    <tr style=\"text-align: right;\">\n",
       "      <th>surface_condition</th>\n",
       "      <th>00 - Unknown</th>\n",
       "      <th>01 - Dry</th>\n",
       "      <th>02 - Wet</th>\n",
       "      <th>03 - Loose snow</th>\n",
       "      <th>04 - Slush</th>\n",
       "      <th>05 - Packed snow</th>\n",
       "      <th>06 - Ice</th>\n",
       "      <th>07 - Mud</th>\n",
       "      <th>08 - Loose sand or gravel</th>\n",
       "      <th>09 - Spilled liquid</th>\n",
       "      <th>99 - Other</th>\n",
       "    </tr>\n",
       "    <tr>\n",
       "      <th>collision_classification</th>\n",
       "      <th></th>\n",
       "      <th></th>\n",
       "      <th></th>\n",
       "      <th></th>\n",
       "      <th></th>\n",
       "      <th></th>\n",
       "      <th></th>\n",
       "      <th></th>\n",
       "      <th></th>\n",
       "      <th></th>\n",
       "      <th></th>\n",
       "    </tr>\n",
       "  </thead>\n",
       "  <tbody>\n",
       "    <tr>\n",
       "      <th>0</th>\n",
       "      <td>115.0</td>\n",
       "      <td>67654.0</td>\n",
       "      <td>18452.0</td>\n",
       "      <td>6882.0</td>\n",
       "      <td>3324.0</td>\n",
       "      <td>2774.0</td>\n",
       "      <td>4823.0</td>\n",
       "      <td>11.0</td>\n",
       "      <td>99.0</td>\n",
       "      <td>10.0</td>\n",
       "      <td>68.0</td>\n",
       "    </tr>\n",
       "    <tr>\n",
       "      <th>1</th>\n",
       "      <td>2.0</td>\n",
       "      <td>136.0</td>\n",
       "      <td>27.0</td>\n",
       "      <td>3.0</td>\n",
       "      <td>NaN</td>\n",
       "      <td>2.0</td>\n",
       "      <td>2.0</td>\n",
       "      <td>NaN</td>\n",
       "      <td>NaN</td>\n",
       "      <td>NaN</td>\n",
       "      <td>NaN</td>\n",
       "    </tr>\n",
       "  </tbody>\n",
       "</table>\n",
       "</div>"
      ],
      "text/plain": [
       "surface_condition         00 - Unknown  01 - Dry  02 - Wet  03 - Loose snow  \\\n",
       "collision_classification                                                      \n",
       "0                                115.0   67654.0   18452.0           6882.0   \n",
       "1                                  2.0     136.0      27.0              3.0   \n",
       "\n",
       "surface_condition         04 - Slush  05 - Packed snow  06 - Ice  07 - Mud  \\\n",
       "collision_classification                                                     \n",
       "0                             3324.0            2774.0    4823.0      11.0   \n",
       "1                                NaN               2.0       2.0       NaN   \n",
       "\n",
       "surface_condition         08 - Loose sand or gravel  09 - Spilled liquid  \\\n",
       "collision_classification                                                   \n",
       "0                                              99.0                 10.0   \n",
       "1                                               NaN                  NaN   \n",
       "\n",
       "surface_condition         99 - Other  \n",
       "collision_classification              \n",
       "0                               68.0  \n",
       "1                                NaN  "
      ]
     },
     "execution_count": 58,
     "metadata": {},
     "output_type": "execute_result"
    }
   ],
   "source": [
    "pvt = df.pivot_table('x', index = 'collision_classification', columns = 'surface_condition', aggfunc = 'count')\n",
    "print(\"Odd ratio:\", list(np.around(pvt.values[0]/pvt.values[1],2)))\n",
    "pvt"
   ]
  },
  {
   "cell_type": "code",
   "execution_count": 59,
   "metadata": {},
   "outputs": [
    {
     "data": {
      "text/plain": [
       "Dry        86269\n",
       "Ice        14486\n",
       "Slush       3512\n",
       "Unknown      117\n",
       "Name: surface_condition, dtype: int64"
      ]
     },
     "execution_count": 59,
     "metadata": {},
     "output_type": "execute_result"
    }
   ],
   "source": [
    "coll_dict = {'00 - Unknown':'Unknown', \n",
    "             '01 - Dry':'Dry', \n",
    "             '02 - Wet':'Dry',\n",
    "            '03 - Loose snow':'Ice', \n",
    "             '04 - Slush': 'Slush', \n",
    "             '05 - Packed snow':'Ice',\n",
    "            '06 - Ice':'Ice',\n",
    "             '07 - Mud': 'Slush',\n",
    "             '08 - Loose sand or gravel': 'Slush',\n",
    "             '09 - Spilled liquid': 'Slush',\n",
    "            '99 - Other': 'Slush'}\n",
    "\n",
    "df['surface_condition'].replace(coll_dict, inplace = True)\n",
    "\n",
    "df.surface_condition.value_counts()"
   ]
  },
  {
   "cell_type": "markdown",
   "metadata": {},
   "source": [
    "# 4. Traffic control"
   ]
  },
  {
   "cell_type": "code",
   "execution_count": 60,
   "metadata": {},
   "outputs": [
    {
     "name": "stdout",
     "output_type": "stream",
     "text": [
      "Odd ratio: [875.06, 524.38, nan, nan, nan, 31.0, nan, 488.49, nan, nan, nan, nan]\n"
     ]
    },
    {
     "data": {
      "text/html": [
       "<div>\n",
       "<style scoped>\n",
       "    .dataframe tbody tr th:only-of-type {\n",
       "        vertical-align: middle;\n",
       "    }\n",
       "\n",
       "    .dataframe tbody tr th {\n",
       "        vertical-align: top;\n",
       "    }\n",
       "\n",
       "    .dataframe thead th {\n",
       "        text-align: right;\n",
       "    }\n",
       "</style>\n",
       "<table border=\"1\" class=\"dataframe\">\n",
       "  <thead>\n",
       "    <tr style=\"text-align: right;\">\n",
       "      <th>traffic_control</th>\n",
       "      <th>01 - Traffic signal</th>\n",
       "      <th>02 - Stop sign</th>\n",
       "      <th>03 - Yield sign</th>\n",
       "      <th>04 - Ped. crossover</th>\n",
       "      <th>07 - School bus</th>\n",
       "      <th>08 - Traffic gate</th>\n",
       "      <th>09 - Traffic controller</th>\n",
       "      <th>10 - No control</th>\n",
       "      <th>11 - Roundabout</th>\n",
       "      <th>12 - IPS</th>\n",
       "      <th>13 - MPS</th>\n",
       "      <th>99 - Other</th>\n",
       "    </tr>\n",
       "    <tr>\n",
       "      <th>collision_classification</th>\n",
       "      <th></th>\n",
       "      <th></th>\n",
       "      <th></th>\n",
       "      <th></th>\n",
       "      <th></th>\n",
       "      <th></th>\n",
       "      <th></th>\n",
       "      <th></th>\n",
       "      <th></th>\n",
       "      <th></th>\n",
       "      <th></th>\n",
       "      <th></th>\n",
       "    </tr>\n",
       "  </thead>\n",
       "  <tbody>\n",
       "    <tr>\n",
       "      <th>0</th>\n",
       "      <td>41128.0</td>\n",
       "      <td>11012.0</td>\n",
       "      <td>703.0</td>\n",
       "      <td>10.0</td>\n",
       "      <td>7.0</td>\n",
       "      <td>31.0</td>\n",
       "      <td>23.0</td>\n",
       "      <td>50314.0</td>\n",
       "      <td>875.0</td>\n",
       "      <td>35.0</td>\n",
       "      <td>9.0</td>\n",
       "      <td>17.0</td>\n",
       "    </tr>\n",
       "    <tr>\n",
       "      <th>1</th>\n",
       "      <td>47.0</td>\n",
       "      <td>21.0</td>\n",
       "      <td>NaN</td>\n",
       "      <td>NaN</td>\n",
       "      <td>NaN</td>\n",
       "      <td>1.0</td>\n",
       "      <td>NaN</td>\n",
       "      <td>103.0</td>\n",
       "      <td>NaN</td>\n",
       "      <td>NaN</td>\n",
       "      <td>NaN</td>\n",
       "      <td>NaN</td>\n",
       "    </tr>\n",
       "  </tbody>\n",
       "</table>\n",
       "</div>"
      ],
      "text/plain": [
       "traffic_control           01 - Traffic signal  02 - Stop sign  \\\n",
       "collision_classification                                        \n",
       "0                                     41128.0         11012.0   \n",
       "1                                        47.0            21.0   \n",
       "\n",
       "traffic_control           03 - Yield sign  04 - Ped. crossover  \\\n",
       "collision_classification                                         \n",
       "0                                   703.0                 10.0   \n",
       "1                                     NaN                  NaN   \n",
       "\n",
       "traffic_control           07 - School bus  08 - Traffic gate  \\\n",
       "collision_classification                                       \n",
       "0                                     7.0               31.0   \n",
       "1                                     NaN                1.0   \n",
       "\n",
       "traffic_control           09 - Traffic controller  10 - No control  \\\n",
       "collision_classification                                             \n",
       "0                                            23.0          50314.0   \n",
       "1                                             NaN            103.0   \n",
       "\n",
       "traffic_control           11 - Roundabout  12 - IPS  13 - MPS  99 - Other  \n",
       "collision_classification                                                   \n",
       "0                                   875.0      35.0       9.0        17.0  \n",
       "1                                     NaN       NaN       NaN         NaN  "
      ]
     },
     "execution_count": 60,
     "metadata": {},
     "output_type": "execute_result"
    }
   ],
   "source": [
    "pvt = df.pivot_table('x', index = 'collision_classification', columns = 'traffic_control', aggfunc = 'count')\n",
    "print(\"Odd ratio:\", list(np.around(pvt.values[0]/pvt.values[1],2)))\n",
    "pvt"
   ]
  },
  {
   "cell_type": "code",
   "execution_count": 61,
   "metadata": {},
   "outputs": [
    {
     "data": {
      "text/plain": [
       "Stop sign         61450\n",
       "Traffic signal    41175\n",
       "Yield sign         1679\n",
       "Traffic gate         32\n",
       "Name: traffic_control, dtype: int64"
      ]
     },
     "execution_count": 61,
     "metadata": {},
     "output_type": "execute_result"
    }
   ],
   "source": [
    "coll_dict = {\n",
    "             '01 - Traffic signal':'Traffic signal', \n",
    "             '02 - Stop sign':'Stop sign',\n",
    "            '03 - Yield sign':'Yield sign', \n",
    "             '04 - Ped. crossover': 'Yield sign', \n",
    "             '05 - Packed snow':'Ice',\n",
    "            '06 - Ice':'Ice',\n",
    "             '07 - School bus': 'Yield sign',\n",
    "             '08 - Traffic gate': 'Traffic gate',\n",
    "             '09 - Traffic controller': 'Yield sign',\n",
    "            '10 - No control':'Stop sign', \n",
    "            '11 - Roundabout':'Yield sign',\n",
    "            '12 - IPS':'Yield sign', \n",
    "            '13 - MPS':'Yield sign', \n",
    "            '99 - Other': 'Yield sign'\n",
    "}\n",
    "\n",
    "df['traffic_control'].replace(coll_dict, inplace = True)\n",
    "\n",
    "df.traffic_control.value_counts()"
   ]
  },
  {
   "cell_type": "markdown",
   "metadata": {},
   "source": [
    "# 5. Traffic control condition"
   ]
  },
  {
   "cell_type": "code",
   "execution_count": 62,
   "metadata": {},
   "outputs": [
    {
     "name": "stdout",
     "output_type": "stream",
     "text": [
      "Odd ratio: [1668.0, 731.28, nan, nan, nan]\n"
     ]
    },
    {
     "data": {
      "text/html": [
       "<div>\n",
       "<style scoped>\n",
       "    .dataframe tbody tr th:only-of-type {\n",
       "        vertical-align: middle;\n",
       "    }\n",
       "\n",
       "    .dataframe tbody tr th {\n",
       "        vertical-align: top;\n",
       "    }\n",
       "\n",
       "    .dataframe thead th {\n",
       "        text-align: right;\n",
       "    }\n",
       "</style>\n",
       "<table border=\"1\" class=\"dataframe\">\n",
       "  <thead>\n",
       "    <tr style=\"text-align: right;\">\n",
       "      <th>traffic_control_condition</th>\n",
       "      <th>00 - Unknown</th>\n",
       "      <th>01 - Functioning</th>\n",
       "      <th>02 - Not functioning</th>\n",
       "      <th>03 - Obscured</th>\n",
       "      <th>04 - Missing/Damaged</th>\n",
       "    </tr>\n",
       "    <tr>\n",
       "      <th>collision_classification</th>\n",
       "      <th></th>\n",
       "      <th></th>\n",
       "      <th></th>\n",
       "      <th></th>\n",
       "      <th></th>\n",
       "    </tr>\n",
       "  </thead>\n",
       "  <tbody>\n",
       "    <tr>\n",
       "      <th>0</th>\n",
       "      <td>3336.0</td>\n",
       "      <td>42414.0</td>\n",
       "      <td>231.0</td>\n",
       "      <td>31.0</td>\n",
       "      <td>12.0</td>\n",
       "    </tr>\n",
       "    <tr>\n",
       "      <th>1</th>\n",
       "      <td>2.0</td>\n",
       "      <td>58.0</td>\n",
       "      <td>NaN</td>\n",
       "      <td>NaN</td>\n",
       "      <td>NaN</td>\n",
       "    </tr>\n",
       "  </tbody>\n",
       "</table>\n",
       "</div>"
      ],
      "text/plain": [
       "traffic_control_condition  00 - Unknown  01 - Functioning  \\\n",
       "collision_classification                                    \n",
       "0                                3336.0           42414.0   \n",
       "1                                   2.0              58.0   \n",
       "\n",
       "traffic_control_condition  02 - Not functioning  03 - Obscured  \\\n",
       "collision_classification                                         \n",
       "0                                         231.0           31.0   \n",
       "1                                           NaN            NaN   \n",
       "\n",
       "traffic_control_condition  04 - Missing/Damaged  \n",
       "collision_classification                         \n",
       "0                                          12.0  \n",
       "1                                           NaN  "
      ]
     },
     "execution_count": 62,
     "metadata": {},
     "output_type": "execute_result"
    }
   ],
   "source": [
    "pvt = df.pivot_table('x', index = 'collision_classification', columns = 'traffic_control_condition',\n",
    "                     aggfunc = 'count')\n",
    "print(\"Odd ratio:\", list(np.around(pvt.values[0]/pvt.values[1],2)))\n",
    "pvt"
   ]
  },
  {
   "cell_type": "code",
   "execution_count": 63,
   "metadata": {},
   "outputs": [
    {
     "data": {
      "text/plain": [
       "Functioning        42472\n",
       "Unknown             3338\n",
       "Not functioning      274\n",
       "Name: traffic_control_condition, dtype: int64"
      ]
     },
     "execution_count": 63,
     "metadata": {},
     "output_type": "execute_result"
    }
   ],
   "source": [
    "coll_dict = {\n",
    "            '00 - Unknown': 'Unknown',\n",
    "             '01 - Functioning':'Functioning', \n",
    "             '02 - Not functioning':'Not functioning',\n",
    "            '03 - Obscured':'Not functioning', \n",
    "             '04 - Missing/Damaged': 'Not functioning'\n",
    "            \n",
    "}\n",
    "\n",
    "df['traffic_control_condition'].replace(coll_dict, inplace = True)\n",
    "\n",
    "df.traffic_control_condition.value_counts()"
   ]
  },
  {
   "cell_type": "markdown",
   "metadata": {},
   "source": [
    "# 6. Impact type"
   ]
  },
  {
   "cell_type": "code",
   "execution_count": 64,
   "metadata": {},
   "outputs": [
    {
     "name": "stdout",
     "output_type": "stream",
     "text": [
      "Odd ratio: [85.39, 599.62, 4407.25, 2339.67, 482.43, 4223.0, 206.91, 275.44]\n"
     ]
    },
    {
     "data": {
      "text/html": [
       "<div>\n",
       "<style scoped>\n",
       "    .dataframe tbody tr th:only-of-type {\n",
       "        vertical-align: middle;\n",
       "    }\n",
       "\n",
       "    .dataframe tbody tr th {\n",
       "        vertical-align: top;\n",
       "    }\n",
       "\n",
       "    .dataframe thead th {\n",
       "        text-align: right;\n",
       "    }\n",
       "</style>\n",
       "<table border=\"1\" class=\"dataframe\">\n",
       "  <thead>\n",
       "    <tr style=\"text-align: right;\">\n",
       "      <th>impact_type</th>\n",
       "      <th>01 - Approaching</th>\n",
       "      <th>02 - Angle</th>\n",
       "      <th>03 - Rear end</th>\n",
       "      <th>04 - Sideswipe</th>\n",
       "      <th>05 - Turning movement</th>\n",
       "      <th>06 - SMV unattended vehicle</th>\n",
       "      <th>07 - SMV other</th>\n",
       "      <th>99 - Other</th>\n",
       "    </tr>\n",
       "    <tr>\n",
       "      <th>collision_classification</th>\n",
       "      <th></th>\n",
       "      <th></th>\n",
       "      <th></th>\n",
       "      <th></th>\n",
       "      <th></th>\n",
       "      <th></th>\n",
       "      <th></th>\n",
       "      <th></th>\n",
       "    </tr>\n",
       "  </thead>\n",
       "  <tbody>\n",
       "    <tr>\n",
       "      <th>0</th>\n",
       "      <td>1537</td>\n",
       "      <td>14391</td>\n",
       "      <td>35258</td>\n",
       "      <td>14038</td>\n",
       "      <td>11096</td>\n",
       "      <td>8446</td>\n",
       "      <td>16967</td>\n",
       "      <td>2479</td>\n",
       "    </tr>\n",
       "    <tr>\n",
       "      <th>1</th>\n",
       "      <td>18</td>\n",
       "      <td>24</td>\n",
       "      <td>8</td>\n",
       "      <td>6</td>\n",
       "      <td>23</td>\n",
       "      <td>2</td>\n",
       "      <td>82</td>\n",
       "      <td>9</td>\n",
       "    </tr>\n",
       "  </tbody>\n",
       "</table>\n",
       "</div>"
      ],
      "text/plain": [
       "impact_type               01 - Approaching  02 - Angle  03 - Rear end  \\\n",
       "collision_classification                                                \n",
       "0                                     1537       14391          35258   \n",
       "1                                       18          24              8   \n",
       "\n",
       "impact_type               04 - Sideswipe  05 - Turning movement  \\\n",
       "collision_classification                                          \n",
       "0                                  14038                  11096   \n",
       "1                                      6                     23   \n",
       "\n",
       "impact_type               06 - SMV unattended vehicle  07 - SMV other  \\\n",
       "collision_classification                                                \n",
       "0                                                8446           16967   \n",
       "1                                                   2              82   \n",
       "\n",
       "impact_type               99 - Other  \n",
       "collision_classification              \n",
       "0                               2479  \n",
       "1                                  9  "
      ]
     },
     "execution_count": 64,
     "metadata": {},
     "output_type": "execute_result"
    }
   ],
   "source": [
    "pvt = df.pivot_table('x', index = 'collision_classification', columns = 'impact_type', aggfunc = 'count')\n",
    "print(\"Odd ratio:\", list(np.around(pvt.values[0]/pvt.values[1],2)))\n",
    "pvt"
   ]
  },
  {
   "cell_type": "code",
   "execution_count": 65,
   "metadata": {},
   "outputs": [
    {
     "data": {
      "text/plain": [
       "Rear end       43714\n",
       "Angle          25534\n",
       "Other          19537\n",
       "Sideswipe      14044\n",
       "Approaching     1555\n",
       "Name: impact_type, dtype: int64"
      ]
     },
     "execution_count": 65,
     "metadata": {},
     "output_type": "execute_result"
    }
   ],
   "source": [
    "coll_dict = {\n",
    "             '01 - Approaching':'Approaching', \n",
    "             '02 - Angle':'Angle',\n",
    "            '03 - Rear end':'Rear end', \n",
    "             '04 - Sideswipe': 'Sideswipe', \n",
    "             '05 - Turning movement':'Angle',\n",
    "            '06 - SMV unattended vehicle':'Rear end',\n",
    "             '07 - SMV other': 'Other',\n",
    "            '99 - Other': 'Other'\n",
    "}\n",
    "\n",
    "df['impact_type'].replace(coll_dict, inplace = True)\n",
    "\n",
    "df.impact_type.value_counts()"
   ]
  },
  {
   "cell_type": "markdown",
   "metadata": {},
   "source": [
    "# Save data as csv"
   ]
  },
  {
   "cell_type": "code",
   "execution_count": 66,
   "metadata": {},
   "outputs": [],
   "source": [
    "df.to_csv('../data/ml_data.csv', index = False)"
   ]
  },
  {
   "cell_type": "code",
   "execution_count": null,
   "metadata": {},
   "outputs": [],
   "source": []
  }
 ],
 "metadata": {
  "kernelspec": {
   "display_name": "Python 3",
   "language": "python",
   "name": "python3"
  },
  "language_info": {
   "codemirror_mode": {
    "name": "ipython",
    "version": 3
   },
   "file_extension": ".py",
   "mimetype": "text/x-python",
   "name": "python",
   "nbconvert_exporter": "python",
   "pygments_lexer": "ipython3",
   "version": "3.7.7"
  }
 },
 "nbformat": 4,
 "nbformat_minor": 2
}
