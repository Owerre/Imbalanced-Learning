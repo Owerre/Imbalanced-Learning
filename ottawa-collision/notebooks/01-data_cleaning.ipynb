{
 "cells": [
  {
   "cell_type": "markdown",
   "metadata": {},
   "source": [
    "# Data Cleaning and Consolidation"
   ]
  },
  {
   "cell_type": "code",
   "execution_count": 1,
   "metadata": {},
   "outputs": [],
   "source": [
    "%matplotlib inline\n",
    "\n",
    "# Filter warnings\n",
    "import warnings\n",
    "warnings.filterwarnings(\"ignore\")\n",
    "\n",
    "# Data manipulation\n",
    "import pandas as pd\n",
    "import numpy as np\n",
    "\n",
    "# Data visualization\n",
    "import matplotlib.pyplot as plt\n",
    "import seaborn as sns\n",
    "\n",
    "# Set font scale and style\n",
    "plt.rcParams.update({'font.size': 15})"
   ]
  },
  {
   "cell_type": "markdown",
   "metadata": {},
   "source": [
    "# Load raw data"
   ]
  },
  {
   "cell_type": "code",
   "execution_count": 2,
   "metadata": {},
   "outputs": [],
   "source": [
    "df1 = pd.read_csv('../data/2013_Tabular_Transportation_Collision_Data.csv')\n",
    "df2 = pd.read_csv('../data/2014_Tabular_Transportation_Collision_Data.csv')\n",
    "df3 = pd.read_csv('../data/2015_Tabular_Transportation_Collision_Data.csv')\n",
    "df4 = pd.read_csv('../data/2016_Tabular_Transportation_Collision_Data.csv')\n",
    "df5 = pd.read_csv('../data/2017_Tabular_Transportation_Collision_Data.csv')\n",
    "df6 = pd.read_csv('../data/2018_Tabular_Transportation_Collision_Data.csv')\n",
    "df7 = pd.read_csv('../data/2019_Tabular_Transportation_Collision_Data.csv')"
   ]
  },
  {
   "cell_type": "markdown",
   "metadata": {},
   "source": [
    "# Concatenate DataFrames 1 to 4"
   ]
  },
  {
   "cell_type": "code",
   "execution_count": 3,
   "metadata": {},
   "outputs": [
    {
     "output_type": "stream",
     "name": "stdout",
     "text": [
      "Data size (59107, 17)\n"
     ]
    },
    {
     "output_type": "execute_result",
     "data": {
      "text/plain": [
       "                     date                    time collision_id  \\\n",
       "0  2013/01/18 05:00:00+00  1899/12/31 23:13:00+00       13-704   \n",
       "1  2013/01/20 05:00:00+00  1899/12/31 18:45:00+00       13-806   \n",
       "2  2013/01/03 05:00:00+00  1899/12/31 21:22:00+00       13-101   \n",
       "3  2013/01/12 05:00:00+00  1899/12/31 21:10:00+00       13-502   \n",
       "4  2013/01/11 05:00:00+00  1900/01/01 04:00:00+00       13-503   \n",
       "\n",
       "                                            location             x          y  \\\n",
       "0            ROBERTSON RD btwn MOODIE DR & VANIER RD  357144.87500  5020503.5   \n",
       "1      FALLOWFIELD RD btwn EAGLESON RD & RICHMOND RD  356860.18750  5013034.5   \n",
       "2                              FIFTH AVE @ RUPERT ST  368589.71875  5029516.5   \n",
       "3                           BIRCH AVE @ FARNHAM CRES  370292.90625  5035187.0   \n",
       "4  ALESTHER ST btwn QUEEN MARY ST & PRINCE ALBERT ST  372133.18750  5032130.5   \n",
       "\n",
       "   longitude   latitude         environment          light surface_condition  \\\n",
       "0 -75.832298  45.322533          01 - Clear      07 - Dark          01 - Dry   \n",
       "1 -75.836708  45.255344  05 - Drifting Snow  01 - Daylight          06 - Ice   \n",
       "2 -75.685158  45.402679           03 - Snow  01 - Daylight          06 - Ice   \n",
       "3 -75.662651  45.453541          01 - Clear  01 - Daylight          02 - Wet   \n",
       "4 -75.639542  45.425865           02 - Rain      07 - Dark          02 - Wet   \n",
       "\n",
       "   traffic_control traffic_control_condition collision_classification  \\\n",
       "0  10 - No control                       NaN    02 - Non-fatal injury   \n",
       "1  10 - No control                       NaN           03 - P.D. only   \n",
       "2   02 - Stop sign          01 - Functioning           03 - P.D. only   \n",
       "3   02 - Stop sign          01 - Functioning           03 - P.D. only   \n",
       "4  10 - No control                       NaN           03 - P.D. only   \n",
       "\n",
       "                   impact_type  no_of_pedestrians  fid  \n",
       "0                   02 - Angle                  0    1  \n",
       "1             01 - Approaching                  0    2  \n",
       "2                   02 - Angle                  0    3  \n",
       "3                   02 - Angle                  0    4  \n",
       "4  06 - SMV unattended vehicle                  0    5  "
      ],
      "text/html": "<div>\n<style scoped>\n    .dataframe tbody tr th:only-of-type {\n        vertical-align: middle;\n    }\n\n    .dataframe tbody tr th {\n        vertical-align: top;\n    }\n\n    .dataframe thead th {\n        text-align: right;\n    }\n</style>\n<table border=\"1\" class=\"dataframe\">\n  <thead>\n    <tr style=\"text-align: right;\">\n      <th></th>\n      <th>date</th>\n      <th>time</th>\n      <th>collision_id</th>\n      <th>location</th>\n      <th>x</th>\n      <th>y</th>\n      <th>longitude</th>\n      <th>latitude</th>\n      <th>environment</th>\n      <th>light</th>\n      <th>surface_condition</th>\n      <th>traffic_control</th>\n      <th>traffic_control_condition</th>\n      <th>collision_classification</th>\n      <th>impact_type</th>\n      <th>no_of_pedestrians</th>\n      <th>fid</th>\n    </tr>\n  </thead>\n  <tbody>\n    <tr>\n      <th>0</th>\n      <td>2013/01/18 05:00:00+00</td>\n      <td>1899/12/31 23:13:00+00</td>\n      <td>13-704</td>\n      <td>ROBERTSON RD btwn MOODIE DR &amp; VANIER RD</td>\n      <td>357144.87500</td>\n      <td>5020503.5</td>\n      <td>-75.832298</td>\n      <td>45.322533</td>\n      <td>01 - Clear</td>\n      <td>07 - Dark</td>\n      <td>01 - Dry</td>\n      <td>10 - No control</td>\n      <td>NaN</td>\n      <td>02 - Non-fatal injury</td>\n      <td>02 - Angle</td>\n      <td>0</td>\n      <td>1</td>\n    </tr>\n    <tr>\n      <th>1</th>\n      <td>2013/01/20 05:00:00+00</td>\n      <td>1899/12/31 18:45:00+00</td>\n      <td>13-806</td>\n      <td>FALLOWFIELD RD btwn EAGLESON RD &amp; RICHMOND RD</td>\n      <td>356860.18750</td>\n      <td>5013034.5</td>\n      <td>-75.836708</td>\n      <td>45.255344</td>\n      <td>05 - Drifting Snow</td>\n      <td>01 - Daylight</td>\n      <td>06 - Ice</td>\n      <td>10 - No control</td>\n      <td>NaN</td>\n      <td>03 - P.D. only</td>\n      <td>01 - Approaching</td>\n      <td>0</td>\n      <td>2</td>\n    </tr>\n    <tr>\n      <th>2</th>\n      <td>2013/01/03 05:00:00+00</td>\n      <td>1899/12/31 21:22:00+00</td>\n      <td>13-101</td>\n      <td>FIFTH AVE @ RUPERT ST</td>\n      <td>368589.71875</td>\n      <td>5029516.5</td>\n      <td>-75.685158</td>\n      <td>45.402679</td>\n      <td>03 - Snow</td>\n      <td>01 - Daylight</td>\n      <td>06 - Ice</td>\n      <td>02 - Stop sign</td>\n      <td>01 - Functioning</td>\n      <td>03 - P.D. only</td>\n      <td>02 - Angle</td>\n      <td>0</td>\n      <td>3</td>\n    </tr>\n    <tr>\n      <th>3</th>\n      <td>2013/01/12 05:00:00+00</td>\n      <td>1899/12/31 21:10:00+00</td>\n      <td>13-502</td>\n      <td>BIRCH AVE @ FARNHAM CRES</td>\n      <td>370292.90625</td>\n      <td>5035187.0</td>\n      <td>-75.662651</td>\n      <td>45.453541</td>\n      <td>01 - Clear</td>\n      <td>01 - Daylight</td>\n      <td>02 - Wet</td>\n      <td>02 - Stop sign</td>\n      <td>01 - Functioning</td>\n      <td>03 - P.D. only</td>\n      <td>02 - Angle</td>\n      <td>0</td>\n      <td>4</td>\n    </tr>\n    <tr>\n      <th>4</th>\n      <td>2013/01/11 05:00:00+00</td>\n      <td>1900/01/01 04:00:00+00</td>\n      <td>13-503</td>\n      <td>ALESTHER ST btwn QUEEN MARY ST &amp; PRINCE ALBERT ST</td>\n      <td>372133.18750</td>\n      <td>5032130.5</td>\n      <td>-75.639542</td>\n      <td>45.425865</td>\n      <td>02 - Rain</td>\n      <td>07 - Dark</td>\n      <td>02 - Wet</td>\n      <td>10 - No control</td>\n      <td>NaN</td>\n      <td>03 - P.D. only</td>\n      <td>06 - SMV unattended vehicle</td>\n      <td>0</td>\n      <td>5</td>\n    </tr>\n  </tbody>\n</table>\n</div>"
     },
     "metadata": {},
     "execution_count": 3
    }
   ],
   "source": [
    "dfa = pd.concat([df1, df2, df3, df4], sort = False) # Concatenate\n",
    "print(\"Data size\", dfa.shape)\n",
    "dfa.columns = [x.lower() for x in dfa.columns] # column names in lower case\n",
    "dfa.head() # Display"
   ]
  },
  {
   "cell_type": "code",
   "execution_count": 4,
   "metadata": {},
   "outputs": [],
   "source": [
    "dfa['date'] = pd.to_datetime(dfa['date'])\n",
    "dfa['time'] = pd.to_datetime(dfa['time'])\n",
    "\n",
    "# Extract year, month, day and hour\n",
    "dfa['c_year'] = dfa['date'].dt.year\n",
    "dfa['c_month'] = dfa['date'].dt.month_name() \n",
    "dfa['c_day'] = dfa['date'].dt.day_name()\n",
    "dfa['c_hour'] = dfa['time'].dt.hour\n",
    "\n",
    "# Drop date and time columns\n",
    "dfa.drop(['date', 'time'],axis =1, inplace = True)"
   ]
  },
  {
   "cell_type": "markdown",
   "metadata": {},
   "source": [
    "# Dataframe 6"
   ]
  },
  {
   "cell_type": "code",
   "execution_count": 5,
   "metadata": {},
   "outputs": [
    {
     "output_type": "execute_result",
     "data": {
      "text/plain": [
       "                     date anom_id  year         time  \\\n",
       "0  2018/01/14 00:00:00+00  18-701  2018   5:50:00 PM   \n",
       "1  2018/01/15 00:00:00+00  18-702  2018   8:16:00 PM   \n",
       "2  2018/01/15 00:00:00+00  18-703  2018  11:24:00 PM   \n",
       "3  2018/01/16 00:00:00+00  18-704  2018  12:47:00 AM   \n",
       "4  2018/01/16 00:00:00+00  18-705  2018   5:47:00 AM   \n",
       "\n",
       "                                            location    geo_id  \\\n",
       "0  DALY AVE btwn CUMBERLAND ST & KING EDWARD AVE ...  __3ZA8ZJ   \n",
       "1           INDUSTRIAL AVE @ TRAINYARDS DR (0011906)     11906   \n",
       "2  KING EDWARD AVE btwn MARIE CURIE PRIV & TEMPLE...  __3ZA3MD   \n",
       "3                       BANK ST @ HERON RD (0002155)      2155   \n",
       "4             INNES RD @ STONEHENGE CRES E (0009355)      9355   \n",
       "\n",
       "            accident_location      class_of_accident  \\\n",
       "0  04 - At/near private drive         03 - P.D. only   \n",
       "1   02 - Intersection related  02 - Non-fatal injury   \n",
       "2  04 - At/near private drive         03 - P.D. only   \n",
       "3   02 - Intersection related         03 - P.D. only   \n",
       "4        03 - At intersection         03 - P.D. only   \n",
       "\n",
       "                   impact_type environment      light road_surface_condition  \\\n",
       "0  06 - SMV unattended vehicle  01 - Clear  07 - Dark       05 - Packed snow   \n",
       "1                03 - Rear end  01 - Clear  07 - Dark               01 - Dry   \n",
       "2                   02 - Angle  01 - Clear  07 - Dark        03 - Loose snow   \n",
       "3                03 - Rear end   03 - Snow  07 - Dark        03 - Loose snow   \n",
       "4                   02 - Angle   03 - Snow  07 - Dark        03 - Loose snow   \n",
       "\n",
       "       traffic_control traffic_control_condition  no_of_pedestrians  \\\n",
       "0      10 - No control                       NaN                  0   \n",
       "1  01 - Traffic signal          01 - Functioning                  0   \n",
       "2      10 - No control                       NaN                  0   \n",
       "3  01 - Traffic signal          01 - Functioning                  0   \n",
       "4  01 - Traffic signal          01 - Functioning                  0   \n",
       "\n",
       "             x            y  longitude   latitude  objectid  \n",
       "0  368538.3365  5032240.345 -75.685462  45.427193         1  \n",
       "1  371685.9556  5030539.478 -75.645472  45.411595         2  \n",
       "2  369051.3901  5031520.374 -75.679000  45.420668         3  \n",
       "3  369995.7196  5026851.542 -75.667552  45.378572         4  \n",
       "4  375364.7878  5031314.250 -75.598367  45.418205         5  "
      ],
      "text/html": "<div>\n<style scoped>\n    .dataframe tbody tr th:only-of-type {\n        vertical-align: middle;\n    }\n\n    .dataframe tbody tr th {\n        vertical-align: top;\n    }\n\n    .dataframe thead th {\n        text-align: right;\n    }\n</style>\n<table border=\"1\" class=\"dataframe\">\n  <thead>\n    <tr style=\"text-align: right;\">\n      <th></th>\n      <th>date</th>\n      <th>anom_id</th>\n      <th>year</th>\n      <th>time</th>\n      <th>location</th>\n      <th>geo_id</th>\n      <th>accident_location</th>\n      <th>class_of_accident</th>\n      <th>impact_type</th>\n      <th>environment</th>\n      <th>light</th>\n      <th>road_surface_condition</th>\n      <th>traffic_control</th>\n      <th>traffic_control_condition</th>\n      <th>no_of_pedestrians</th>\n      <th>x</th>\n      <th>y</th>\n      <th>longitude</th>\n      <th>latitude</th>\n      <th>objectid</th>\n    </tr>\n  </thead>\n  <tbody>\n    <tr>\n      <th>0</th>\n      <td>2018/01/14 00:00:00+00</td>\n      <td>18-701</td>\n      <td>2018</td>\n      <td>5:50:00 PM</td>\n      <td>DALY AVE btwn CUMBERLAND ST &amp; KING EDWARD AVE ...</td>\n      <td>__3ZA8ZJ</td>\n      <td>04 - At/near private drive</td>\n      <td>03 - P.D. only</td>\n      <td>06 - SMV unattended vehicle</td>\n      <td>01 - Clear</td>\n      <td>07 - Dark</td>\n      <td>05 - Packed snow</td>\n      <td>10 - No control</td>\n      <td>NaN</td>\n      <td>0</td>\n      <td>368538.3365</td>\n      <td>5032240.345</td>\n      <td>-75.685462</td>\n      <td>45.427193</td>\n      <td>1</td>\n    </tr>\n    <tr>\n      <th>1</th>\n      <td>2018/01/15 00:00:00+00</td>\n      <td>18-702</td>\n      <td>2018</td>\n      <td>8:16:00 PM</td>\n      <td>INDUSTRIAL AVE @ TRAINYARDS DR (0011906)</td>\n      <td>11906</td>\n      <td>02 - Intersection related</td>\n      <td>02 - Non-fatal injury</td>\n      <td>03 - Rear end</td>\n      <td>01 - Clear</td>\n      <td>07 - Dark</td>\n      <td>01 - Dry</td>\n      <td>01 - Traffic signal</td>\n      <td>01 - Functioning</td>\n      <td>0</td>\n      <td>371685.9556</td>\n      <td>5030539.478</td>\n      <td>-75.645472</td>\n      <td>45.411595</td>\n      <td>2</td>\n    </tr>\n    <tr>\n      <th>2</th>\n      <td>2018/01/15 00:00:00+00</td>\n      <td>18-703</td>\n      <td>2018</td>\n      <td>11:24:00 PM</td>\n      <td>KING EDWARD AVE btwn MARIE CURIE PRIV &amp; TEMPLE...</td>\n      <td>__3ZA3MD</td>\n      <td>04 - At/near private drive</td>\n      <td>03 - P.D. only</td>\n      <td>02 - Angle</td>\n      <td>01 - Clear</td>\n      <td>07 - Dark</td>\n      <td>03 - Loose snow</td>\n      <td>10 - No control</td>\n      <td>NaN</td>\n      <td>0</td>\n      <td>369051.3901</td>\n      <td>5031520.374</td>\n      <td>-75.679000</td>\n      <td>45.420668</td>\n      <td>3</td>\n    </tr>\n    <tr>\n      <th>3</th>\n      <td>2018/01/16 00:00:00+00</td>\n      <td>18-704</td>\n      <td>2018</td>\n      <td>12:47:00 AM</td>\n      <td>BANK ST @ HERON RD (0002155)</td>\n      <td>2155</td>\n      <td>02 - Intersection related</td>\n      <td>03 - P.D. only</td>\n      <td>03 - Rear end</td>\n      <td>03 - Snow</td>\n      <td>07 - Dark</td>\n      <td>03 - Loose snow</td>\n      <td>01 - Traffic signal</td>\n      <td>01 - Functioning</td>\n      <td>0</td>\n      <td>369995.7196</td>\n      <td>5026851.542</td>\n      <td>-75.667552</td>\n      <td>45.378572</td>\n      <td>4</td>\n    </tr>\n    <tr>\n      <th>4</th>\n      <td>2018/01/16 00:00:00+00</td>\n      <td>18-705</td>\n      <td>2018</td>\n      <td>5:47:00 AM</td>\n      <td>INNES RD @ STONEHENGE CRES E (0009355)</td>\n      <td>9355</td>\n      <td>03 - At intersection</td>\n      <td>03 - P.D. only</td>\n      <td>02 - Angle</td>\n      <td>03 - Snow</td>\n      <td>07 - Dark</td>\n      <td>03 - Loose snow</td>\n      <td>01 - Traffic signal</td>\n      <td>01 - Functioning</td>\n      <td>0</td>\n      <td>375364.7878</td>\n      <td>5031314.250</td>\n      <td>-75.598367</td>\n      <td>45.418205</td>\n      <td>5</td>\n    </tr>\n  </tbody>\n</table>\n</div>"
     },
     "metadata": {},
     "execution_count": 5
    }
   ],
   "source": [
    "df6.columns = [x.lower() for x in df6.columns] # column names in lower case\n",
    "df6.head()"
   ]
  },
  {
   "cell_type": "code",
   "execution_count": 6,
   "metadata": {},
   "outputs": [],
   "source": [
    "def split_extract(string_):\n",
    "    \"\"\"\n",
    "    Extract the first value in a token\n",
    "\n",
    "    Parameters\n",
    "    -----------\n",
    "    string_: string text\n",
    "\n",
    "    Returns\n",
    "    -------------\n",
    "    first value in a token \n",
    "    \"\"\"\n",
    "    token = [x for x in string_.split(':')]\n",
    "    return token[0]"
   ]
  },
  {
   "cell_type": "code",
   "execution_count": 7,
   "metadata": {},
   "outputs": [],
   "source": [
    "# Add collision hour\n",
    "df6['c_hour'] = df6['time'].apply(split_extract)\n",
    "\n",
    "# Rename columns\n",
    "col_map ={'anom_id':'collision_id', 'road_surface_condition': 'surface_condition',\n",
    "          'class_of_accident':'collision_classification', 'objectid':'fid'}\n",
    "df6.rename(columns=col_map, inplace=True)\n",
    "\n",
    "# Extract year, month, day and hour\n",
    "df6['date'] = pd.to_datetime(df6['date'])\n",
    "df6['c_year'] = df6['date'].dt.year\n",
    "df6['c_month'] = df6['date'].dt.month_name() \n",
    "df6['c_day'] = df6['date'].dt.day_name()\n",
    "\n",
    "# Drop columns\n",
    "list_to_drop =['geo_id', 'time', 'year', 'accident_location', 'date']\n",
    "df6.drop(list_to_drop,axis =1, inplace = True)"
   ]
  },
  {
   "cell_type": "code",
   "execution_count": 8,
   "metadata": {},
   "outputs": [
    {
     "output_type": "execute_result",
     "data": {
      "text/plain": [
       "True"
      ]
     },
     "metadata": {},
     "execution_count": 8
    }
   ],
   "source": [
    "# check if the columns match\n",
    "sorted(dfa.columns)  == sorted(df6.columns)"
   ]
  },
  {
   "cell_type": "code",
   "execution_count": 9,
   "metadata": {},
   "outputs": [
    {
     "output_type": "execute_result",
     "data": {
      "text/plain": [
       "5          1431\n",
       "8          1344\n",
       "7          1332\n",
       "4          1299\n",
       "6          1248\n",
       "3          1247\n",
       "9          1179\n",
       "2          1016\n",
       "12         1010\n",
       "11         1000\n",
       "1           952\n",
       "10          919\n",
       "Unknown     507\n",
       "Name: c_hour, dtype: int64"
      ]
     },
     "metadata": {},
     "execution_count": 9
    }
   ],
   "source": [
    "df6.c_hour.value_counts()"
   ]
  },
  {
   "cell_type": "code",
   "execution_count": 10,
   "metadata": {},
   "outputs": [],
   "source": [
    "# Replace Unknown with the mode\n",
    "df6.replace({'Unknown':'5'}, inplace=True)\n",
    "\n",
    "# Convert to integer\n",
    "df6.c_hour = df6.c_hour.astype('int')"
   ]
  },
  {
   "cell_type": "markdown",
   "metadata": {},
   "source": [
    "# Dataframe 7"
   ]
  },
  {
   "cell_type": "code",
   "execution_count": 11,
   "metadata": {},
   "outputs": [
    {
     "output_type": "execute_result",
     "data": {
      "text/plain": [
       "  anom_id           accident_date           accident_time  \\\n",
       "0  19-Jan  2019/01/01 00:00:00+00  2021/01/15 03:00:00+00   \n",
       "1  19-201  2019/01/07 00:00:00+00  2021/01/15 07:15:00+00   \n",
       "2  19-401  2019/01/11 00:00:00+00  2021/01/15 12:30:00+00   \n",
       "3  19-Feb  2019/01/01 00:00:00+00  2021/01/15 03:24:00+00   \n",
       "4  19-402  2019/01/10 00:00:00+00  2021/01/15 18:30:00+00   \n",
       "\n",
       "                                            location    geo_id  \\\n",
       "0  AIRPORT PKWY btwn AIRPORT PKWY & RAMP (1) (__3...  __3ZA22Y   \n",
       "1             CARLING AVE @ KIRKWOOD AVE S (0002209)      2209   \n",
       "2           ORLEANS BLVD @ ST. JOSEPH BLVD (0004144)      4144   \n",
       "3       BANK ST btwn PARK LANE & LYNCH ST (__3ZBPHM)  __3ZBPHM   \n",
       "4  PHEASANT RUN DR btwn READY WAY & OTTEN DR (__3...  __3ZBNEC   \n",
       "\n",
       "            accident_location classification_of_accident  \\\n",
       "0       01 - Non intersection             03 - P.D. only   \n",
       "1   02 - Intersection related             03 - P.D. only   \n",
       "2   02 - Intersection related             03 - P.D. only   \n",
       "3       01 - Non intersection             03 - P.D. only   \n",
       "4  04 - At/near private drive             03 - P.D. only   \n",
       "\n",
       "           initial_impact_type environment_condition          light  \\\n",
       "0               07 - SMV other             03 - Snow      07 - Dark   \n",
       "1                03 - Rear end            01 - Clear      03 - Dawn   \n",
       "2                03 - Rear end            01 - Clear  01 - Daylight   \n",
       "3               07 - SMV other    04 - Freezing Rain      07 - Dark   \n",
       "4  06 - SMV unattended vehicle            01 - Clear      07 - Dark   \n",
       "\n",
       "  road_surface_condition      traffic_control traffic_control_condition  \\\n",
       "0             04 - Slush      10 - No control                       NaN   \n",
       "1               01 - Dry  01 - Traffic signal              00 - Unknown   \n",
       "2               01 - Dry  01 - Traffic signal          01 - Functioning   \n",
       "3             04 - Slush      10 - No control                       NaN   \n",
       "4       05 - Packed snow      10 - No control                       NaN   \n",
       "\n",
       "             x            y  longitude   latitude  objectid  \n",
       "0  371081.4809  5023385.252 -75.654154  45.347281         1  \n",
       "1  364351.6901  5027337.521 -75.739552  45.383447         2  \n",
       "2  380631.8344  5036980.422 -75.530204  45.468634         3  \n",
       "3  374129.6712  5022656.664 -75.615362  45.340431         4  \n",
       "4  361712.8720  5015706.458 -75.774583  45.279010         5  "
      ],
      "text/html": "<div>\n<style scoped>\n    .dataframe tbody tr th:only-of-type {\n        vertical-align: middle;\n    }\n\n    .dataframe tbody tr th {\n        vertical-align: top;\n    }\n\n    .dataframe thead th {\n        text-align: right;\n    }\n</style>\n<table border=\"1\" class=\"dataframe\">\n  <thead>\n    <tr style=\"text-align: right;\">\n      <th></th>\n      <th>anom_id</th>\n      <th>accident_date</th>\n      <th>accident_time</th>\n      <th>location</th>\n      <th>geo_id</th>\n      <th>accident_location</th>\n      <th>classification_of_accident</th>\n      <th>initial_impact_type</th>\n      <th>environment_condition</th>\n      <th>light</th>\n      <th>road_surface_condition</th>\n      <th>traffic_control</th>\n      <th>traffic_control_condition</th>\n      <th>x</th>\n      <th>y</th>\n      <th>longitude</th>\n      <th>latitude</th>\n      <th>objectid</th>\n    </tr>\n  </thead>\n  <tbody>\n    <tr>\n      <th>0</th>\n      <td>19-Jan</td>\n      <td>2019/01/01 00:00:00+00</td>\n      <td>2021/01/15 03:00:00+00</td>\n      <td>AIRPORT PKWY btwn AIRPORT PKWY &amp; RAMP (1) (__3...</td>\n      <td>__3ZA22Y</td>\n      <td>01 - Non intersection</td>\n      <td>03 - P.D. only</td>\n      <td>07 - SMV other</td>\n      <td>03 - Snow</td>\n      <td>07 - Dark</td>\n      <td>04 - Slush</td>\n      <td>10 - No control</td>\n      <td>NaN</td>\n      <td>371081.4809</td>\n      <td>5023385.252</td>\n      <td>-75.654154</td>\n      <td>45.347281</td>\n      <td>1</td>\n    </tr>\n    <tr>\n      <th>1</th>\n      <td>19-201</td>\n      <td>2019/01/07 00:00:00+00</td>\n      <td>2021/01/15 07:15:00+00</td>\n      <td>CARLING AVE @ KIRKWOOD AVE S (0002209)</td>\n      <td>2209</td>\n      <td>02 - Intersection related</td>\n      <td>03 - P.D. only</td>\n      <td>03 - Rear end</td>\n      <td>01 - Clear</td>\n      <td>03 - Dawn</td>\n      <td>01 - Dry</td>\n      <td>01 - Traffic signal</td>\n      <td>00 - Unknown</td>\n      <td>364351.6901</td>\n      <td>5027337.521</td>\n      <td>-75.739552</td>\n      <td>45.383447</td>\n      <td>2</td>\n    </tr>\n    <tr>\n      <th>2</th>\n      <td>19-401</td>\n      <td>2019/01/11 00:00:00+00</td>\n      <td>2021/01/15 12:30:00+00</td>\n      <td>ORLEANS BLVD @ ST. JOSEPH BLVD (0004144)</td>\n      <td>4144</td>\n      <td>02 - Intersection related</td>\n      <td>03 - P.D. only</td>\n      <td>03 - Rear end</td>\n      <td>01 - Clear</td>\n      <td>01 - Daylight</td>\n      <td>01 - Dry</td>\n      <td>01 - Traffic signal</td>\n      <td>01 - Functioning</td>\n      <td>380631.8344</td>\n      <td>5036980.422</td>\n      <td>-75.530204</td>\n      <td>45.468634</td>\n      <td>3</td>\n    </tr>\n    <tr>\n      <th>3</th>\n      <td>19-Feb</td>\n      <td>2019/01/01 00:00:00+00</td>\n      <td>2021/01/15 03:24:00+00</td>\n      <td>BANK ST btwn PARK LANE &amp; LYNCH ST (__3ZBPHM)</td>\n      <td>__3ZBPHM</td>\n      <td>01 - Non intersection</td>\n      <td>03 - P.D. only</td>\n      <td>07 - SMV other</td>\n      <td>04 - Freezing Rain</td>\n      <td>07 - Dark</td>\n      <td>04 - Slush</td>\n      <td>10 - No control</td>\n      <td>NaN</td>\n      <td>374129.6712</td>\n      <td>5022656.664</td>\n      <td>-75.615362</td>\n      <td>45.340431</td>\n      <td>4</td>\n    </tr>\n    <tr>\n      <th>4</th>\n      <td>19-402</td>\n      <td>2019/01/10 00:00:00+00</td>\n      <td>2021/01/15 18:30:00+00</td>\n      <td>PHEASANT RUN DR btwn READY WAY &amp; OTTEN DR (__3...</td>\n      <td>__3ZBNEC</td>\n      <td>04 - At/near private drive</td>\n      <td>03 - P.D. only</td>\n      <td>06 - SMV unattended vehicle</td>\n      <td>01 - Clear</td>\n      <td>07 - Dark</td>\n      <td>05 - Packed snow</td>\n      <td>10 - No control</td>\n      <td>NaN</td>\n      <td>361712.8720</td>\n      <td>5015706.458</td>\n      <td>-75.774583</td>\n      <td>45.279010</td>\n      <td>5</td>\n    </tr>\n  </tbody>\n</table>\n</div>"
     },
     "metadata": {},
     "execution_count": 11
    }
   ],
   "source": [
    "df7.columns = [x.lower() for x in df7.columns] # column names in lower case\n",
    "df7.head()"
   ]
  },
  {
   "cell_type": "code",
   "execution_count": 12,
   "metadata": {},
   "outputs": [],
   "source": [
    "# Rename columns\n",
    "col_map ={'anom_id':'collision_id', 'road_surface_condition': 'surface_condition',\n",
    "          'classification_of_accident':'collision_classification', 'objectid':'fid',\n",
    "          'accident_date':'date', 'accident_time': 'time', 'initial_impact_type':'impact_type',\n",
    "          'environment_condition':'environment'}\n",
    "df7.rename(columns=col_map, inplace=True)\n",
    "\n",
    "# Extract year, month, day, and hour\n",
    "df7['date'] = pd.to_datetime(df7['date'])\n",
    "df7['time'] = pd.to_datetime(df7['time'])\n",
    "\n",
    "df7['c_year'] = df7['date'].dt.year\n",
    "df7['c_month'] = df7['date'].dt.month_name() \n",
    "df7['c_day'] = df7['date'].dt.day_name()\n",
    "df7['c_hour'] = df7['time'].dt.hour\n",
    "\n",
    "# Add no of pedestrians\n",
    "df7['no_of_pedestrians'] = np.zeros(len(df7))\n",
    "\n",
    "# Drop columns\n",
    "list_to_drop =['geo_id', 'time', 'accident_location', 'date']\n",
    "df7.drop(list_to_drop,axis =1, inplace = True)"
   ]
  },
  {
   "cell_type": "code",
   "execution_count": 13,
   "metadata": {
    "scrolled": false
   },
   "outputs": [
    {
     "output_type": "execute_result",
     "data": {
      "text/plain": [
       "True"
      ]
     },
     "metadata": {},
     "execution_count": 13
    }
   ],
   "source": [
    "# check if the columns match\n",
    "sorted(dfa.columns)  == sorted(df7.columns)"
   ]
  },
  {
   "source": [
    "# Dataframe 5\n",
    "The date and time in dataframe 5 is not consistent with the rest of dataframes, therefore we will drop Dataframe 5"
   ],
   "cell_type": "markdown",
   "metadata": {}
  },
  {
   "cell_type": "code",
   "execution_count": 14,
   "metadata": {},
   "outputs": [
    {
     "output_type": "execute_result",
     "data": {
      "text/plain": [
       "   record                           location             x          y  \\\n",
       "0     101        AIRPORT PKWY @ HUNT CLUB RD  371019.37500  5023704.0   \n",
       "1     102        AIRPORT PKWY @ HUNT CLUB RD  371019.53125  5023703.0   \n",
       "2     103        AIRPORT PKWY @ HUNT CLUB RD  371018.87500  5023702.5   \n",
       "3     104        AIRPORT PKWY @ HUNT CLUB RD  371019.00000  5023703.0   \n",
       "4     105  AIRPORT PKWY @ UPLANDS DR RAMP 62  371299.43750  5021621.5   \n",
       "\n",
       "   longitude   latitude  year           date           time environment  \\\n",
       "0 -75.654907  45.350155  2017  1484283600000 -2209003920000  01 - Clear   \n",
       "1 -75.654900  45.350147  2017  1489550400000 -2209028940000   03 - Snow   \n",
       "2 -75.654907  45.350140  2017  1492574400000 -2209008540000   02 - Rain   \n",
       "3 -75.654907  45.350143  2017  1513832400000 -2209026120000  01 - Clear   \n",
       "4 -75.651611  45.331390  2017  1509336000000 -2209045200000   02 - Rain   \n",
       "\n",
       "  road_surface      traffic_control         collision_location          light  \\\n",
       "0     01 - Dry  01 - Traffic signal  02 - Intersection related  01 - Daylight   \n",
       "1   04 - Slush  01 - Traffic signal  02 - Intersection related  01 - Daylight   \n",
       "2     02 - Wet  01 - Traffic signal  02 - Intersection related  01 - Daylight   \n",
       "3     06 - Ice  01 - Traffic signal  02 - Intersection related  01 - Daylight   \n",
       "4     02 - Wet      03 - Yield sign  02 - Intersection related      07 - Dark   \n",
       "\n",
       "  collision_classification     impact_type  fid  \n",
       "0           03 - P.D. only  04 - Sideswipe    1  \n",
       "1           03 - P.D. only   03 - Rear end    2  \n",
       "2           03 - P.D. only  04 - Sideswipe    3  \n",
       "3           03 - P.D. only   03 - Rear end    4  \n",
       "4           03 - P.D. only  04 - Sideswipe    5  "
      ],
      "text/html": "<div>\n<style scoped>\n    .dataframe tbody tr th:only-of-type {\n        vertical-align: middle;\n    }\n\n    .dataframe tbody tr th {\n        vertical-align: top;\n    }\n\n    .dataframe thead th {\n        text-align: right;\n    }\n</style>\n<table border=\"1\" class=\"dataframe\">\n  <thead>\n    <tr style=\"text-align: right;\">\n      <th></th>\n      <th>record</th>\n      <th>location</th>\n      <th>x</th>\n      <th>y</th>\n      <th>longitude</th>\n      <th>latitude</th>\n      <th>year</th>\n      <th>date</th>\n      <th>time</th>\n      <th>environment</th>\n      <th>road_surface</th>\n      <th>traffic_control</th>\n      <th>collision_location</th>\n      <th>light</th>\n      <th>collision_classification</th>\n      <th>impact_type</th>\n      <th>fid</th>\n    </tr>\n  </thead>\n  <tbody>\n    <tr>\n      <th>0</th>\n      <td>101</td>\n      <td>AIRPORT PKWY @ HUNT CLUB RD</td>\n      <td>371019.37500</td>\n      <td>5023704.0</td>\n      <td>-75.654907</td>\n      <td>45.350155</td>\n      <td>2017</td>\n      <td>1484283600000</td>\n      <td>-2209003920000</td>\n      <td>01 - Clear</td>\n      <td>01 - Dry</td>\n      <td>01 - Traffic signal</td>\n      <td>02 - Intersection related</td>\n      <td>01 - Daylight</td>\n      <td>03 - P.D. only</td>\n      <td>04 - Sideswipe</td>\n      <td>1</td>\n    </tr>\n    <tr>\n      <th>1</th>\n      <td>102</td>\n      <td>AIRPORT PKWY @ HUNT CLUB RD</td>\n      <td>371019.53125</td>\n      <td>5023703.0</td>\n      <td>-75.654900</td>\n      <td>45.350147</td>\n      <td>2017</td>\n      <td>1489550400000</td>\n      <td>-2209028940000</td>\n      <td>03 - Snow</td>\n      <td>04 - Slush</td>\n      <td>01 - Traffic signal</td>\n      <td>02 - Intersection related</td>\n      <td>01 - Daylight</td>\n      <td>03 - P.D. only</td>\n      <td>03 - Rear end</td>\n      <td>2</td>\n    </tr>\n    <tr>\n      <th>2</th>\n      <td>103</td>\n      <td>AIRPORT PKWY @ HUNT CLUB RD</td>\n      <td>371018.87500</td>\n      <td>5023702.5</td>\n      <td>-75.654907</td>\n      <td>45.350140</td>\n      <td>2017</td>\n      <td>1492574400000</td>\n      <td>-2209008540000</td>\n      <td>02 - Rain</td>\n      <td>02 - Wet</td>\n      <td>01 - Traffic signal</td>\n      <td>02 - Intersection related</td>\n      <td>01 - Daylight</td>\n      <td>03 - P.D. only</td>\n      <td>04 - Sideswipe</td>\n      <td>3</td>\n    </tr>\n    <tr>\n      <th>3</th>\n      <td>104</td>\n      <td>AIRPORT PKWY @ HUNT CLUB RD</td>\n      <td>371019.00000</td>\n      <td>5023703.0</td>\n      <td>-75.654907</td>\n      <td>45.350143</td>\n      <td>2017</td>\n      <td>1513832400000</td>\n      <td>-2209026120000</td>\n      <td>01 - Clear</td>\n      <td>06 - Ice</td>\n      <td>01 - Traffic signal</td>\n      <td>02 - Intersection related</td>\n      <td>01 - Daylight</td>\n      <td>03 - P.D. only</td>\n      <td>03 - Rear end</td>\n      <td>4</td>\n    </tr>\n    <tr>\n      <th>4</th>\n      <td>105</td>\n      <td>AIRPORT PKWY @ UPLANDS DR RAMP 62</td>\n      <td>371299.43750</td>\n      <td>5021621.5</td>\n      <td>-75.651611</td>\n      <td>45.331390</td>\n      <td>2017</td>\n      <td>1509336000000</td>\n      <td>-2209045200000</td>\n      <td>02 - Rain</td>\n      <td>02 - Wet</td>\n      <td>03 - Yield sign</td>\n      <td>02 - Intersection related</td>\n      <td>07 - Dark</td>\n      <td>03 - P.D. only</td>\n      <td>04 - Sideswipe</td>\n      <td>5</td>\n    </tr>\n  </tbody>\n</table>\n</div>"
     },
     "metadata": {},
     "execution_count": 14
    }
   ],
   "source": [
    "df5.columns = [x.lower() for x in df5.columns] # column names in lower case\n",
    "df5.head()"
   ]
  },
  {
   "cell_type": "markdown",
   "metadata": {},
   "source": [
    "# Concatenate All DataFrames Except DataFrame 5"
   ]
  },
  {
   "cell_type": "code",
   "execution_count": 15,
   "metadata": {},
   "outputs": [
    {
     "output_type": "stream",
     "name": "stdout",
     "text": [
      "Data size (89990, 19)\n"
     ]
    },
    {
     "output_type": "execute_result",
     "data": {
      "text/plain": [
       "  collision_id                                           location  \\\n",
       "0       13-704            ROBERTSON RD btwn MOODIE DR & VANIER RD   \n",
       "1       13-806      FALLOWFIELD RD btwn EAGLESON RD & RICHMOND RD   \n",
       "2       13-101                              FIFTH AVE @ RUPERT ST   \n",
       "3       13-502                           BIRCH AVE @ FARNHAM CRES   \n",
       "4       13-503  ALESTHER ST btwn QUEEN MARY ST & PRINCE ALBERT ST   \n",
       "\n",
       "              x          y  longitude   latitude         environment  \\\n",
       "0  357144.87500  5020503.5 -75.832298  45.322533          01 - Clear   \n",
       "1  356860.18750  5013034.5 -75.836708  45.255344  05 - Drifting Snow   \n",
       "2  368589.71875  5029516.5 -75.685158  45.402679           03 - Snow   \n",
       "3  370292.90625  5035187.0 -75.662651  45.453541          01 - Clear   \n",
       "4  372133.18750  5032130.5 -75.639542  45.425865           02 - Rain   \n",
       "\n",
       "           light surface_condition  traffic_control traffic_control_condition  \\\n",
       "0      07 - Dark          01 - Dry  10 - No control                       NaN   \n",
       "1  01 - Daylight          06 - Ice  10 - No control                       NaN   \n",
       "2  01 - Daylight          06 - Ice   02 - Stop sign          01 - Functioning   \n",
       "3  01 - Daylight          02 - Wet   02 - Stop sign          01 - Functioning   \n",
       "4      07 - Dark          02 - Wet  10 - No control                       NaN   \n",
       "\n",
       "  collision_classification                  impact_type  no_of_pedestrians  \\\n",
       "0    02 - Non-fatal injury                   02 - Angle                0.0   \n",
       "1           03 - P.D. only             01 - Approaching                0.0   \n",
       "2           03 - P.D. only                   02 - Angle                0.0   \n",
       "3           03 - P.D. only                   02 - Angle                0.0   \n",
       "4           03 - P.D. only  06 - SMV unattended vehicle                0.0   \n",
       "\n",
       "   fid  c_year  c_month     c_day  c_hour  \n",
       "0    1    2013  January    Friday      23  \n",
       "1    2    2013  January    Sunday      18  \n",
       "2    3    2013  January  Thursday      21  \n",
       "3    4    2013  January  Saturday      21  \n",
       "4    5    2013  January    Friday       4  "
      ],
      "text/html": "<div>\n<style scoped>\n    .dataframe tbody tr th:only-of-type {\n        vertical-align: middle;\n    }\n\n    .dataframe tbody tr th {\n        vertical-align: top;\n    }\n\n    .dataframe thead th {\n        text-align: right;\n    }\n</style>\n<table border=\"1\" class=\"dataframe\">\n  <thead>\n    <tr style=\"text-align: right;\">\n      <th></th>\n      <th>collision_id</th>\n      <th>location</th>\n      <th>x</th>\n      <th>y</th>\n      <th>longitude</th>\n      <th>latitude</th>\n      <th>environment</th>\n      <th>light</th>\n      <th>surface_condition</th>\n      <th>traffic_control</th>\n      <th>traffic_control_condition</th>\n      <th>collision_classification</th>\n      <th>impact_type</th>\n      <th>no_of_pedestrians</th>\n      <th>fid</th>\n      <th>c_year</th>\n      <th>c_month</th>\n      <th>c_day</th>\n      <th>c_hour</th>\n    </tr>\n  </thead>\n  <tbody>\n    <tr>\n      <th>0</th>\n      <td>13-704</td>\n      <td>ROBERTSON RD btwn MOODIE DR &amp; VANIER RD</td>\n      <td>357144.87500</td>\n      <td>5020503.5</td>\n      <td>-75.832298</td>\n      <td>45.322533</td>\n      <td>01 - Clear</td>\n      <td>07 - Dark</td>\n      <td>01 - Dry</td>\n      <td>10 - No control</td>\n      <td>NaN</td>\n      <td>02 - Non-fatal injury</td>\n      <td>02 - Angle</td>\n      <td>0.0</td>\n      <td>1</td>\n      <td>2013</td>\n      <td>January</td>\n      <td>Friday</td>\n      <td>23</td>\n    </tr>\n    <tr>\n      <th>1</th>\n      <td>13-806</td>\n      <td>FALLOWFIELD RD btwn EAGLESON RD &amp; RICHMOND RD</td>\n      <td>356860.18750</td>\n      <td>5013034.5</td>\n      <td>-75.836708</td>\n      <td>45.255344</td>\n      <td>05 - Drifting Snow</td>\n      <td>01 - Daylight</td>\n      <td>06 - Ice</td>\n      <td>10 - No control</td>\n      <td>NaN</td>\n      <td>03 - P.D. only</td>\n      <td>01 - Approaching</td>\n      <td>0.0</td>\n      <td>2</td>\n      <td>2013</td>\n      <td>January</td>\n      <td>Sunday</td>\n      <td>18</td>\n    </tr>\n    <tr>\n      <th>2</th>\n      <td>13-101</td>\n      <td>FIFTH AVE @ RUPERT ST</td>\n      <td>368589.71875</td>\n      <td>5029516.5</td>\n      <td>-75.685158</td>\n      <td>45.402679</td>\n      <td>03 - Snow</td>\n      <td>01 - Daylight</td>\n      <td>06 - Ice</td>\n      <td>02 - Stop sign</td>\n      <td>01 - Functioning</td>\n      <td>03 - P.D. only</td>\n      <td>02 - Angle</td>\n      <td>0.0</td>\n      <td>3</td>\n      <td>2013</td>\n      <td>January</td>\n      <td>Thursday</td>\n      <td>21</td>\n    </tr>\n    <tr>\n      <th>3</th>\n      <td>13-502</td>\n      <td>BIRCH AVE @ FARNHAM CRES</td>\n      <td>370292.90625</td>\n      <td>5035187.0</td>\n      <td>-75.662651</td>\n      <td>45.453541</td>\n      <td>01 - Clear</td>\n      <td>01 - Daylight</td>\n      <td>02 - Wet</td>\n      <td>02 - Stop sign</td>\n      <td>01 - Functioning</td>\n      <td>03 - P.D. only</td>\n      <td>02 - Angle</td>\n      <td>0.0</td>\n      <td>4</td>\n      <td>2013</td>\n      <td>January</td>\n      <td>Saturday</td>\n      <td>21</td>\n    </tr>\n    <tr>\n      <th>4</th>\n      <td>13-503</td>\n      <td>ALESTHER ST btwn QUEEN MARY ST &amp; PRINCE ALBERT ST</td>\n      <td>372133.18750</td>\n      <td>5032130.5</td>\n      <td>-75.639542</td>\n      <td>45.425865</td>\n      <td>02 - Rain</td>\n      <td>07 - Dark</td>\n      <td>02 - Wet</td>\n      <td>10 - No control</td>\n      <td>NaN</td>\n      <td>03 - P.D. only</td>\n      <td>06 - SMV unattended vehicle</td>\n      <td>0.0</td>\n      <td>5</td>\n      <td>2013</td>\n      <td>January</td>\n      <td>Friday</td>\n      <td>4</td>\n    </tr>\n  </tbody>\n</table>\n</div>"
     },
     "metadata": {},
     "execution_count": 15
    }
   ],
   "source": [
    "df = pd.concat([dfa, df6, df7], sort = False) \n",
    "print(\"Data size\", df.shape)\n",
    "df.head() "
   ]
  },
  {
   "cell_type": "code",
   "execution_count": 16,
   "metadata": {},
   "outputs": [],
   "source": [
    "# Drop duplicate rows\n",
    "df.drop_duplicates(inplace = True) "
   ]
  },
  {
   "cell_type": "code",
   "execution_count": 17,
   "metadata": {},
   "outputs": [],
   "source": [
    "# Rename column\n",
    "df.rename(columns = {'collision_classification':'class'}, inplace = True)"
   ]
  },
  {
   "cell_type": "code",
   "execution_count": 18,
   "metadata": {},
   "outputs": [],
   "source": [
    "# Change encoding\n",
    "_dict = {'03 - P.D. only':'P.D. only', '02 - Non-fatal injury':'Non-fatal injury', \n",
    "'01 - Fatal injury':'Fatal injury'}\n",
    "df['class'].replace(_dict, inplace=True)"
   ]
  },
  {
   "cell_type": "markdown",
   "metadata": {},
   "source": [
    "# Save data"
   ]
  },
  {
   "source": [
    "df.to_csv('../data/clean_data.csv', index = False)"
   ],
   "cell_type": "code",
   "metadata": {},
   "execution_count": 19,
   "outputs": []
  },
  {
   "cell_type": "code",
   "execution_count": null,
   "metadata": {},
   "outputs": [],
   "source": []
  }
 ],
 "metadata": {
  "kernelspec": {
   "name": "python394jvsc74a57bd0aee8b7b246df8f9039afb4144a1f6fd8d2ca17a180786b69acc140d282b71a49",
   "display_name": "Python 3.9.4 64-bit"
  },
  "language_info": {
   "codemirror_mode": {
    "name": "ipython",
    "version": 3
   },
   "file_extension": ".py",
   "mimetype": "text/x-python",
   "name": "python",
   "nbconvert_exporter": "python",
   "pygments_lexer": "ipython3",
   "version": "3.9.4"
  },
  "metadata": {
   "interpreter": {
    "hash": "aee8b7b246df8f9039afb4144a1f6fd8d2ca17a180786b69acc140d282b71a49"
   }
  }
 },
 "nbformat": 4,
 "nbformat_minor": 2
}