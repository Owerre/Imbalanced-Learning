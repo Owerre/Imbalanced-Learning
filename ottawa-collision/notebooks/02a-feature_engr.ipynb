{
 "cells": [
  {
   "cell_type": "markdown",
   "metadata": {},
   "source": [
    "# Feature Engineering\n",
    "In this notebook, we will engineer count based features based on existing features. We note that the number of features which can be engineered through count is very large"
   ]
  },
  {
   "cell_type": "code",
   "execution_count": 12,
   "metadata": {},
   "outputs": [],
   "source": [
    "# Ignore deprecated warning\n",
    "import warnings\n",
    "warnings.filterwarnings(\"ignore\")\n",
    "\n",
    "# Data manipulation\n",
    "%matplotlib inline\n",
    "import pandas as pd\n",
    "import numpy as np\n",
    "import time\n",
    "\n",
    "# Data visualization\n",
    "import matplotlib.pyplot as plt\n",
    "import seaborn as sns\n",
    "\n",
    "# Set font scale and style\n",
    "plt.rcParams.update({'font.size': 15})"
   ]
  },
  {
   "cell_type": "code",
   "execution_count": 13,
   "metadata": {},
   "outputs": [
    {
     "output_type": "stream",
     "name": "stdout",
     "text": [
      "Data size (89990, 19)\n"
     ]
    },
    {
     "output_type": "execute_result",
     "data": {
      "text/plain": [
       "  collision_id                                           location  \\\n",
       "0       13-704            ROBERTSON RD btwn MOODIE DR & VANIER RD   \n",
       "1       13-806      FALLOWFIELD RD btwn EAGLESON RD & RICHMOND RD   \n",
       "2       13-101                              FIFTH AVE @ RUPERT ST   \n",
       "3       13-502                           BIRCH AVE @ FARNHAM CRES   \n",
       "4       13-503  ALESTHER ST btwn QUEEN MARY ST & PRINCE ALBERT ST   \n",
       "\n",
       "              x          y  longitude   latitude         environment  \\\n",
       "0  357144.87500  5020503.5 -75.832298  45.322533          01 - Clear   \n",
       "1  356860.18750  5013034.5 -75.836708  45.255344  05 - Drifting Snow   \n",
       "2  368589.71875  5029516.5 -75.685158  45.402679           03 - Snow   \n",
       "3  370292.90625  5035187.0 -75.662651  45.453541          01 - Clear   \n",
       "4  372133.18750  5032130.5 -75.639542  45.425865           02 - Rain   \n",
       "\n",
       "           light surface_condition  traffic_control traffic_control_condition  \\\n",
       "0      07 - Dark          01 - Dry  10 - No control                       NaN   \n",
       "1  01 - Daylight          06 - Ice  10 - No control                       NaN   \n",
       "2  01 - Daylight          06 - Ice   02 - Stop sign          01 - Functioning   \n",
       "3  01 - Daylight          02 - Wet   02 - Stop sign          01 - Functioning   \n",
       "4      07 - Dark          02 - Wet  10 - No control                       NaN   \n",
       "\n",
       "              class                  impact_type  no_of_pedestrians  fid  \\\n",
       "0  Non-fatal injury                   02 - Angle                0.0    1   \n",
       "1         P.D. only             01 - Approaching                0.0    2   \n",
       "2         P.D. only                   02 - Angle                0.0    3   \n",
       "3         P.D. only                   02 - Angle                0.0    4   \n",
       "4         P.D. only  06 - SMV unattended vehicle                0.0    5   \n",
       "\n",
       "   c_year  c_month     c_day  c_hour  \n",
       "0    2013  January    Friday      23  \n",
       "1    2013  January    Sunday      18  \n",
       "2    2013  January  Thursday      21  \n",
       "3    2013  January  Saturday      21  \n",
       "4    2013  January    Friday       4  "
      ],
      "text/html": "<div>\n<style scoped>\n    .dataframe tbody tr th:only-of-type {\n        vertical-align: middle;\n    }\n\n    .dataframe tbody tr th {\n        vertical-align: top;\n    }\n\n    .dataframe thead th {\n        text-align: right;\n    }\n</style>\n<table border=\"1\" class=\"dataframe\">\n  <thead>\n    <tr style=\"text-align: right;\">\n      <th></th>\n      <th>collision_id</th>\n      <th>location</th>\n      <th>x</th>\n      <th>y</th>\n      <th>longitude</th>\n      <th>latitude</th>\n      <th>environment</th>\n      <th>light</th>\n      <th>surface_condition</th>\n      <th>traffic_control</th>\n      <th>traffic_control_condition</th>\n      <th>class</th>\n      <th>impact_type</th>\n      <th>no_of_pedestrians</th>\n      <th>fid</th>\n      <th>c_year</th>\n      <th>c_month</th>\n      <th>c_day</th>\n      <th>c_hour</th>\n    </tr>\n  </thead>\n  <tbody>\n    <tr>\n      <th>0</th>\n      <td>13-704</td>\n      <td>ROBERTSON RD btwn MOODIE DR &amp; VANIER RD</td>\n      <td>357144.87500</td>\n      <td>5020503.5</td>\n      <td>-75.832298</td>\n      <td>45.322533</td>\n      <td>01 - Clear</td>\n      <td>07 - Dark</td>\n      <td>01 - Dry</td>\n      <td>10 - No control</td>\n      <td>NaN</td>\n      <td>Non-fatal injury</td>\n      <td>02 - Angle</td>\n      <td>0.0</td>\n      <td>1</td>\n      <td>2013</td>\n      <td>January</td>\n      <td>Friday</td>\n      <td>23</td>\n    </tr>\n    <tr>\n      <th>1</th>\n      <td>13-806</td>\n      <td>FALLOWFIELD RD btwn EAGLESON RD &amp; RICHMOND RD</td>\n      <td>356860.18750</td>\n      <td>5013034.5</td>\n      <td>-75.836708</td>\n      <td>45.255344</td>\n      <td>05 - Drifting Snow</td>\n      <td>01 - Daylight</td>\n      <td>06 - Ice</td>\n      <td>10 - No control</td>\n      <td>NaN</td>\n      <td>P.D. only</td>\n      <td>01 - Approaching</td>\n      <td>0.0</td>\n      <td>2</td>\n      <td>2013</td>\n      <td>January</td>\n      <td>Sunday</td>\n      <td>18</td>\n    </tr>\n    <tr>\n      <th>2</th>\n      <td>13-101</td>\n      <td>FIFTH AVE @ RUPERT ST</td>\n      <td>368589.71875</td>\n      <td>5029516.5</td>\n      <td>-75.685158</td>\n      <td>45.402679</td>\n      <td>03 - Snow</td>\n      <td>01 - Daylight</td>\n      <td>06 - Ice</td>\n      <td>02 - Stop sign</td>\n      <td>01 - Functioning</td>\n      <td>P.D. only</td>\n      <td>02 - Angle</td>\n      <td>0.0</td>\n      <td>3</td>\n      <td>2013</td>\n      <td>January</td>\n      <td>Thursday</td>\n      <td>21</td>\n    </tr>\n    <tr>\n      <th>3</th>\n      <td>13-502</td>\n      <td>BIRCH AVE @ FARNHAM CRES</td>\n      <td>370292.90625</td>\n      <td>5035187.0</td>\n      <td>-75.662651</td>\n      <td>45.453541</td>\n      <td>01 - Clear</td>\n      <td>01 - Daylight</td>\n      <td>02 - Wet</td>\n      <td>02 - Stop sign</td>\n      <td>01 - Functioning</td>\n      <td>P.D. only</td>\n      <td>02 - Angle</td>\n      <td>0.0</td>\n      <td>4</td>\n      <td>2013</td>\n      <td>January</td>\n      <td>Saturday</td>\n      <td>21</td>\n    </tr>\n    <tr>\n      <th>4</th>\n      <td>13-503</td>\n      <td>ALESTHER ST btwn QUEEN MARY ST &amp; PRINCE ALBERT ST</td>\n      <td>372133.18750</td>\n      <td>5032130.5</td>\n      <td>-75.639542</td>\n      <td>45.425865</td>\n      <td>02 - Rain</td>\n      <td>07 - Dark</td>\n      <td>02 - Wet</td>\n      <td>10 - No control</td>\n      <td>NaN</td>\n      <td>P.D. only</td>\n      <td>06 - SMV unattended vehicle</td>\n      <td>0.0</td>\n      <td>5</td>\n      <td>2013</td>\n      <td>January</td>\n      <td>Friday</td>\n      <td>4</td>\n    </tr>\n  </tbody>\n</table>\n</div>"
     },
     "metadata": {},
     "execution_count": 13
    }
   ],
   "source": [
    "df = pd.read_csv('../data/clean_data.csv') #  Load  data\n",
    "print('Data size',df.shape)\n",
    "df.head()"
   ]
  },
  {
   "cell_type": "code",
   "execution_count": 14,
   "metadata": {},
   "outputs": [
    {
     "output_type": "stream",
     "name": "stdout",
     "text": [
      "<class 'pandas.core.frame.DataFrame'>\nRangeIndex: 89990 entries, 0 to 89989\nData columns (total 19 columns):\n #   Column                     Non-Null Count  Dtype  \n---  ------                     --------------  -----  \n 0   collision_id               89990 non-null  object \n 1   location                   89990 non-null  object \n 2   x                          89990 non-null  float64\n 3   y                          89990 non-null  float64\n 4   longitude                  89990 non-null  float64\n 5   latitude                   89990 non-null  float64\n 6   environment                89989 non-null  object \n 7   light                      89990 non-null  object \n 8   surface_condition          89990 non-null  object \n 9   traffic_control            89954 non-null  object \n 10  traffic_control_condition  46084 non-null  object \n 11  class                      89990 non-null  object \n 12  impact_type                89990 non-null  object \n 13  no_of_pedestrians          89990 non-null  float64\n 14  fid                        89990 non-null  int64  \n 15  c_year                     89990 non-null  int64  \n 16  c_month                    89990 non-null  object \n 17  c_day                      89990 non-null  object \n 18  c_hour                     89990 non-null  int64  \ndtypes: float64(5), int64(3), object(11)\nmemory usage: 13.0+ MB\n"
     ]
    }
   ],
   "source": [
    "df.info()"
   ]
  },
  {
   "source": [
    "# 1. Day, month, and year counts"
   ],
   "cell_type": "markdown",
   "metadata": {}
  },
  {
   "cell_type": "code",
   "execution_count": 15,
   "metadata": {},
   "outputs": [],
   "source": [
    "# Day count\n",
    "df_day = pd.DataFrame(df.c_day.value_counts())\n",
    "df_day.reset_index(level=0,inplace=True)\n",
    "df_day.rename(columns = {'c_day':'day_ct',  'index':'c_day'},inplace=True)\n",
    "\n",
    "# Month count\n",
    "df_mnth = pd.DataFrame(df.c_month.value_counts())\n",
    "df_mnth.reset_index(level=0,inplace=True)\n",
    "df_mnth.rename(columns = {'c_month':'month_ct',  'index':'c_month'},inplace=True)\n",
    "\n",
    "# Year count\n",
    "df_year = pd.DataFrame(df.c_year.value_counts())\n",
    "df_year.reset_index(level=0,inplace=True)\n",
    "df_year.rename(columns = {'c_year':'year_ct',  'index':'c_year'},inplace=True)"
   ]
  },
  {
   "cell_type": "code",
   "execution_count": 16,
   "metadata": {},
   "outputs": [],
   "source": [
    "# left join to the main dataframe\n",
    "df = df.merge(df_day, how = 'left', on = 'c_day') \n",
    "df = df.merge(df_mnth, how = 'left', on = 'c_month')\n",
    "df = df.merge(df_year, how = 'left', on = 'c_year') "
   ]
  },
  {
   "cell_type": "code",
   "execution_count": 17,
   "metadata": {},
   "outputs": [],
   "source": [
    "# Average features\n",
    "df['avg_day_per_mnth'] =  df.day_ct/df.month_ct\n",
    "df['avg_mnth_per_year'] =  df.month_ct/df.year_ct"
   ]
  },
  {
   "cell_type": "markdown",
   "metadata": {},
   "source": [
    "# 2. Hour, impact type, environment counts"
   ]
  },
  {
   "cell_type": "code",
   "execution_count": 18,
   "metadata": {
    "scrolled": true
   },
   "outputs": [],
   "source": [
    "# Hour count\n",
    "df_hour = pd.DataFrame(df.c_hour.value_counts())\n",
    "df_hour.reset_index(level=0,inplace=True)\n",
    "df_hour.rename(columns = {'c_hour':'hour_ct',  'index':'c_hour'},inplace=True)\n",
    "\n",
    "# Impact type count\n",
    "df_impact = pd.DataFrame(df.impact_type.value_counts())\n",
    "df_impact.reset_index(level=0,inplace=True)\n",
    "df_impact.rename(columns = {'impact_type':'impact_type_ct',  'index':'impact_type'},inplace=True)\n",
    "\n",
    "# Environment count\n",
    "df_env = pd.DataFrame(df.environment.value_counts())\n",
    "df_env.reset_index(level=0,inplace=True)\n",
    "df_env.rename(columns = {'environment':'envmt_ct',  'index':'environment'},inplace=True)\n",
    "\n",
    "# Surface condition count\n",
    "df_scond = pd.DataFrame(df.surface_condition.value_counts())\n",
    "df_scond.reset_index(level=0,inplace=True)\n",
    "df_scond.rename(columns = {'surface_condition':'scond_ct',  'index':'surface_condition'},inplace=True)"
   ]
  },
  {
   "cell_type": "code",
   "execution_count": 19,
   "metadata": {},
   "outputs": [],
   "source": [
    "# left join to the main dataframe\n",
    "df = df.merge(df_hour, how = 'left', on = 'c_hour')\n",
    "df = df.merge(df_impact, how = 'left', on = 'impact_type') \n",
    "df = df.merge(df_env, how = 'left', on = 'environment') \n",
    "df = df.merge(df_scond, how = 'left', on = 'surface_condition') "
   ]
  },
  {
   "cell_type": "code",
   "execution_count": 20,
   "metadata": {},
   "outputs": [],
   "source": [
    "# Average features\n",
    "df['avg_hr_per_day'] =  df.hour_ct/df.day_ct"
   ]
  },
  {
   "cell_type": "code",
   "execution_count": 23,
   "metadata": {},
   "outputs": [
    {
     "output_type": "stream",
     "name": "stdout",
     "text": [
      "<class 'pandas.core.frame.DataFrame'>\nInt64Index: 89990 entries, 0 to 89989\nData columns (total 29 columns):\n #   Column                     Non-Null Count  Dtype  \n---  ------                     --------------  -----  \n 0   collision_id               89990 non-null  object \n 1   location                   89990 non-null  object \n 2   x                          89990 non-null  float64\n 3   y                          89990 non-null  float64\n 4   longitude                  89990 non-null  float64\n 5   latitude                   89990 non-null  float64\n 6   environment                89989 non-null  object \n 7   light                      89990 non-null  object \n 8   surface_condition          89990 non-null  object \n 9   traffic_control            89954 non-null  object \n 10  traffic_control_condition  46084 non-null  object \n 11  class                      89990 non-null  object \n 12  impact_type                89990 non-null  object \n 13  no_of_pedestrians          89990 non-null  float64\n 14  fid                        89990 non-null  int64  \n 15  c_year                     89990 non-null  int64  \n 16  c_month                    89990 non-null  object \n 17  c_day                      89990 non-null  object \n 18  c_hour                     89990 non-null  int64  \n 19  day_ct                     89990 non-null  int64  \n 20  month_ct                   89990 non-null  int64  \n 21  year_ct                    89990 non-null  int64  \n 22  avg_day_per_mnth           89990 non-null  float64\n 23  avg_mnth_per_year          89990 non-null  float64\n 24  hour_ct                    89990 non-null  int64  \n 25  impact_type_ct             89990 non-null  int64  \n 26  envmt_ct                   89989 non-null  float64\n 27  scond_ct                   89990 non-null  int64  \n 28  avg_hr_per_day             89990 non-null  float64\ndtypes: float64(9), int64(9), object(11)\nmemory usage: 20.6+ MB\n"
     ]
    }
   ],
   "source": [
    "df.info()"
   ]
  },
  {
   "cell_type": "markdown",
   "metadata": {},
   "source": [
    "# Save as csv"
   ]
  },
  {
   "cell_type": "code",
   "execution_count": 22,
   "metadata": {},
   "outputs": [],
   "source": [
    "df.to_csv('../data/feat_engr_data.csv', index= False)"
   ]
  },
  {
   "cell_type": "code",
   "execution_count": null,
   "metadata": {},
   "outputs": [],
   "source": []
  }
 ],
 "metadata": {
  "kernelspec": {
   "name": "python394jvsc74a57bd0aee8b7b246df8f9039afb4144a1f6fd8d2ca17a180786b69acc140d282b71a49",
   "display_name": "Python 3.9.4 64-bit"
  },
  "language_info": {
   "codemirror_mode": {
    "name": "ipython",
    "version": 3
   },
   "file_extension": ".py",
   "mimetype": "text/x-python",
   "name": "python",
   "nbconvert_exporter": "python",
   "pygments_lexer": "ipython3",
   "version": "3.9.4"
  },
  "metadata": {
   "interpreter": {
    "hash": "aee8b7b246df8f9039afb4144a1f6fd8d2ca17a180786b69acc140d282b71a49"
   }
  }
 },
 "nbformat": 4,
 "nbformat_minor": 2
}