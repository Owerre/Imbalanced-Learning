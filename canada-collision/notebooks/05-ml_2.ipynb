{
 "cells": [
  {
   "cell_type": "markdown",
   "metadata": {},
   "source": [
    "# Supervised ML on Balanced Dataset\n",
    "In this notebook, we train two classifiers on the balanced dataset by selecting a subset of  majority class to match the minority class"
   ]
  },
  {
   "cell_type": "code",
   "execution_count": 1,
   "metadata": {},
   "outputs": [],
   "source": [
    "%matplotlib inline\n",
    "\n",
    "# Ignore deprecated warning\n",
    "import warnings\n",
    "warnings.filterwarnings(\"ignore\")\n",
    "\n",
    "# Data manipulation\n",
    "import pandas as pd\n",
    "import numpy as np\n",
    "\n",
    "# Data visualization\n",
    "import matplotlib.pyplot as plt\n",
    "import seaborn as sns\n",
    "\n",
    "# Set font scale and style\n",
    "plt.rcParams.update({'font.size': 15})\n",
    "\n",
    "# Dimensionality reduction\n",
    "from sklearn.decomposition import PCA\n",
    "\n",
    "# Resampling\n",
    "from imblearn.under_sampling import RandomUnderSampler\n",
    "from imblearn.over_sampling import SMOTE\n",
    "\n",
    "# Machine learning models\n",
    "import xgboost as xgb\n",
    "from xgboost.sklearn import XGBClassifier\n",
    "from sklearn.ensemble import RandomForestClassifier\n",
    "from sklearn.linear_model import LogisticRegression\n",
    "from sklearn.svm import SVC\n",
    "\n",
    "# Grid search and model selection\n",
    "from sklearn.model_selection import GridSearchCV, RandomizedSearchCV\n",
    "from sklearn.model_selection import train_test_split\n",
    "\n",
    "# Model performance metrics\n",
    "from sklearn.model_selection import cross_val_score, cross_val_predict\n",
    "from sklearn.metrics import confusion_matrix, classification_report, accuracy_score, auc,recall_score\n",
    "from sklearn.metrics import roc_curve, roc_auc_score, average_precision_score, precision_recall_curve\n",
    "\n",
    "# Pickle\n",
    "import joblib"
   ]
  },
  {
   "cell_type": "code",
   "execution_count": 2,
   "metadata": {},
   "outputs": [],
   "source": [
    "# Import custom class\n",
    "%run -i '../src/helper/transfxn.py'\n",
    "%run -i '../src/helper/ml.py'"
   ]
  },
  {
   "cell_type": "markdown",
   "metadata": {},
   "source": [
    "##  Load original data"
   ]
  },
  {
   "cell_type": "code",
   "execution_count": 3,
   "metadata": {},
   "outputs": [],
   "source": [
    "# Load data\n",
    "df = pd.read_csv('../data/clean_data.csv')"
   ]
  },
  {
   "cell_type": "code",
   "execution_count": 4,
   "metadata": {},
   "outputs": [],
   "source": [
    "# Separate the majority and minority classes\n",
    "majority_class = df[df.FATAL == 0]\n",
    "minority_class = df[df.FATAL == 1]"
   ]
  },
  {
   "cell_type": "code",
   "execution_count": 5,
   "metadata": {},
   "outputs": [
    {
     "data": {
      "text/plain": [
       "(3756304, 23)"
      ]
     },
     "execution_count": 5,
     "metadata": {},
     "output_type": "execute_result"
    }
   ],
   "source": [
    "# Size of Majority class dataset\n",
    "majority_class.shape"
   ]
  },
  {
   "cell_type": "code",
   "execution_count": 6,
   "metadata": {},
   "outputs": [
    {
     "data": {
      "text/plain": [
       "(61309, 23)"
      ]
     },
     "execution_count": 6,
     "metadata": {},
     "output_type": "execute_result"
    }
   ],
   "source": [
    "# Size of Minority class dataset\n",
    "minority_class.shape"
   ]
  },
  {
   "cell_type": "markdown",
   "metadata": {},
   "source": [
    "## Select a Subset of the Majority Class\n",
    "We select a subset of majority class to match the minority class"
   ]
  },
  {
   "cell_type": "code",
   "execution_count": 7,
   "metadata": {},
   "outputs": [],
   "source": [
    "X1, X2, y1, y2 = train_test_split(majority_class, majority_class.FATAL, test_size = 0.0164,\n",
    "                                  random_state = 42, stratify = majority_class.FATAL)"
   ]
  },
  {
   "cell_type": "code",
   "execution_count": 8,
   "metadata": {},
   "outputs": [
    {
     "data": {
      "text/plain": [
       "(61604, 23)"
      ]
     },
     "execution_count": 8,
     "metadata": {},
     "output_type": "execute_result"
    }
   ],
   "source": [
    "X2.shape # Selected subset of the majority class"
   ]
  },
  {
   "cell_type": "markdown",
   "metadata": {},
   "source": [
    "## Concatenate the data\n",
    "We combine the minority class with the selected subset ( X2 ) of the majority class "
   ]
  },
  {
   "cell_type": "code",
   "execution_count": 9,
   "metadata": {},
   "outputs": [],
   "source": [
    "df_balanced = pd.concat([minority_class, X2], sort = False)"
   ]
  },
  {
   "cell_type": "code",
   "execution_count": 10,
   "metadata": {},
   "outputs": [
    {
     "data": {
      "text/plain": [
       "(122913, 23)"
      ]
     },
     "execution_count": 10,
     "metadata": {},
     "output_type": "execute_result"
    }
   ],
   "source": [
    "# Data size\n",
    "df_balanced.shape"
   ]
  },
  {
   "cell_type": "code",
   "execution_count": 11,
   "metadata": {},
   "outputs": [],
   "source": [
    "# Shuffle the dataset\n",
    "df_balanced = df_balanced.sample(frac =1).reset_index(drop = True)"
   ]
  },
  {
   "cell_type": "markdown",
   "metadata": {},
   "source": [
    "## Class distribution"
   ]
  },
  {
   "cell_type": "code",
   "execution_count": 13,
   "metadata": {},
   "outputs": [
    {
     "data": {
      "text/plain": [
       "0    50.120004\n",
       "1    49.879996\n",
       "Name: FATAL, dtype: float64"
      ]
     },
     "execution_count": 13,
     "metadata": {},
     "output_type": "execute_result"
    }
   ],
   "source": [
    "df_balanced.FATAL.value_counts()*100/len(df_balanced)"
   ]
  },
  {
   "cell_type": "markdown",
   "metadata": {},
   "source": [
    "## Feature matrix and class label\n",
    "\n",
    "We separate the feature matrix from the class label"
   ]
  },
  {
   "cell_type": "code",
   "execution_count": 14,
   "metadata": {},
   "outputs": [],
   "source": [
    "X, y = df_balanced.drop(['P_ID', 'V_ID', 'FATAL'], axis = 1), df_balanced['FATAL']"
   ]
  },
  {
   "cell_type": "code",
   "execution_count": 15,
   "metadata": {},
   "outputs": [
    {
     "name": "stdout",
     "output_type": "stream",
     "text": [
      "Data size: (122913, 20) (122913,)\n"
     ]
    }
   ],
   "source": [
    "print('Data size:', X.shape, y.shape)"
   ]
  },
  {
   "cell_type": "markdown",
   "metadata": {},
   "source": [
    "##  Create a Test Set\n",
    "We now split the data set into $80\\%$ training set and $20\\%$ test set in a stratify fashion"
   ]
  },
  {
   "cell_type": "code",
   "execution_count": 16,
   "metadata": {},
   "outputs": [],
   "source": [
    "X_train, X_test, y_train, y_test = train_test_split(X, y, test_size = 0.2, \n",
    "                                                    random_state = 42, stratify = y)"
   ]
  },
  {
   "cell_type": "code",
   "execution_count": 17,
   "metadata": {},
   "outputs": [
    {
     "name": "stdout",
     "output_type": "stream",
     "text": [
      "Training set size: (98330, 20) (98330,)\n",
      "Test set size: (24583, 20) (24583,)\n"
     ]
    }
   ],
   "source": [
    "print('Training set size:', X_train.shape, y_train.shape)\n",
    "print('Test set size:', X_test.shape, y_test.shape)"
   ]
  },
  {
   "cell_type": "code",
   "execution_count": 21,
   "metadata": {},
   "outputs": [
    {
     "name": "stdout",
     "output_type": "stream",
     "text": [
      "Training set class distribution:\n",
      " 0    50.120004\n",
      "1    49.879996\n",
      "Name: FATAL, dtype: float64\n",
      "------------------------------\n",
      "Test set class distribution:\n",
      " 0    50.120002\n",
      "1    49.879998\n",
      "Name: FATAL, dtype: float64\n"
     ]
    }
   ],
   "source": [
    "print('Training set class distribution:\\n', (y_train.value_counts()/X_train.shape[0])*100)\n",
    "print('-'*30)\n",
    "print('Test set class distribution:\\n', (y_test.value_counts()/X_test.shape[0])*100)"
   ]
  },
  {
   "cell_type": "markdown",
   "metadata": {},
   "source": [
    "##  Transformation pipeline"
   ]
  },
  {
   "cell_type": "code",
   "execution_count": 22,
   "metadata": {},
   "outputs": [],
   "source": [
    "# Instantiate the class\n",
    "transfxn = TransformationPipeline()"
   ]
  },
  {
   "cell_type": "code",
   "execution_count": 23,
   "metadata": {},
   "outputs": [],
   "source": [
    "# Transform and scale data\n",
    "X_train_scaled, X_test_scaled = transfxn.complete_pipeline(X_train, X_test)"
   ]
  },
  {
   "cell_type": "code",
   "execution_count": 24,
   "metadata": {},
   "outputs": [
    {
     "name": "stdout",
     "output_type": "stream",
     "text": [
      "Training set size after pre-processing: (98330, 131)\n",
      "Test set size after pre-processing: (24583, 131)\n"
     ]
    }
   ],
   "source": [
    "# Size of the data after pre-processing\n",
    "print('Training set size after pre-processing:', X_train_scaled.shape)\n",
    "print('Test set size after pre-processing:', X_test_scaled.shape)"
   ]
  },
  {
   "cell_type": "code",
   "execution_count": 25,
   "metadata": {},
   "outputs": [],
   "source": [
    "# Convert the class labels to arrays\n",
    "y_train, y_test = y_train.values,  y_test.values"
   ]
  },
  {
   "cell_type": "markdown",
   "metadata": {},
   "source": [
    "# A. Model Selection by Cross-Validation Predictions"
   ]
  },
  {
   "cell_type": "code",
   "execution_count": 26,
   "metadata": {},
   "outputs": [],
   "source": [
    "# Instantiate the class\n",
    "model = SupervisedModels()"
   ]
  },
  {
   "cell_type": "markdown",
   "metadata": {},
   "source": [
    "## A-1. Logistic Regression "
   ]
  },
  {
   "cell_type": "code",
   "execution_count": 27,
   "metadata": {},
   "outputs": [
    {
     "name": "stdout",
     "output_type": "stream",
     "text": [
      "---------------------------------------------------------------------------\n",
      "Cross-validation accuracy (std): 0.809834 (0.001758)\n",
      "AUROC: 0.896208\n",
      "AUPRC: 0.911446\n",
      "Predicted classes: [0 1]\n",
      "Confusion matrix:\n",
      " [[43225  6058]\n",
      " [12641 36406]]\n",
      "Classification report:\n",
      "               precision    recall  f1-score   support\n",
      "\n",
      "           0       0.77      0.88      0.82     49283\n",
      "           1       0.86      0.74      0.80     49047\n",
      "\n",
      "    accuracy                           0.81     98330\n",
      "   macro avg       0.82      0.81      0.81     98330\n",
      "weighted avg       0.82      0.81      0.81     98330\n",
      "\n",
      "---------------------------------------------------------------------------\n"
     ]
    }
   ],
   "source": [
    "log_clf = LogisticRegression()                         \n",
    "model.model_selection_cv(log_clf, X_train_scaled, y_train, cv_fold = 5, scoring = 'accuracy')"
   ]
  },
  {
   "cell_type": "markdown",
   "metadata": {},
   "source": [
    "## A-2. Random Forest"
   ]
  },
  {
   "cell_type": "code",
   "execution_count": 28,
   "metadata": {},
   "outputs": [
    {
     "name": "stdout",
     "output_type": "stream",
     "text": [
      "---------------------------------------------------------------------------\n",
      "Cross-validation accuracy (std): 0.846263 (0.002249)\n",
      "AUROC: 0.925883\n",
      "AUPRC: 0.934858\n",
      "Predicted classes: [0 1]\n",
      "Confusion matrix:\n",
      " [[43547  5736]\n",
      " [ 9381 39666]]\n",
      "Classification report:\n",
      "               precision    recall  f1-score   support\n",
      "\n",
      "           0       0.82      0.88      0.85     49283\n",
      "           1       0.87      0.81      0.84     49047\n",
      "\n",
      "    accuracy                           0.85     98330\n",
      "   macro avg       0.85      0.85      0.85     98330\n",
      "weighted avg       0.85      0.85      0.85     98330\n",
      "\n",
      "---------------------------------------------------------------------------\n"
     ]
    }
   ],
   "source": [
    "rf_clf = RandomForestClassifier(random_state = 42)                         \n",
    "model.model_selection_cv(rf_clf, X_train_scaled, y_train, cv_fold = 5, scoring = 'accuracy')"
   ]
  },
  {
   "cell_type": "markdown",
   "metadata": {},
   "source": [
    "# B.  Hyperparameter Tuning and Cost Sensitive Method\n",
    " In this section, we shall optimize the **Accuracy** of the classifiers using grid/randomized search, cross-validation, and cost sensitive method"
   ]
  },
  {
   "cell_type": "markdown",
   "metadata": {},
   "source": [
    "## B-1. Logistic Regression"
   ]
  },
  {
   "cell_type": "code",
   "execution_count": 29,
   "metadata": {},
   "outputs": [
    {
     "name": "stdout",
     "output_type": "stream",
     "text": [
      "Fitting 5 folds for each of 15 candidates, totalling 75 fits\n"
     ]
    },
    {
     "name": "stderr",
     "output_type": "stream",
     "text": [
      "[Parallel(n_jobs=-1)]: Using backend LokyBackend with 4 concurrent workers.\n",
      "[Parallel(n_jobs=-1)]: Done  42 tasks      | elapsed:  1.7min\n",
      "[Parallel(n_jobs=-1)]: Done  75 out of  75 | elapsed:  2.8min finished\n"
     ]
    },
    {
     "name": "stdout",
     "output_type": "stream",
     "text": [
      "Grid search best accuracy score: 0.8099562697040577\n",
      "Grid search best parameters: {'C': 1, 'class_weight': 'balanced'}\n"
     ]
    }
   ],
   "source": [
    "# Range of hyperparameters\n",
    "param_grid = {'C': [2**(-5), 2**(-3), 2**(-1), 2**(0), 2**(1)], \n",
    "             'class_weight': ['balanced', {0:1, 1:2}, {0:1, 1:3}]}\n",
    "                             \n",
    "# Grid search\n",
    "gsearch_log = GridSearchCV(LogisticRegression(),param_grid, cv = 5,\n",
    "                           scoring = 'accuracy',verbose = 1, n_jobs = -1)\n",
    "\n",
    "# Fit the training set\n",
    "gsearch_log.fit(X_train_scaled, y_train)\n",
    "\n",
    "# Print results\n",
    "print('Grid search best accuracy score:', gsearch_log.best_score_)\n",
    "print('Grid search best parameters:', gsearch_log.best_params_)    "
   ]
  },
  {
   "cell_type": "markdown",
   "metadata": {},
   "source": [
    "## B-2. Random Forest"
   ]
  },
  {
   "cell_type": "code",
   "execution_count": 30,
   "metadata": {},
   "outputs": [
    {
     "name": "stdout",
     "output_type": "stream",
     "text": [
      "Fitting 5 folds for each of 10 candidates, totalling 50 fits\n"
     ]
    },
    {
     "name": "stderr",
     "output_type": "stream",
     "text": [
      "[Parallel(n_jobs=-1)]: Using backend LokyBackend with 4 concurrent workers.\n",
      "[Parallel(n_jobs=-1)]: Done  42 tasks      | elapsed: 144.8min\n",
      "[Parallel(n_jobs=-1)]: Done  50 out of  50 | elapsed: 174.1min finished\n"
     ]
    },
    {
     "name": "stdout",
     "output_type": "stream",
     "text": [
      "Randomized search best accuracy score: 0.8496796501576325\n",
      "Randomized search best hyperparameters: {'n_estimators': 500, 'min_samples_leaf': 1, 'max_features': 0.5}\n"
     ]
    }
   ],
   "source": [
    "# Range of hyperparameters\n",
    "params = {'max_features': [1, 0.5,'sqrt', 'log2'], \n",
    "          'min_samples_leaf': [1,3,5,10],\n",
    "         'n_estimators': [500,1000,1500]}\n",
    "\n",
    "# Randomized search\n",
    "rf_clf = RandomForestClassifier(random_state = 42,class_weight = 'balanced')           \n",
    "rsearch_rf = RandomizedSearchCV(estimator = rf_clf, param_distributions = params, \n",
    "                                scoring = 'accuracy', cv = 5, n_jobs = -1, \n",
    "                                random_state = 42, verbose = 1)  \n",
    "# Fit the training set                                                    \n",
    "rsearch_rf.fit(X_train_scaled, y_train)\n",
    "\n",
    "# Print results\n",
    "print('Randomized search best accuracy score:', rsearch_rf.best_score_) \n",
    "print('Randomized search best hyperparameters:', rsearch_rf.best_params_) "
   ]
  },
  {
   "cell_type": "markdown",
   "metadata": {},
   "source": [
    "## B-3. ROC and PR Curves on the Cross-Validation Training Set"
   ]
  },
  {
   "cell_type": "code",
   "execution_count": 31,
   "metadata": {},
   "outputs": [
    {
     "data": {
      "image/png": "[encoded data removed]",
      "text/plain": [
       "<Figure size 432x288 with 2 Axes>"
      ]
     },
     "metadata": {
      "needs_background": "light"
     },
     "output_type": "display_data"
    }
   ],
   "source": [
    "# Plot ROC and PR curves for Logistic Regression\n",
    "model.plot_roc_prc_cv(gsearch_log.best_estimator_, X_train_scaled, y_train,\n",
    "                       color= 'b', label = 'LR (AUC= %0.2f)')\n",
    "\n",
    "# Plot ROC and PR curves for Random Forest\n",
    "model.plot_roc_prc_cv(rsearch_rf.best_estimator_, X_train_scaled, y_train,\n",
    "                       color= 'b', label = 'RF (AUC= %0.2f)')"
   ]
  },
  {
   "cell_type": "markdown",
   "metadata": {},
   "source": [
    "# C. Prediction on the Test Set "
   ]
  },
  {
   "cell_type": "markdown",
   "metadata": {},
   "source": [
    "## C-1. Logistic Regression"
   ]
  },
  {
   "cell_type": "code",
   "execution_count": 32,
   "metadata": {},
   "outputs": [
    {
     "name": "stdout",
     "output_type": "stream",
     "text": [
      "---------------------------------------------------------------------------\n",
      "Test accuracy:  0.808038\n",
      "AUROC: 0.896863\n",
      "AUPRC: 0.911888\n",
      "Predicted classes: [0 1]\n",
      "Confusion matrix:\n",
      " [[10785  1536]\n",
      " [ 3183  9079]]\n",
      "Classification report:\n",
      "               precision    recall  f1-score   support\n",
      "\n",
      "           0       0.77      0.88      0.82     12321\n",
      "           1       0.86      0.74      0.79     12262\n",
      "\n",
      "    accuracy                           0.81     24583\n",
      "   macro avg       0.81      0.81      0.81     24583\n",
      "weighted avg       0.81      0.81      0.81     24583\n",
      "\n",
      "---------------------------------------------------------------------------\n"
     ]
    }
   ],
   "source": [
    "log_reg_best = gsearch_log.best_estimator_\n",
    "model.test_prediction(log_reg_best, X_train_scaled, y_train, X_test_scaled, y_test)"
   ]
  },
  {
   "cell_type": "markdown",
   "metadata": {},
   "source": [
    "## C-2. Random Forest"
   ]
  },
  {
   "cell_type": "code",
   "execution_count": 33,
   "metadata": {},
   "outputs": [
    {
     "name": "stdout",
     "output_type": "stream",
     "text": [
      "---------------------------------------------------------------------------\n",
      "Test accuracy:  0.855144\n",
      "AUROC: 0.933678\n",
      "AUPRC: 0.941984\n",
      "Predicted classes: [0 1]\n",
      "Confusion matrix:\n",
      " [[10940  1381]\n",
      " [ 2180 10082]]\n",
      "Classification report:\n",
      "               precision    recall  f1-score   support\n",
      "\n",
      "           0       0.83      0.89      0.86     12321\n",
      "           1       0.88      0.82      0.85     12262\n",
      "\n",
      "    accuracy                           0.86     24583\n",
      "   macro avg       0.86      0.86      0.85     24583\n",
      "weighted avg       0.86      0.86      0.85     24583\n",
      "\n",
      "---------------------------------------------------------------------------\n"
     ]
    }
   ],
   "source": [
    "rf_best = rsearch_rf.best_estimator_\n",
    "model.test_prediction(rf_best, X_train_scaled, y_train, X_test_scaled, y_test)"
   ]
  },
  {
   "cell_type": "markdown",
   "metadata": {},
   "source": [
    "## C-3. ROC and PR Curves on the Test Set"
   ]
  },
  {
   "cell_type": "code",
   "execution_count": 34,
   "metadata": {},
   "outputs": [
    {
     "data": {
      "image/png": "[encoded data removed]",
      "text/plain": [
       "<Figure size 432x288 with 2 Axes>"
      ]
     },
     "metadata": {
      "needs_background": "light"
     },
     "output_type": "display_data"
    }
   ],
   "source": [
    "# Plot ROC and PR curves for Logistic Regression\n",
    "model.plot_roc_prc(log_reg_best, X_train_scaled, y_train, X_test_scaled, y_test,\n",
    "                       color= 'b', label = 'LR (AUC= %0.2f)')\n",
    "\n",
    "# Plot ROC and PR curves for Random Forest\n",
    "model.plot_roc_prc(rf_best, X_train_scaled, y_train, X_test_scaled, y_test,\n",
    "                       color= 'g', label = 'RF (AUC= %0.2f)')"
   ]
  },
  {
   "cell_type": "code",
   "execution_count": null,
   "metadata": {},
   "outputs": [],
   "source": []
  }
 ],
 "metadata": {
  "kernelspec": {
   "display_name": "Python 3",
   "language": "python",
   "name": "python3"
  },
  "language_info": {
   "codemirror_mode": {
    "name": "ipython",
    "version": 3
   },
   "file_extension": ".py",
   "mimetype": "text/x-python",
   "name": "python",
   "nbconvert_exporter": "python",
   "pygments_lexer": "ipython3",
   "version": "3.7.7"
  }
 },
 "nbformat": 4,
 "nbformat_minor": 2
}
