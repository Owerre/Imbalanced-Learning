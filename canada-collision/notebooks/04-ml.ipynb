{
 "cells": [
  {
   "cell_type": "markdown",
   "metadata": {},
   "source": [
    "#  Supervised ML on Imbalanced Dataset\n",
    "In this notebook, we train three classifiers on the imbalanced dataset by implementing cost sensitive method, undersampling, and SMOTE"
   ]
  },
  {
   "cell_type": "code",
   "execution_count": 71,
   "metadata": {},
   "outputs": [],
   "source": [
    "%matplotlib inline\n",
    "\n",
    "# Ignore deprecated warning\n",
    "import warnings\n",
    "warnings.filterwarnings(\"ignore\")\n",
    "\n",
    "# Data manipulation\n",
    "import pandas as pd\n",
    "import numpy as np\n",
    "\n",
    "# Data visualization\n",
    "import matplotlib.pyplot as plt\n",
    "import seaborn as sns\n",
    "\n",
    "# Set font scale and style\n",
    "plt.rcParams.update({'font.size': 15})\n",
    "\n",
    "# Dimensionality reduction\n",
    "from sklearn.decomposition import PCA\n",
    "\n",
    "# Resampling\n",
    "from imblearn.under_sampling import RandomUnderSampler\n",
    "from imblearn.over_sampling import SMOTE\n",
    "\n",
    "# Machine learning models\n",
    "import xgboost as xgb\n",
    "from xgboost.sklearn import XGBClassifier\n",
    "from sklearn.ensemble import RandomForestClassifier\n",
    "from sklearn.linear_model import LogisticRegression\n",
    "from sklearn.svm import SVC\n",
    "\n",
    "# Grid search and model selection\n",
    "from sklearn.model_selection import GridSearchCV, RandomizedSearchCV\n",
    "from sklearn.model_selection import train_test_split\n",
    "\n",
    "# Model performance metrics\n",
    "from sklearn.model_selection import cross_val_score, cross_val_predict\n",
    "from sklearn.metrics import confusion_matrix, classification_report, accuracy_score, auc,recall_score\n",
    "from sklearn.metrics import roc_curve, roc_auc_score, average_precision_score, precision_recall_curve\n",
    "\n",
    "# Pickle\n",
    "import joblib"
   ]
  },
  {
   "cell_type": "code",
   "execution_count": 72,
   "metadata": {},
   "outputs": [],
   "source": [
    "# Import custom class\n",
    "%run -i '../helper/transfxn.py'\n",
    "%run -i '../helper/ml.py'"
   ]
  },
  {
   "cell_type": "markdown",
   "metadata": {},
   "source": [
    "# Load data"
   ]
  },
  {
   "cell_type": "code",
   "execution_count": 3,
   "metadata": {},
   "outputs": [
    {
     "name": "stdout",
     "output_type": "stream",
     "text": [
      "Data size (3817613, 23)\n"
     ]
    },
    {
     "data": {
      "text/html": [
       "<div>\n",
       "<style scoped>\n",
       "    .dataframe tbody tr th:only-of-type {\n",
       "        vertical-align: middle;\n",
       "    }\n",
       "\n",
       "    .dataframe tbody tr th {\n",
       "        vertical-align: top;\n",
       "    }\n",
       "\n",
       "    .dataframe thead th {\n",
       "        text-align: right;\n",
       "    }\n",
       "</style>\n",
       "<table border=\"1\" class=\"dataframe\">\n",
       "  <thead>\n",
       "    <tr style=\"text-align: right;\">\n",
       "      <th></th>\n",
       "      <th>C_YEAR</th>\n",
       "      <th>C_MNTH</th>\n",
       "      <th>C_WDAY</th>\n",
       "      <th>C_HOUR</th>\n",
       "      <th>FATAL</th>\n",
       "      <th>C_VEHS</th>\n",
       "      <th>C_CONF</th>\n",
       "      <th>C_RCFG</th>\n",
       "      <th>C_WTHR</th>\n",
       "      <th>C_RSUR</th>\n",
       "      <th>...</th>\n",
       "      <th>V_TYPE</th>\n",
       "      <th>V_YEAR</th>\n",
       "      <th>P_ID</th>\n",
       "      <th>P_SEX</th>\n",
       "      <th>P_AGE</th>\n",
       "      <th>P_PSN</th>\n",
       "      <th>P_ISEV</th>\n",
       "      <th>P_SAFE</th>\n",
       "      <th>P_USER</th>\n",
       "      <th>C_CASE</th>\n",
       "    </tr>\n",
       "  </thead>\n",
       "  <tbody>\n",
       "    <tr>\n",
       "      <th>0</th>\n",
       "      <td>2009</td>\n",
       "      <td>September</td>\n",
       "      <td>Tuesday</td>\n",
       "      <td>20.0</td>\n",
       "      <td>0</td>\n",
       "      <td>2.0</td>\n",
       "      <td>Any other two-vehicle - different direction</td>\n",
       "      <td>At an intersection</td>\n",
       "      <td>Clear and sunny</td>\n",
       "      <td>Dry, normal</td>\n",
       "      <td>...</td>\n",
       "      <td>Light Duty Vehicle</td>\n",
       "      <td>1993.0</td>\n",
       "      <td>1.0</td>\n",
       "      <td>M</td>\n",
       "      <td>21.0</td>\n",
       "      <td>Driver</td>\n",
       "      <td>No Injury</td>\n",
       "      <td>Safety device used</td>\n",
       "      <td>Motor Vehicle Driver</td>\n",
       "      <td>1547801</td>\n",
       "    </tr>\n",
       "    <tr>\n",
       "      <th>1</th>\n",
       "      <td>2002</td>\n",
       "      <td>July</td>\n",
       "      <td>Friday</td>\n",
       "      <td>20.0</td>\n",
       "      <td>0</td>\n",
       "      <td>1.0</td>\n",
       "      <td>Hit a stationary object</td>\n",
       "      <td>Non-intersection</td>\n",
       "      <td>Overcast, cloudy but no precipitation</td>\n",
       "      <td>Wet</td>\n",
       "      <td>...</td>\n",
       "      <td>Light Duty Vehicle</td>\n",
       "      <td>1988.0</td>\n",
       "      <td>1.0</td>\n",
       "      <td>F</td>\n",
       "      <td>23.0</td>\n",
       "      <td>Driver</td>\n",
       "      <td>Injury</td>\n",
       "      <td>Safety device used</td>\n",
       "      <td>Motor Vehicle Driver</td>\n",
       "      <td>479186</td>\n",
       "    </tr>\n",
       "    <tr>\n",
       "      <th>2</th>\n",
       "      <td>2006</td>\n",
       "      <td>September</td>\n",
       "      <td>Monday</td>\n",
       "      <td>14.0</td>\n",
       "      <td>0</td>\n",
       "      <td>2.0</td>\n",
       "      <td>Right angle collision</td>\n",
       "      <td>At an intersection</td>\n",
       "      <td>Clear and sunny</td>\n",
       "      <td>Dry, normal</td>\n",
       "      <td>...</td>\n",
       "      <td>Light Duty Vehicle</td>\n",
       "      <td>1993.0</td>\n",
       "      <td>1.0</td>\n",
       "      <td>F</td>\n",
       "      <td>42.0</td>\n",
       "      <td>Driver</td>\n",
       "      <td>Injury</td>\n",
       "      <td>Safety device used</td>\n",
       "      <td>Motor Vehicle Driver</td>\n",
       "      <td>1182369</td>\n",
       "    </tr>\n",
       "    <tr>\n",
       "      <th>3</th>\n",
       "      <td>2006</td>\n",
       "      <td>May</td>\n",
       "      <td>Thursday</td>\n",
       "      <td>17.0</td>\n",
       "      <td>0</td>\n",
       "      <td>2.0</td>\n",
       "      <td>Rear-end collision</td>\n",
       "      <td>Non-intersection</td>\n",
       "      <td>Clear and sunny</td>\n",
       "      <td>Dry, normal</td>\n",
       "      <td>...</td>\n",
       "      <td>Light Duty Vehicle</td>\n",
       "      <td>2004.0</td>\n",
       "      <td>1.0</td>\n",
       "      <td>M</td>\n",
       "      <td>28.0</td>\n",
       "      <td>Driver</td>\n",
       "      <td>Injury</td>\n",
       "      <td>Safety device used</td>\n",
       "      <td>Motor Vehicle Driver</td>\n",
       "      <td>1126722</td>\n",
       "    </tr>\n",
       "    <tr>\n",
       "      <th>4</th>\n",
       "      <td>2003</td>\n",
       "      <td>December</td>\n",
       "      <td>Monday</td>\n",
       "      <td>14.0</td>\n",
       "      <td>1</td>\n",
       "      <td>2.0</td>\n",
       "      <td>Any other two-vehicle - different direction</td>\n",
       "      <td>At an intersection</td>\n",
       "      <td>Clear and sunny</td>\n",
       "      <td>Dry, normal</td>\n",
       "      <td>...</td>\n",
       "      <td>Light Duty Vehicle</td>\n",
       "      <td>1989.0</td>\n",
       "      <td>1.0</td>\n",
       "      <td>F</td>\n",
       "      <td>65.0</td>\n",
       "      <td>Driver</td>\n",
       "      <td>Fatality</td>\n",
       "      <td>No safety device used</td>\n",
       "      <td>Motor Vehicle Driver</td>\n",
       "      <td>713353</td>\n",
       "    </tr>\n",
       "  </tbody>\n",
       "</table>\n",
       "<p>5 rows × 23 columns</p>\n",
       "</div>"
      ],
      "text/plain": [
       "   C_YEAR     C_MNTH    C_WDAY  C_HOUR  FATAL  C_VEHS  \\\n",
       "0    2009  September   Tuesday    20.0      0     2.0   \n",
       "1    2002       July    Friday    20.0      0     1.0   \n",
       "2    2006  September    Monday    14.0      0     2.0   \n",
       "3    2006        May  Thursday    17.0      0     2.0   \n",
       "4    2003   December    Monday    14.0      1     2.0   \n",
       "\n",
       "                                        C_CONF              C_RCFG  \\\n",
       "0  Any other two-vehicle - different direction  At an intersection   \n",
       "1                      Hit a stationary object    Non-intersection   \n",
       "2                        Right angle collision  At an intersection   \n",
       "3                           Rear-end collision    Non-intersection   \n",
       "4  Any other two-vehicle - different direction  At an intersection   \n",
       "\n",
       "                                  C_WTHR       C_RSUR  ...  \\\n",
       "0                        Clear and sunny  Dry, normal  ...   \n",
       "1  Overcast, cloudy but no precipitation          Wet  ...   \n",
       "2                        Clear and sunny  Dry, normal  ...   \n",
       "3                        Clear and sunny  Dry, normal  ...   \n",
       "4                        Clear and sunny  Dry, normal  ...   \n",
       "\n",
       "               V_TYPE  V_YEAR  P_ID P_SEX  P_AGE   P_PSN     P_ISEV  \\\n",
       "0  Light Duty Vehicle  1993.0   1.0     M   21.0  Driver  No Injury   \n",
       "1  Light Duty Vehicle  1988.0   1.0     F   23.0  Driver     Injury   \n",
       "2  Light Duty Vehicle  1993.0   1.0     F   42.0  Driver     Injury   \n",
       "3  Light Duty Vehicle  2004.0   1.0     M   28.0  Driver     Injury   \n",
       "4  Light Duty Vehicle  1989.0   1.0     F   65.0  Driver   Fatality   \n",
       "\n",
       "                  P_SAFE                P_USER   C_CASE  \n",
       "0     Safety device used  Motor Vehicle Driver  1547801  \n",
       "1     Safety device used  Motor Vehicle Driver   479186  \n",
       "2     Safety device used  Motor Vehicle Driver  1182369  \n",
       "3     Safety device used  Motor Vehicle Driver  1126722  \n",
       "4  No safety device used  Motor Vehicle Driver   713353  \n",
       "\n",
       "[5 rows x 23 columns]"
      ]
     },
     "execution_count": 3,
     "metadata": {},
     "output_type": "execute_result"
    }
   ],
   "source": [
    "# Load cleaned data\n",
    "df = pd.read_csv('../data/clean_data.csv')\n",
    "df = df.sample(frac =1).reset_index(drop = True) # shuffle\n",
    "print('Data size',df.shape) # data size\n",
    "df.head()"
   ]
  },
  {
   "cell_type": "markdown",
   "metadata": {},
   "source": [
    "# Categorization (Coarse Classification)\n",
    "\n",
    "From 01-data_cleaning.ipynb we can see that the data contains numerous categorical variables with many different values. Each level of the category would create a dummy variable in our model, therefore there will be many redundant features in the model due to infrequent categories.\n",
    "\n",
    "We would like to create categories of values such that fewer parameters will have to be estimated and probably a more robust model can be obtained. We are going to categorize the values based on similar odds ratio."
   ]
  },
  {
   "cell_type": "markdown",
   "metadata": {},
   "source": [
    "## 1. Collision configuration\n",
    "We will keep only four categories with the largest odds and aggregate others"
   ]
  },
  {
   "cell_type": "code",
   "execution_count": 4,
   "metadata": {},
   "outputs": [
    {
     "name": "stdout",
     "output_type": "stream",
     "text": [
      "Odd ratio: [38.68, 157.85, 106.15, 21.62, 7.53, 38.92, 56.74, 38.08, 98.27, 25.48, 28.71, 281.09, 68.63, 84.74, 44.05, 69.39, 69.81, 121.64]\n"
     ]
    },
    {
     "data": {
      "text/html": [
       "<div>\n",
       "<style scoped>\n",
       "    .dataframe tbody tr th:only-of-type {\n",
       "        vertical-align: middle;\n",
       "    }\n",
       "\n",
       "    .dataframe tbody tr th {\n",
       "        vertical-align: top;\n",
       "    }\n",
       "\n",
       "    .dataframe thead th {\n",
       "        text-align: right;\n",
       "    }\n",
       "</style>\n",
       "<table border=\"1\" class=\"dataframe\">\n",
       "  <thead>\n",
       "    <tr style=\"text-align: right;\">\n",
       "      <th>C_CONF</th>\n",
       "      <th>Any other single-vehicle</th>\n",
       "      <th>Any other two-vehicle - different direction</th>\n",
       "      <th>Any other two-vehicle - same direction</th>\n",
       "      <th>Approaching side-swipe</th>\n",
       "      <th>Head-on collision</th>\n",
       "      <th>Hit a moving object</th>\n",
       "      <th>Hit a parked motor vehicle</th>\n",
       "      <th>Hit a stationary object</th>\n",
       "      <th>Left turn across opposing traffic</th>\n",
       "      <th>Ran off left shoulder</th>\n",
       "      <th>Ran off right shoulder</th>\n",
       "      <th>Rear-end collision</th>\n",
       "      <th>Right angle collision</th>\n",
       "      <th>Right turn</th>\n",
       "      <th>Rollover on roadway</th>\n",
       "      <th>Side swipe</th>\n",
       "      <th>left turn conflict</th>\n",
       "      <th>right turn conflict</th>\n",
       "    </tr>\n",
       "    <tr>\n",
       "      <th>FATAL</th>\n",
       "      <th></th>\n",
       "      <th></th>\n",
       "      <th></th>\n",
       "      <th></th>\n",
       "      <th></th>\n",
       "      <th></th>\n",
       "      <th></th>\n",
       "      <th></th>\n",
       "      <th></th>\n",
       "      <th></th>\n",
       "      <th></th>\n",
       "      <th></th>\n",
       "      <th></th>\n",
       "      <th></th>\n",
       "      <th></th>\n",
       "      <th></th>\n",
       "      <th></th>\n",
       "      <th></th>\n",
       "    </tr>\n",
       "  </thead>\n",
       "  <tbody>\n",
       "    <tr>\n",
       "      <th>0</th>\n",
       "      <td>333464</td>\n",
       "      <td>401728</td>\n",
       "      <td>5838</td>\n",
       "      <td>24730</td>\n",
       "      <td>127288</td>\n",
       "      <td>34365</td>\n",
       "      <td>29731</td>\n",
       "      <td>82363</td>\n",
       "      <td>290097</td>\n",
       "      <td>96921</td>\n",
       "      <td>128527</td>\n",
       "      <td>1323634</td>\n",
       "      <td>607543</td>\n",
       "      <td>41355</td>\n",
       "      <td>8458</td>\n",
       "      <td>152307</td>\n",
       "      <td>38883</td>\n",
       "      <td>29072</td>\n",
       "    </tr>\n",
       "    <tr>\n",
       "      <th>1</th>\n",
       "      <td>8621</td>\n",
       "      <td>2545</td>\n",
       "      <td>55</td>\n",
       "      <td>1144</td>\n",
       "      <td>16910</td>\n",
       "      <td>883</td>\n",
       "      <td>524</td>\n",
       "      <td>2163</td>\n",
       "      <td>2952</td>\n",
       "      <td>3804</td>\n",
       "      <td>4476</td>\n",
       "      <td>4709</td>\n",
       "      <td>8852</td>\n",
       "      <td>488</td>\n",
       "      <td>192</td>\n",
       "      <td>2195</td>\n",
       "      <td>557</td>\n",
       "      <td>239</td>\n",
       "    </tr>\n",
       "  </tbody>\n",
       "</table>\n",
       "</div>"
      ],
      "text/plain": [
       "C_CONF  Any other single-vehicle   \\\n",
       "FATAL                               \n",
       "0                          333464   \n",
       "1                            8621   \n",
       "\n",
       "C_CONF  Any other two-vehicle - different direction  \\\n",
       "FATAL                                                 \n",
       "0                                            401728   \n",
       "1                                              2545   \n",
       "\n",
       "C_CONF  Any other two-vehicle - same direction  Approaching side-swipe  \\\n",
       "FATAL                                                                    \n",
       "0                                         5838                   24730   \n",
       "1                                           55                    1144   \n",
       "\n",
       "C_CONF  Head-on collision  Hit a moving object  Hit a parked motor vehicle  \\\n",
       "FATAL                                                                        \n",
       "0                  127288                34365                       29731   \n",
       "1                   16910                  883                         524   \n",
       "\n",
       "C_CONF  Hit a stationary object  Left turn across opposing traffic  \\\n",
       "FATAL                                                                \n",
       "0                         82363                             290097   \n",
       "1                          2163                               2952   \n",
       "\n",
       "C_CONF  Ran off left shoulder  Ran off right shoulder  Rear-end collision  \\\n",
       "FATAL                                                                       \n",
       "0                       96921                  128527             1323634   \n",
       "1                        3804                    4476                4709   \n",
       "\n",
       "C_CONF  Right angle collision  Right turn  Rollover on roadway  Side swipe  \\\n",
       "FATAL                                                                        \n",
       "0                      607543       41355                 8458      152307   \n",
       "1                        8852         488                  192        2195   \n",
       "\n",
       "C_CONF  left turn conflict  right turn conflict  \n",
       "FATAL                                            \n",
       "0                    38883                29072  \n",
       "1                      557                  239  "
      ]
     },
     "execution_count": 4,
     "metadata": {},
     "output_type": "execute_result"
    }
   ],
   "source": [
    "pvt = df.pivot_table('C_CASE', index = 'FATAL', columns = 'C_CONF', aggfunc = 'count')\n",
    "print(\"Odd ratio:\", list(np.around(pvt.values[0]/pvt.values[1],2)))\n",
    "pvt"
   ]
  },
  {
   "cell_type": "code",
   "execution_count": 5,
   "metadata": {},
   "outputs": [
    {
     "data": {
      "text/plain": [
       "other                                          1932149\n",
       "Rear-end collision                             1328343\n",
       "Any other two-vehicle - different direction     404273\n",
       "Head-on collision                               144198\n",
       "Rollover on roadway                               8650\n",
       "Name: C_CONF, dtype: int64"
      ]
     },
     "execution_count": 5,
     "metadata": {},
     "output_type": "execute_result"
    }
   ],
   "source": [
    "coll_dict = {'Hit a moving object':'other', \n",
    "             'Hit a stationary object':'other', \n",
    "             'Ran off left shoulder':'other',\n",
    "            'Ran off right shoulder':'other', \n",
    "             'Rollover on roadway': 'Rollover on roadway', \n",
    "             'Any other single-vehicle ':'other',\n",
    "            'Right turn':'other',\n",
    "             'Head-on collision': 'Head-on collision',\n",
    "             'Rear-end collision': 'Rear-end collision', \n",
    "            'left turn conflict':'other',  \n",
    "             'Left turn across opposing traffic':'other',\n",
    "            'right turn conflict':'other', \n",
    "             'Right angle collision':'other', \n",
    "             'Hit a parked motor vehicle':'other',\n",
    "            'Approaching side-swipe':'other', \n",
    "            'Any other two-vehicle - different direction': 'Any other two-vehicle - different direction', \n",
    "             'Side swipe':'other', \n",
    "            'Any other two-vehicle - same direction':'other'}\n",
    "\n",
    "df['C_CONF'].replace(coll_dict, inplace = True)\n",
    "\n",
    "df.C_CONF.value_counts()"
   ]
  },
  {
   "cell_type": "markdown",
   "metadata": {},
   "source": [
    "## 2. Roadway configuration"
   ]
  },
  {
   "cell_type": "code",
   "execution_count": 6,
   "metadata": {},
   "outputs": [
    {
     "name": "stdout",
     "output_type": "stream",
     "text": [
      "Odd ratio: [107.4, 50.32, 124.5, 119.15, 37.34, 6.91, 41.74, 286.4, 184.57, 33.51]\n"
     ]
    },
    {
     "data": {
      "text/html": [
       "<div>\n",
       "<style scoped>\n",
       "    .dataframe tbody tr th:only-of-type {\n",
       "        vertical-align: middle;\n",
       "    }\n",
       "\n",
       "    .dataframe tbody tr th {\n",
       "        vertical-align: top;\n",
       "    }\n",
       "\n",
       "    .dataframe thead th {\n",
       "        text-align: right;\n",
       "    }\n",
       "</style>\n",
       "<table border=\"1\" class=\"dataframe\">\n",
       "  <thead>\n",
       "    <tr style=\"text-align: right;\">\n",
       "      <th>C_RCFG</th>\n",
       "      <th>At an intersection</th>\n",
       "      <th>Bridge, overpass, viaduct</th>\n",
       "      <th>Express lane of a freeway system</th>\n",
       "      <th>Intersection with parking lot entrance</th>\n",
       "      <th>Non-intersection</th>\n",
       "      <th>Passing or climbing lane</th>\n",
       "      <th>Railroad level crossing</th>\n",
       "      <th>Ramp</th>\n",
       "      <th>Traffic circle</th>\n",
       "      <th>Tunnel or underpass</th>\n",
       "    </tr>\n",
       "    <tr>\n",
       "      <th>FATAL</th>\n",
       "      <th></th>\n",
       "      <th></th>\n",
       "      <th></th>\n",
       "      <th></th>\n",
       "      <th></th>\n",
       "      <th></th>\n",
       "      <th></th>\n",
       "      <th></th>\n",
       "      <th></th>\n",
       "      <th></th>\n",
       "    </tr>\n",
       "  </thead>\n",
       "  <tbody>\n",
       "    <tr>\n",
       "      <th>0</th>\n",
       "      <td>1996193</td>\n",
       "      <td>34319</td>\n",
       "      <td>249</td>\n",
       "      <td>217095</td>\n",
       "      <td>1483962</td>\n",
       "      <td>318</td>\n",
       "      <td>11561</td>\n",
       "      <td>7160</td>\n",
       "      <td>1292</td>\n",
       "      <td>4155</td>\n",
       "    </tr>\n",
       "    <tr>\n",
       "      <th>1</th>\n",
       "      <td>18586</td>\n",
       "      <td>682</td>\n",
       "      <td>2</td>\n",
       "      <td>1822</td>\n",
       "      <td>39738</td>\n",
       "      <td>46</td>\n",
       "      <td>277</td>\n",
       "      <td>25</td>\n",
       "      <td>7</td>\n",
       "      <td>124</td>\n",
       "    </tr>\n",
       "  </tbody>\n",
       "</table>\n",
       "</div>"
      ],
      "text/plain": [
       "C_RCFG  At an intersection  Bridge, overpass, viaduct  \\\n",
       "FATAL                                                   \n",
       "0                  1996193                      34319   \n",
       "1                    18586                        682   \n",
       "\n",
       "C_RCFG  Express lane of a freeway system  \\\n",
       "FATAL                                      \n",
       "0                                    249   \n",
       "1                                      2   \n",
       "\n",
       "C_RCFG  Intersection with parking lot entrance  Non-intersection  \\\n",
       "FATAL                                                              \n",
       "0                                       217095           1483962   \n",
       "1                                         1822             39738   \n",
       "\n",
       "C_RCFG  Passing or climbing lane  Railroad level crossing  Ramp  \\\n",
       "FATAL                                                             \n",
       "0                            318                    11561  7160   \n",
       "1                             46                      277    25   \n",
       "\n",
       "C_RCFG  Traffic circle  Tunnel or underpass  \n",
       "FATAL                                        \n",
       "0                 1292                 4155  \n",
       "1                    7                  124  "
      ]
     },
     "execution_count": 6,
     "metadata": {},
     "output_type": "execute_result"
    }
   ],
   "source": [
    "pvt = df.pivot_table('C_CASE', index = 'FATAL', columns = 'C_RCFG', aggfunc = 'count')\n",
    "print(\"Odd ratio:\", list(np.around(pvt.values[0]/pvt.values[1],2)))\n",
    "pvt"
   ]
  },
  {
   "cell_type": "code",
   "execution_count": 7,
   "metadata": {},
   "outputs": [
    {
     "data": {
      "text/plain": [
       "At an intersection                        2014779\n",
       "other                                     1575182\n",
       "Intersection with parking lot entrance     218917\n",
       "Express lane of a freeway system             8735\n",
       "Name: C_RCFG, dtype: int64"
      ]
     },
     "execution_count": 7,
     "metadata": {},
     "output_type": "execute_result"
    }
   ],
   "source": [
    "roadway_dict = {'Non-intersection': 'other', \n",
    "                'At an intersection':'At an intersection', \n",
    "                'Intersection with parking lot entrance': 'Intersection with parking lot entrance',\n",
    "                'Railroad level crossing': 'other',\n",
    "               'Bridge, overpass, viaduct': 'other', \n",
    "                'Tunnel or underpass': 'other', \n",
    "                'Passing or climbing lane': 'other',\n",
    "               'Ramp': 'Express lane of a freeway system', \n",
    "                'Traffic circle': 'Express lane of a freeway system',\n",
    "                'Express lane of a freeway system': 'Express lane of a freeway system'}\n",
    "\n",
    "df['C_RCFG'].replace(roadway_dict, inplace = True)\n",
    "\n",
    "df.C_RCFG.value_counts()"
   ]
  },
  {
   "cell_type": "markdown",
   "metadata": {},
   "source": [
    "## 3. Weather condition"
   ]
  },
  {
   "cell_type": "code",
   "execution_count": 8,
   "metadata": {},
   "outputs": [
    {
     "name": "stdout",
     "output_type": "stream",
     "text": [
      "Odd ratio: [63.63, 39.32, 50.57, 83.27, 53.22, 31.79, 23.98]\n"
     ]
    },
    {
     "data": {
      "text/html": [
       "<div>\n",
       "<style scoped>\n",
       "    .dataframe tbody tr th:only-of-type {\n",
       "        vertical-align: middle;\n",
       "    }\n",
       "\n",
       "    .dataframe tbody tr th {\n",
       "        vertical-align: top;\n",
       "    }\n",
       "\n",
       "    .dataframe thead th {\n",
       "        text-align: right;\n",
       "    }\n",
       "</style>\n",
       "<table border=\"1\" class=\"dataframe\">\n",
       "  <thead>\n",
       "    <tr style=\"text-align: right;\">\n",
       "      <th>C_WTHR</th>\n",
       "      <th>Clear and sunny</th>\n",
       "      <th>Freezing rain, sleet, hail</th>\n",
       "      <th>Overcast, cloudy but no precipitation</th>\n",
       "      <th>Raining</th>\n",
       "      <th>Snowing</th>\n",
       "      <th>Strong wind</th>\n",
       "      <th>Visibility limitation</th>\n",
       "    </tr>\n",
       "    <tr>\n",
       "      <th>FATAL</th>\n",
       "      <th></th>\n",
       "      <th></th>\n",
       "      <th></th>\n",
       "      <th></th>\n",
       "      <th></th>\n",
       "      <th></th>\n",
       "      <th></th>\n",
       "    </tr>\n",
       "  </thead>\n",
       "  <tbody>\n",
       "    <tr>\n",
       "      <th>0</th>\n",
       "      <td>2688648</td>\n",
       "      <td>19975</td>\n",
       "      <td>346496</td>\n",
       "      <td>416193</td>\n",
       "      <td>222200</td>\n",
       "      <td>9410</td>\n",
       "      <td>53382</td>\n",
       "    </tr>\n",
       "    <tr>\n",
       "      <th>1</th>\n",
       "      <td>42254</td>\n",
       "      <td>508</td>\n",
       "      <td>6852</td>\n",
       "      <td>4998</td>\n",
       "      <td>4175</td>\n",
       "      <td>296</td>\n",
       "      <td>2226</td>\n",
       "    </tr>\n",
       "  </tbody>\n",
       "</table>\n",
       "</div>"
      ],
      "text/plain": [
       "C_WTHR  Clear and sunny  Freezing rain, sleet, hail  \\\n",
       "FATAL                                                 \n",
       "0               2688648                       19975   \n",
       "1                 42254                         508   \n",
       "\n",
       "C_WTHR  Overcast, cloudy but no precipitation  Raining  Snowing  Strong wind  \\\n",
       "FATAL                                                                          \n",
       "0                                      346496   416193   222200         9410   \n",
       "1                                        6852     4998     4175          296   \n",
       "\n",
       "C_WTHR  Visibility limitation  \n",
       "FATAL                          \n",
       "0                       53382  \n",
       "1                        2226  "
      ]
     },
     "execution_count": 8,
     "metadata": {},
     "output_type": "execute_result"
    }
   ],
   "source": [
    "pvt = df.pivot_table('C_CASE', index = 'FATAL', columns = 'C_WTHR', aggfunc = 'count', fill_value = 0)\n",
    "print(\"Odd ratio:\", list(np.around(pvt.values[0]/pvt.values[1],2)))\n",
    "pvt"
   ]
  },
  {
   "cell_type": "code",
   "execution_count": 9,
   "metadata": {},
   "outputs": [
    {
     "data": {
      "text/plain": [
       "Clear and sunny                          2730902\n",
       "Raining                                   421191\n",
       "Overcast, cloudy but no precipitation     353348\n",
       "Snowing                                   226375\n",
       "Visibility limitation                      55608\n",
       "other                                      30189\n",
       "Name: C_WTHR, dtype: int64"
      ]
     },
     "execution_count": 9,
     "metadata": {},
     "output_type": "execute_result"
    }
   ],
   "source": [
    "wthr_dict = {'Clear and sunny': 'Clear and sunny',\n",
    "             'Overcast, cloudy but no precipitation': 'Overcast, cloudy but no precipitation',\n",
    "              'Raining': 'Raining',\n",
    "            'Snowing' : 'Snowing', \n",
    "             'Freezing rain, sleet, hail' :'other',\n",
    "              'Visibility limitation':'Visibility limitation',\n",
    "              'Strong wind': 'other'}\n",
    "\n",
    "df['C_WTHR'].replace(wthr_dict, inplace = True)\n",
    "\n",
    "df.C_WTHR.value_counts()"
   ]
  },
  {
   "cell_type": "markdown",
   "metadata": {},
   "source": [
    "## 4. Road surface"
   ]
  },
  {
   "cell_type": "code",
   "execution_count": 10,
   "metadata": {},
   "outputs": [
    {
     "name": "stdout",
     "output_type": "stream",
     "text": [
      "Odd ratio: [60.62, 59.33, 49.43, 27.96, 231.67, 21.5, 50.33, 52.1, 76.62]\n"
     ]
    },
    {
     "data": {
      "text/html": [
       "<div>\n",
       "<style scoped>\n",
       "    .dataframe tbody tr th:only-of-type {\n",
       "        vertical-align: middle;\n",
       "    }\n",
       "\n",
       "    .dataframe tbody tr th {\n",
       "        vertical-align: top;\n",
       "    }\n",
       "\n",
       "    .dataframe thead th {\n",
       "        text-align: right;\n",
       "    }\n",
       "</style>\n",
       "<table border=\"1\" class=\"dataframe\">\n",
       "  <thead>\n",
       "    <tr style=\"text-align: right;\">\n",
       "      <th>C_RSUR</th>\n",
       "      <th>Dry, normal</th>\n",
       "      <th>Flooded</th>\n",
       "      <th>Icy</th>\n",
       "      <th>Muddy</th>\n",
       "      <th>Oil</th>\n",
       "      <th>Sand/gravel/dirt</th>\n",
       "      <th>Slush</th>\n",
       "      <th>Snow</th>\n",
       "      <th>Wet</th>\n",
       "    </tr>\n",
       "    <tr>\n",
       "      <th>FATAL</th>\n",
       "      <th></th>\n",
       "      <th></th>\n",
       "      <th></th>\n",
       "      <th></th>\n",
       "      <th></th>\n",
       "      <th></th>\n",
       "      <th></th>\n",
       "      <th></th>\n",
       "      <th></th>\n",
       "    </tr>\n",
       "  </thead>\n",
       "  <tbody>\n",
       "    <tr>\n",
       "      <th>0</th>\n",
       "      <td>2564900</td>\n",
       "      <td>178</td>\n",
       "      <td>204511</td>\n",
       "      <td>2908</td>\n",
       "      <td>695</td>\n",
       "      <td>15694</td>\n",
       "      <td>53899</td>\n",
       "      <td>167814</td>\n",
       "      <td>745705</td>\n",
       "    </tr>\n",
       "    <tr>\n",
       "      <th>1</th>\n",
       "      <td>42308</td>\n",
       "      <td>3</td>\n",
       "      <td>4137</td>\n",
       "      <td>104</td>\n",
       "      <td>3</td>\n",
       "      <td>730</td>\n",
       "      <td>1071</td>\n",
       "      <td>3221</td>\n",
       "      <td>9732</td>\n",
       "    </tr>\n",
       "  </tbody>\n",
       "</table>\n",
       "</div>"
      ],
      "text/plain": [
       "C_RSUR  Dry, normal  Flooded     Icy  Muddy  Oil  Sand/gravel/dirt  Slush  \\\n",
       "FATAL                                                                       \n",
       "0           2564900      178  204511   2908  695             15694  53899   \n",
       "1             42308        3    4137    104    3               730   1071   \n",
       "\n",
       "C_RSUR    Snow     Wet  \n",
       "FATAL                   \n",
       "0       167814  745705  \n",
       "1         3221    9732  "
      ]
     },
     "execution_count": 10,
     "metadata": {},
     "output_type": "execute_result"
    }
   ],
   "source": [
    "pvt = df.pivot_table('C_CASE', index = 'FATAL', columns = 'C_RSUR', aggfunc = 'count', fill_value = 0)\n",
    "print(\"Odd ratio:\", list(np.around(pvt.values[0]/pvt.values[1],2)))\n",
    "pvt"
   ]
  },
  {
   "cell_type": "code",
   "execution_count": 11,
   "metadata": {},
   "outputs": [
    {
     "data": {
      "text/plain": [
       "Dry, normal    2607389\n",
       "Wet             755437\n",
       "other           228084\n",
       "Snow            226005\n",
       "Oil                698\n",
       "Name: C_RSUR, dtype: int64"
      ]
     },
     "execution_count": 11,
     "metadata": {},
     "output_type": "execute_result"
    }
   ],
   "source": [
    "roadsur_dict = {'Dry, normal':'Dry, normal', \n",
    "                'Wet': 'Wet', \n",
    "                'Snow': 'Snow', \n",
    "                'Slush':'Snow', \n",
    "                'Icy': 'other', \n",
    "                'Sand/gravel/dirt':'other',\n",
    "                'Muddy':'other', \n",
    "                 'Oil': 'Oil', \n",
    "                'Flooded': 'Dry, normal'}\n",
    "\n",
    "df['C_RSUR'].replace(roadsur_dict, inplace = True)\n",
    "\n",
    "df.C_RSUR.value_counts()"
   ]
  },
  {
   "cell_type": "markdown",
   "metadata": {},
   "source": [
    "## 5. Road alignment"
   ]
  },
  {
   "cell_type": "code",
   "execution_count": 12,
   "metadata": {},
   "outputs": [
    {
     "name": "stdout",
     "output_type": "stream",
     "text": [
      "Odd ratio: [28.02, 26.27, 24.51, 78.19, 51.8, 30.45]\n"
     ]
    },
    {
     "data": {
      "text/html": [
       "<div>\n",
       "<style scoped>\n",
       "    .dataframe tbody tr th:only-of-type {\n",
       "        vertical-align: middle;\n",
       "    }\n",
       "\n",
       "    .dataframe tbody tr th {\n",
       "        vertical-align: top;\n",
       "    }\n",
       "\n",
       "    .dataframe thead th {\n",
       "        text-align: right;\n",
       "    }\n",
       "</style>\n",
       "<table border=\"1\" class=\"dataframe\">\n",
       "  <thead>\n",
       "    <tr style=\"text-align: right;\">\n",
       "      <th>C_RALN</th>\n",
       "      <th>Bottom of hill or gradient</th>\n",
       "      <th>Curved and level</th>\n",
       "      <th>Curved with gradient</th>\n",
       "      <th>Straight and level</th>\n",
       "      <th>Straight with gradient</th>\n",
       "      <th>Top of hill or gradient</th>\n",
       "    </tr>\n",
       "    <tr>\n",
       "      <th>FATAL</th>\n",
       "      <th></th>\n",
       "      <th></th>\n",
       "      <th></th>\n",
       "      <th></th>\n",
       "      <th></th>\n",
       "      <th></th>\n",
       "    </tr>\n",
       "  </thead>\n",
       "  <tbody>\n",
       "    <tr>\n",
       "      <th>0</th>\n",
       "      <td>16170</td>\n",
       "      <td>235110</td>\n",
       "      <td>138931</td>\n",
       "      <td>2944003</td>\n",
       "      <td>398981</td>\n",
       "      <td>23109</td>\n",
       "    </tr>\n",
       "    <tr>\n",
       "      <th>1</th>\n",
       "      <td>577</td>\n",
       "      <td>8949</td>\n",
       "      <td>5668</td>\n",
       "      <td>37653</td>\n",
       "      <td>7703</td>\n",
       "      <td>759</td>\n",
       "    </tr>\n",
       "  </tbody>\n",
       "</table>\n",
       "</div>"
      ],
      "text/plain": [
       "C_RALN  Bottom of hill or gradient  Curved and level  Curved with gradient  \\\n",
       "FATAL                                                                        \n",
       "0                            16170            235110                138931   \n",
       "1                              577              8949                  5668   \n",
       "\n",
       "C_RALN  Straight and level  Straight with gradient  Top of hill or gradient  \n",
       "FATAL                                                                        \n",
       "0                  2944003                  398981                    23109  \n",
       "1                    37653                    7703                      759  "
      ]
     },
     "execution_count": 12,
     "metadata": {},
     "output_type": "execute_result"
    }
   ],
   "source": [
    "pvt = df.pivot_table('C_CASE', index = 'FATAL', columns = 'C_RALN', aggfunc = 'count', fill_value = 0)\n",
    "print(\"Odd ratio:\", list(np.around(pvt.values[0]/pvt.values[1],2)))\n",
    "pvt"
   ]
  },
  {
   "cell_type": "code",
   "execution_count": 13,
   "metadata": {},
   "outputs": [
    {
     "data": {
      "text/plain": [
       "Straight and level            2981656\n",
       "Straight with gradient         406684\n",
       "Curved                         388658\n",
       "Top of hill or gradient         23868\n",
       "Bottom of hill or gradient      16747\n",
       "Name: C_RALN, dtype: int64"
      ]
     },
     "execution_count": 13,
     "metadata": {},
     "output_type": "execute_result"
    }
   ],
   "source": [
    "roadall_dist = {'Straight and level':'Straight and level',\n",
    "                'Straight with gradient':'Straight with gradient', \n",
    "                'Curved and level': 'Curved',\n",
    "               'Curved with gradient':'Curved', \n",
    "                'Top of hill or gradient': 'Top of hill or gradient',\n",
    "                'Bottom of hill or gradient': 'Bottom of hill or gradient'}\n",
    "\n",
    "df['C_RALN'].replace(roadall_dist, inplace = True)\n",
    "\n",
    "df.C_RALN.value_counts()"
   ]
  },
  {
   "cell_type": "markdown",
   "metadata": {},
   "source": [
    "## 6. Vehicle type"
   ]
  },
  {
   "cell_type": "code",
   "execution_count": 14,
   "metadata": {},
   "outputs": [
    {
     "name": "stdout",
     "output_type": "stream",
     "text": [
      "Odd ratio: [219.67, 41.87, 69.32, 24.29, 44.94, 61.79, 15.41, 12.8, 27.58, 105.57, 116.2, 23.47, 34.91]\n"
     ]
    },
    {
     "data": {
      "text/html": [
       "<div>\n",
       "<style scoped>\n",
       "    .dataframe tbody tr th:only-of-type {\n",
       "        vertical-align: middle;\n",
       "    }\n",
       "\n",
       "    .dataframe tbody tr th {\n",
       "        vertical-align: top;\n",
       "    }\n",
       "\n",
       "    .dataframe thead th {\n",
       "        text-align: right;\n",
       "    }\n",
       "</style>\n",
       "<table border=\"1\" class=\"dataframe\">\n",
       "  <thead>\n",
       "    <tr style=\"text-align: right;\">\n",
       "      <th>V_TYPE</th>\n",
       "      <th>Bicycle</th>\n",
       "      <th>Fire engine</th>\n",
       "      <th>Light Duty Vehicle</th>\n",
       "      <th>Motorcycle and moped</th>\n",
       "      <th>Other trucks and vans</th>\n",
       "      <th>Panel/cargo van</th>\n",
       "      <th>Purpose-built motorhome</th>\n",
       "      <th>Road tractor</th>\n",
       "      <th>School bus</th>\n",
       "      <th>Smaller school bus</th>\n",
       "      <th>Street car</th>\n",
       "      <th>Unit trucks</th>\n",
       "      <th>Urban and Intercity Bus</th>\n",
       "    </tr>\n",
       "    <tr>\n",
       "      <th>FATAL</th>\n",
       "      <th></th>\n",
       "      <th></th>\n",
       "      <th></th>\n",
       "      <th></th>\n",
       "      <th></th>\n",
       "      <th></th>\n",
       "      <th></th>\n",
       "      <th></th>\n",
       "      <th></th>\n",
       "      <th></th>\n",
       "      <th></th>\n",
       "      <th></th>\n",
       "      <th></th>\n",
       "    </tr>\n",
       "  </thead>\n",
       "  <tbody>\n",
       "    <tr>\n",
       "      <th>0</th>\n",
       "      <td>3954</td>\n",
       "      <td>628</td>\n",
       "      <td>3400890</td>\n",
       "      <td>61385</td>\n",
       "      <td>109832</td>\n",
       "      <td>45909</td>\n",
       "      <td>1572</td>\n",
       "      <td>39039</td>\n",
       "      <td>14284</td>\n",
       "      <td>739</td>\n",
       "      <td>1743</td>\n",
       "      <td>44424</td>\n",
       "      <td>31905</td>\n",
       "    </tr>\n",
       "    <tr>\n",
       "      <th>1</th>\n",
       "      <td>18</td>\n",
       "      <td>15</td>\n",
       "      <td>49062</td>\n",
       "      <td>2527</td>\n",
       "      <td>2444</td>\n",
       "      <td>743</td>\n",
       "      <td>102</td>\n",
       "      <td>3051</td>\n",
       "      <td>518</td>\n",
       "      <td>7</td>\n",
       "      <td>15</td>\n",
       "      <td>1893</td>\n",
       "      <td>914</td>\n",
       "    </tr>\n",
       "  </tbody>\n",
       "</table>\n",
       "</div>"
      ],
      "text/plain": [
       "V_TYPE  Bicycle  Fire engine  Light Duty Vehicle  Motorcycle and moped  \\\n",
       "FATAL                                                                    \n",
       "0          3954          628             3400890                 61385   \n",
       "1            18           15               49062                  2527   \n",
       "\n",
       "V_TYPE  Other trucks and vans  Panel/cargo van  Purpose-built motorhome  \\\n",
       "FATAL                                                                     \n",
       "0                      109832            45909                     1572   \n",
       "1                        2444              743                      102   \n",
       "\n",
       "V_TYPE  Road tractor  School bus  Smaller school bus  Street car  Unit trucks  \\\n",
       "FATAL                                                                           \n",
       "0              39039       14284                 739        1743        44424   \n",
       "1               3051         518                   7          15         1893   \n",
       "\n",
       "V_TYPE  Urban and Intercity Bus  \n",
       "FATAL                            \n",
       "0                         31905  \n",
       "1                           914  "
      ]
     },
     "execution_count": 14,
     "metadata": {},
     "output_type": "execute_result"
    }
   ],
   "source": [
    "pvt = df.pivot_table('C_CASE', index = 'FATAL', columns = 'V_TYPE', aggfunc = 'count', fill_value = 0)\n",
    "print(\"Odd ratio:\", list(np.around(pvt.values[0]/pvt.values[1],2)))\n",
    "pvt"
   ]
  },
  {
   "cell_type": "code",
   "execution_count": 15,
   "metadata": {},
   "outputs": [
    {
     "data": {
      "text/plain": [
       "Light Duty Vehicle         3496604\n",
       "other                       125031\n",
       "Other trucks and vans       112919\n",
       "Road tractor                 43764\n",
       "Urban and Intercity Bus      32819\n",
       "Bicycle                       3972\n",
       "Street car                    2504\n",
       "Name: V_TYPE, dtype: int64"
      ]
     },
     "execution_count": 15,
     "metadata": {},
     "output_type": "execute_result"
    }
   ],
   "source": [
    "vehtype_dict ={'Light Duty Vehicle': 'Light Duty Vehicle', \n",
    "               'Other trucks and vans': 'Other trucks and vans', \n",
    "               'Urban and Intercity Bus': 'Urban and Intercity Bus',\n",
    "              'Construction equipment': 'Construction equipment',\n",
    "               'Bicycle': 'Bicycle', \n",
    "               'Unit trucks': 'other', \n",
    "               'Road tractor': 'Road tractor',\n",
    "              'School bus': 'other', \n",
    "               'Snowmobile': 'Snowmobile',\n",
    "               'Motorcycle and moped': 'other',\n",
    "               'Street car': 'Street car',\n",
    "              'Panel/cargo van': 'Light Duty Vehicle', \n",
    "               'Off road vehicles': 'Off road vehicles', \n",
    "               'Farm equipment': 'Farm equipment', \n",
    "               'Purpose-built motorhome': 'Road tractor',\n",
    "              'Smaller school bus': 'Street car',\n",
    "               'Fire engine':'Other trucks and vans'}\n",
    "\n",
    "df['V_TYPE'].replace(vehtype_dict, inplace = True)\n",
    "\n",
    "df.V_TYPE.value_counts()"
   ]
  },
  {
   "cell_type": "markdown",
   "metadata": {},
   "source": [
    "## 7. Traffic control"
   ]
  },
  {
   "cell_type": "code",
   "execution_count": 16,
   "metadata": {},
   "outputs": [
    {
     "name": "stdout",
     "output_type": "stream",
     "text": [
      "Odd ratio: [33.86, 19.97, 42.12, 24.0, 184.59, 136.73, 20.37, 9.04, 10.14, 226.69, inf, 131.52, 67.31, 214.17, 53.2, 27.97, 154.92]\n"
     ]
    },
    {
     "data": {
      "text/html": [
       "<div>\n",
       "<style scoped>\n",
       "    .dataframe tbody tr th:only-of-type {\n",
       "        vertical-align: middle;\n",
       "    }\n",
       "\n",
       "    .dataframe tbody tr th {\n",
       "        vertical-align: top;\n",
       "    }\n",
       "\n",
       "    .dataframe thead th {\n",
       "        text-align: right;\n",
       "    }\n",
       "</style>\n",
       "<table border=\"1\" class=\"dataframe\">\n",
       "  <thead>\n",
       "    <tr style=\"text-align: right;\">\n",
       "      <th>C_TRAF</th>\n",
       "      <th>Control device not specified</th>\n",
       "      <th>Markings on the road</th>\n",
       "      <th>No control present</th>\n",
       "      <th>No passing zone sign</th>\n",
       "      <th>Pedestrian crosswalk</th>\n",
       "      <th>Police officer</th>\n",
       "      <th>Railway crossing with signals, or signals and gates</th>\n",
       "      <th>Railway crossing with signs only</th>\n",
       "      <th>Reduced speed zone</th>\n",
       "      <th>School bus stopped with school bus signal lights flashing</th>\n",
       "      <th>School crossing</th>\n",
       "      <th>School guard, flagman</th>\n",
       "      <th>Stop sign</th>\n",
       "      <th>Traffic signals fully operational</th>\n",
       "      <th>Traffic signals in flashing mode</th>\n",
       "      <th>Warning sign</th>\n",
       "      <th>Yield sign</th>\n",
       "    </tr>\n",
       "    <tr>\n",
       "      <th>FATAL</th>\n",
       "      <th></th>\n",
       "      <th></th>\n",
       "      <th></th>\n",
       "      <th></th>\n",
       "      <th></th>\n",
       "      <th></th>\n",
       "      <th></th>\n",
       "      <th></th>\n",
       "      <th></th>\n",
       "      <th></th>\n",
       "      <th></th>\n",
       "      <th></th>\n",
       "      <th></th>\n",
       "      <th></th>\n",
       "      <th></th>\n",
       "      <th></th>\n",
       "      <th></th>\n",
       "    </tr>\n",
       "  </thead>\n",
       "  <tbody>\n",
       "    <tr>\n",
       "      <th>0</th>\n",
       "      <td>711</td>\n",
       "      <td>2356</td>\n",
       "      <td>2000882</td>\n",
       "      <td>1512</td>\n",
       "      <td>17167</td>\n",
       "      <td>1504</td>\n",
       "      <td>2159</td>\n",
       "      <td>488</td>\n",
       "      <td>1247</td>\n",
       "      <td>3627</td>\n",
       "      <td>231</td>\n",
       "      <td>17361</td>\n",
       "      <td>467093</td>\n",
       "      <td>1178589</td>\n",
       "      <td>13831</td>\n",
       "      <td>2154</td>\n",
       "      <td>45392</td>\n",
       "    </tr>\n",
       "    <tr>\n",
       "      <th>1</th>\n",
       "      <td>21</td>\n",
       "      <td>118</td>\n",
       "      <td>47500</td>\n",
       "      <td>63</td>\n",
       "      <td>93</td>\n",
       "      <td>11</td>\n",
       "      <td>106</td>\n",
       "      <td>54</td>\n",
       "      <td>123</td>\n",
       "      <td>16</td>\n",
       "      <td>0</td>\n",
       "      <td>132</td>\n",
       "      <td>6939</td>\n",
       "      <td>5503</td>\n",
       "      <td>260</td>\n",
       "      <td>77</td>\n",
       "      <td>293</td>\n",
       "    </tr>\n",
       "  </tbody>\n",
       "</table>\n",
       "</div>"
      ],
      "text/plain": [
       "C_TRAF  Control device not specified  Markings on the road  \\\n",
       "FATAL                                                        \n",
       "0                                711                  2356   \n",
       "1                                 21                   118   \n",
       "\n",
       "C_TRAF  No control present  No passing zone sign  Pedestrian crosswalk  \\\n",
       "FATAL                                                                    \n",
       "0                  2000882                  1512                 17167   \n",
       "1                    47500                    63                    93   \n",
       "\n",
       "C_TRAF  Police officer  Railway crossing with signals, or signals and gates  \\\n",
       "FATAL                                                                         \n",
       "0                 1504                                               2159     \n",
       "1                   11                                                106     \n",
       "\n",
       "C_TRAF  Railway crossing with signs only  Reduced speed zone  \\\n",
       "FATAL                                                          \n",
       "0                                    488                1247   \n",
       "1                                     54                 123   \n",
       "\n",
       "C_TRAF  School bus stopped with school bus signal lights flashing  \\\n",
       "FATAL                                                               \n",
       "0                                                    3627           \n",
       "1                                                      16           \n",
       "\n",
       "C_TRAF  School crossing  School guard, flagman  Stop sign  \\\n",
       "FATAL                                                       \n",
       "0                   231                  17361     467093   \n",
       "1                     0                    132       6939   \n",
       "\n",
       "C_TRAF  Traffic signals fully operational  Traffic signals in flashing mode  \\\n",
       "FATAL                                                                         \n",
       "0                                 1178589                             13831   \n",
       "1                                    5503                               260   \n",
       "\n",
       "C_TRAF  Warning sign  Yield sign  \n",
       "FATAL                             \n",
       "0               2154       45392  \n",
       "1                 77         293  "
      ]
     },
     "execution_count": 16,
     "metadata": {},
     "output_type": "execute_result"
    }
   ],
   "source": [
    "pvt = df.pivot_table('C_CASE', index = 'FATAL', columns = 'C_TRAF', aggfunc = 'count', fill_value = 0)\n",
    "print(\"Odd ratio:\", list(np.around(pvt.values[0]/pvt.values[1],2)))\n",
    "pvt"
   ]
  },
  {
   "cell_type": "code",
   "execution_count": 17,
   "metadata": {},
   "outputs": [
    {
     "data": {
      "text/plain": [
       "No control present                   2062473\n",
       "Traffic signals fully operational    1184092\n",
       "Stop sign                             474032\n",
       "Yield sign                             45685\n",
       "All School buses traffic control       21367\n",
       "Pedestrian crosswalk                   17260\n",
       "other                                   8545\n",
       "Railway crossing with signs only        1912\n",
       "Police officer                          1515\n",
       "Control device not specified             732\n",
       "Name: C_TRAF, dtype: int64"
      ]
     },
     "execution_count": 17,
     "metadata": {},
     "output_type": "execute_result"
    }
   ],
   "source": [
    "tracon_dict ={'Traffic signals fully operational': 'Traffic signals fully operational',\n",
    "              'Traffic signals in flashing mode': 'No control present',\n",
    "             'Stop sign': 'Stop sign',\n",
    "              'Yield sign': 'Yield sign',\n",
    "              'Warning sign':'other',\n",
    "              'Pedestrian crosswalk':'Pedestrian crosswalk',\n",
    "             'Police officer': 'Police officer', \n",
    "              'School guard, flagman': 'All School buses traffic control', \n",
    "              'School crossing': 'All School buses traffic control',\n",
    "              'Reduced speed zone': 'Railway crossing with signs only', \n",
    "              'No passing zone sign': 'other', \n",
    "              'Markings on the road': 'other',\n",
    "             'School bus stopped with school bus signal lights flashing': 'All School buses traffic control',\n",
    "             'Railway crossing with signals, or signals and gates':'other',\n",
    "             'Railway crossing with signs only': 'Railway crossing with signs only',\n",
    "             'Control device not specifie': 'Control device not specified',\n",
    "              'No control present': 'No control present'}\n",
    "\n",
    "df['C_TRAF'].replace(tracon_dict, inplace = True)\n",
    "\n",
    "df.C_TRAF.value_counts()"
   ]
  },
  {
   "cell_type": "markdown",
   "metadata": {},
   "source": [
    "## 8. Person position"
   ]
  },
  {
   "cell_type": "code",
   "execution_count": 18,
   "metadata": {},
   "outputs": [
    {
     "name": "stdout",
     "output_type": "stream",
     "text": [
      "Odd ratio: [67.12, 47.13, 56.34, 57.5, 15.06, 46.05, 51.66, 58.83, 16.23, 23.02, 26.85, 28.41]\n"
     ]
    },
    {
     "data": {
      "text/html": [
       "<div>\n",
       "<style scoped>\n",
       "    .dataframe tbody tr th:only-of-type {\n",
       "        vertical-align: middle;\n",
       "    }\n",
       "\n",
       "    .dataframe tbody tr th {\n",
       "        vertical-align: top;\n",
       "    }\n",
       "\n",
       "    .dataframe thead th {\n",
       "        text-align: right;\n",
       "    }\n",
       "</style>\n",
       "<table border=\"1\" class=\"dataframe\">\n",
       "  <thead>\n",
       "    <tr style=\"text-align: right;\">\n",
       "      <th>P_PSN</th>\n",
       "      <th>Driver</th>\n",
       "      <th>Front row, center</th>\n",
       "      <th>Front row, right outboard</th>\n",
       "      <th>Outside passenger compartment</th>\n",
       "      <th>Position unknown</th>\n",
       "      <th>Second row, center</th>\n",
       "      <th>Second row, left outboard</th>\n",
       "      <th>Second row, right outboard</th>\n",
       "      <th>Sitting on someone’s lap</th>\n",
       "      <th>Third row, center</th>\n",
       "      <th>Third row, left outboard</th>\n",
       "      <th>Third row, right outboard</th>\n",
       "    </tr>\n",
       "    <tr>\n",
       "      <th>FATAL</th>\n",
       "      <th></th>\n",
       "      <th></th>\n",
       "      <th></th>\n",
       "      <th></th>\n",
       "      <th></th>\n",
       "      <th></th>\n",
       "      <th></th>\n",
       "      <th></th>\n",
       "      <th></th>\n",
       "      <th></th>\n",
       "      <th></th>\n",
       "      <th></th>\n",
       "    </tr>\n",
       "  </thead>\n",
       "  <tbody>\n",
       "    <tr>\n",
       "      <th>0</th>\n",
       "      <td>2546515</td>\n",
       "      <td>50332</td>\n",
       "      <td>675293</td>\n",
       "      <td>345</td>\n",
       "      <td>13807</td>\n",
       "      <td>66306</td>\n",
       "      <td>168619</td>\n",
       "      <td>207805</td>\n",
       "      <td>211</td>\n",
       "      <td>23001</td>\n",
       "      <td>1826</td>\n",
       "      <td>2244</td>\n",
       "    </tr>\n",
       "    <tr>\n",
       "      <th>1</th>\n",
       "      <td>37938</td>\n",
       "      <td>1068</td>\n",
       "      <td>11985</td>\n",
       "      <td>6</td>\n",
       "      <td>917</td>\n",
       "      <td>1440</td>\n",
       "      <td>3264</td>\n",
       "      <td>3532</td>\n",
       "      <td>13</td>\n",
       "      <td>999</td>\n",
       "      <td>68</td>\n",
       "      <td>79</td>\n",
       "    </tr>\n",
       "  </tbody>\n",
       "</table>\n",
       "</div>"
      ],
      "text/plain": [
       "P_PSN   Driver  Front row, center  Front row, right outboard  \\\n",
       "FATAL                                                          \n",
       "0      2546515              50332                     675293   \n",
       "1        37938               1068                      11985   \n",
       "\n",
       "P_PSN  Outside passenger compartment  Position unknown  Second row, center  \\\n",
       "FATAL                                                                        \n",
       "0                                345             13807               66306   \n",
       "1                                  6               917                1440   \n",
       "\n",
       "P_PSN  Second row, left outboard  Second row, right outboard  \\\n",
       "FATAL                                                          \n",
       "0                         168619                      207805   \n",
       "1                           3264                        3532   \n",
       "\n",
       "P_PSN  Sitting on someone’s lap  Third row, center  Third row, left outboard  \\\n",
       "FATAL                                                                          \n",
       "0                           211              23001                      1826   \n",
       "1                            13                999                        68   \n",
       "\n",
       "P_PSN  Third row, right outboard  \n",
       "FATAL                             \n",
       "0                           2244  \n",
       "1                             79  "
      ]
     },
     "execution_count": 18,
     "metadata": {},
     "output_type": "execute_result"
    }
   ],
   "source": [
    "pvt = df.pivot_table('C_CASE', index = 'FATAL', columns = 'P_PSN', aggfunc = 'count', fill_value = 0)\n",
    "print(\"Odd ratio:\", list(np.around(pvt.values[0]/pvt.values[1],2)))\n",
    "pvt"
   ]
  },
  {
   "cell_type": "code",
   "execution_count": 19,
   "metadata": {},
   "outputs": [
    {
     "data": {
      "text/plain": [
       "Driver                           2584453\n",
       "Front row                         738678\n",
       "Second row                        239629\n",
       "Outside passenger compartment     211688\n",
       "Third row                          28217\n",
       "Position unknown                   14948\n",
       "Name: P_PSN, dtype: int64"
      ]
     },
     "execution_count": 19,
     "metadata": {},
     "output_type": "execute_result"
    }
   ],
   "source": [
    "perpos_dict = {'Driver': 'Driver', \n",
    "               'Front row, right outboard': 'Front row',\n",
    "               'Pedestrian': 'Pedestrian',\n",
    "               'Second row, right outboard': 'Second row',\n",
    "              'Second row, right outboard': 'Outside passenger compartment', \n",
    "               'Second row, left outboard': 'Second row',\n",
    "              'Second row, center': 'Second row', \n",
    "               'Front row, center': 'Front row',\n",
    "               'Position unknown': 'Position unknown',\n",
    "              'Third row, center': 'Third row', \n",
    "               'Third row, left outboard': 'Third row',\n",
    "              'Third row, right outboard': 'Third row', \n",
    "               'Sitting on someone’s lap': 'Position unknown'}\n",
    "\n",
    "df['P_PSN'].replace(perpos_dict, inplace = True)\n",
    "\n",
    "df.P_PSN.value_counts()"
   ]
  },
  {
   "cell_type": "markdown",
   "metadata": {},
   "source": [
    "## 9. Safety device used"
   ]
  },
  {
   "cell_type": "code",
   "execution_count": 20,
   "metadata": {},
   "outputs": [
    {
     "name": "stdout",
     "output_type": "stream",
     "text": [
      "Odd ratio: [23.93, 30.31, 8.34, 34.33, 21.0, 77.7]\n"
     ]
    },
    {
     "data": {
      "text/html": [
       "<div>\n",
       "<style scoped>\n",
       "    .dataframe tbody tr th:only-of-type {\n",
       "        vertical-align: middle;\n",
       "    }\n",
       "\n",
       "    .dataframe tbody tr th {\n",
       "        vertical-align: top;\n",
       "    }\n",
       "\n",
       "    .dataframe thead th {\n",
       "        text-align: right;\n",
       "    }\n",
       "</style>\n",
       "<table border=\"1\" class=\"dataframe\">\n",
       "  <thead>\n",
       "    <tr style=\"text-align: right;\">\n",
       "      <th>P_SAFE</th>\n",
       "      <th>Helmet worn</th>\n",
       "      <th>No safety device equipped</th>\n",
       "      <th>No safety device used</th>\n",
       "      <th>Other safety device used</th>\n",
       "      <th>Reflective clothing worn</th>\n",
       "      <th>Safety device used</th>\n",
       "    </tr>\n",
       "    <tr>\n",
       "      <th>FATAL</th>\n",
       "      <th></th>\n",
       "      <th></th>\n",
       "      <th></th>\n",
       "      <th></th>\n",
       "      <th></th>\n",
       "      <th></th>\n",
       "    </tr>\n",
       "  </thead>\n",
       "  <tbody>\n",
       "    <tr>\n",
       "      <th>0</th>\n",
       "      <td>55904</td>\n",
       "      <td>49429</td>\n",
       "      <td>93219</td>\n",
       "      <td>23241</td>\n",
       "      <td>21</td>\n",
       "      <td>3534490</td>\n",
       "    </tr>\n",
       "    <tr>\n",
       "      <th>1</th>\n",
       "      <td>2336</td>\n",
       "      <td>1631</td>\n",
       "      <td>11174</td>\n",
       "      <td>677</td>\n",
       "      <td>1</td>\n",
       "      <td>45490</td>\n",
       "    </tr>\n",
       "  </tbody>\n",
       "</table>\n",
       "</div>"
      ],
      "text/plain": [
       "P_SAFE  Helmet worn  No safety device equipped  No safety device used  \\\n",
       "FATAL                                                                   \n",
       "0             55904                      49429                  93219   \n",
       "1              2336                       1631                  11174   \n",
       "\n",
       "P_SAFE  Other safety device used  Reflective clothing worn  Safety device used  \n",
       "FATAL                                                                           \n",
       "0                          23241                        21             3534490  \n",
       "1                            677                         1               45490  "
      ]
     },
     "execution_count": 20,
     "metadata": {},
     "output_type": "execute_result"
    }
   ],
   "source": [
    "pvt = df.pivot_table('C_CASE', index = 'FATAL', columns = 'P_SAFE', aggfunc = 'count', fill_value = 0)\n",
    "print(\"Odd ratio:\", list(np.around(pvt.values[0]/pvt.values[1],2)))\n",
    "pvt"
   ]
  },
  {
   "cell_type": "code",
   "execution_count": 21,
   "metadata": {},
   "outputs": [
    {
     "data": {
      "text/plain": [
       "Safety device used           3579980\n",
       "No safety device used         104393\n",
       "Helmet worn                    58262\n",
       "No safety device equipped      51060\n",
       "Other safety device used       23918\n",
       "Name: P_SAFE, dtype: int64"
      ]
     },
     "execution_count": 21,
     "metadata": {},
     "output_type": "execute_result"
    }
   ],
   "source": [
    "safe_dict = {'Safety device used': 'Safety device used', \n",
    "             'No safety device used': 'No safety device used', \n",
    "             'No safety device equipped': 'No safety device equipped',\n",
    "            'Other safety device used': 'Other safety device used',\n",
    "             'Helmet worn': 'Helmet worn', \n",
    "            'Reflective clothing worn' : 'Helmet worn',\n",
    "            'Both helmet and reflective clothing used': 'Helmet worn'}\n",
    "\n",
    "df['P_SAFE'].replace(safe_dict, inplace = True)\n",
    "\n",
    "df.P_SAFE.value_counts()"
   ]
  },
  {
   "cell_type": "markdown",
   "metadata": {},
   "source": [
    "## Class distribution"
   ]
  },
  {
   "cell_type": "code",
   "execution_count": 22,
   "metadata": {},
   "outputs": [
    {
     "data": {
      "text/plain": [
       "0    98.394049\n",
       "1     1.605951\n",
       "Name: FATAL, dtype: float64"
      ]
     },
     "execution_count": 22,
     "metadata": {},
     "output_type": "execute_result"
    }
   ],
   "source": [
    "df.FATAL.value_counts()/len(df)*100"
   ]
  },
  {
   "cell_type": "markdown",
   "metadata": {},
   "source": [
    "## Develop model with reduced dataset\n",
    "The dataset is very large to fit in a small laptop memory, training the entire dataset on a laptop will take days to run let alone tuning the hyperparameters by grid search.  Hence, we will first split the dataset into two subsets and train the model on the small subset"
   ]
  },
  {
   "cell_type": "code",
   "execution_count": 23,
   "metadata": {},
   "outputs": [],
   "source": [
    "X1, X2, y1, y2 = train_test_split(df,df.FATAL, test_size = 0.003, random_state = 42, stratify = df.FATAL)"
   ]
  },
  {
   "cell_type": "code",
   "execution_count": 24,
   "metadata": {},
   "outputs": [
    {
     "name": "stdout",
     "output_type": "stream",
     "text": [
      "Large subset size: (3806160, 23) (3806160,)\n",
      "Small subset size: (11453, 23) (11453,)\n"
     ]
    }
   ],
   "source": [
    "print('Large subset size:', X1.shape, y1.shape)\n",
    "print('Small subset size:', X2.shape, y2.shape)"
   ]
  },
  {
   "cell_type": "code",
   "execution_count": 25,
   "metadata": {},
   "outputs": [],
   "source": [
    "# Pickle the small subset\n",
    "X2.to_pickle('../data/collision.pkl')"
   ]
  },
  {
   "cell_type": "markdown",
   "metadata": {},
   "source": [
    "# Prepare the reduced dataset for machine learning"
   ]
  },
  {
   "cell_type": "code",
   "execution_count": 26,
   "metadata": {},
   "outputs": [],
   "source": [
    "# Reload the small subset\n",
    "df_small = pd.read_pickle('../data/collision.pkl')"
   ]
  },
  {
   "cell_type": "code",
   "execution_count": 27,
   "metadata": {},
   "outputs": [],
   "source": [
    "# Feature matrix and class label\n",
    "cols_to_drop = ['C_WDAY','P_ID', 'V_ID', 'FATAL']\n",
    "X, y = df_small.drop(cols_to_drop, axis = 1), df_small['FATAL']"
   ]
  },
  {
   "cell_type": "code",
   "execution_count": 28,
   "metadata": {},
   "outputs": [
    {
     "name": "stdout",
     "output_type": "stream",
     "text": [
      "Data size: (11453, 19) (11453,)\n"
     ]
    }
   ],
   "source": [
    "print('Data size:', X.shape, y.shape)"
   ]
  },
  {
   "cell_type": "markdown",
   "metadata": {},
   "source": [
    "## Create a Test Set\n",
    "We now split the data set into $80\\%$ training set and $20\\%$ test set in a stratify fashion"
   ]
  },
  {
   "cell_type": "code",
   "execution_count": 29,
   "metadata": {},
   "outputs": [],
   "source": [
    "X_train, X_test, y_train, y_test = train_test_split(X,y, test_size = 0.2, random_state = 42, stratify = y)"
   ]
  },
  {
   "cell_type": "code",
   "execution_count": 30,
   "metadata": {},
   "outputs": [
    {
     "name": "stdout",
     "output_type": "stream",
     "text": [
      "Training set size: (9162, 19) (9162,)\n",
      "Test set size: (2291, 19) (2291,)\n"
     ]
    }
   ],
   "source": [
    "print('Training set size:', X_train.shape, y_train.shape)\n",
    "print('Test set size:', X_test.shape, y_test.shape)"
   ]
  },
  {
   "cell_type": "code",
   "execution_count": 31,
   "metadata": {},
   "outputs": [
    {
     "name": "stdout",
     "output_type": "stream",
     "text": [
      "Training set class distribution:\n",
      " 0    98.395547\n",
      "1     1.604453\n",
      "Name: FATAL, dtype: float64\n",
      "------------------------------\n",
      "Test set class distribution:\n",
      " 0    98.384985\n",
      "1     1.615015\n",
      "Name: FATAL, dtype: float64\n"
     ]
    }
   ],
   "source": [
    "print('Training set class distribution:\\n', (y_train.value_counts()/X_train.shape[0])*100)\n",
    "print('--' * 15)\n",
    "print('Test set class distribution:\\n', (y_test.value_counts()/X_test.shape[0])*100)"
   ]
  },
  {
   "cell_type": "markdown",
   "metadata": {},
   "source": [
    "## Transformation pipeline"
   ]
  },
  {
   "cell_type": "code",
   "execution_count": 32,
   "metadata": {},
   "outputs": [],
   "source": [
    "# Instantiate the class\n",
    "transfxn = TransformationPipeline()"
   ]
  },
  {
   "cell_type": "code",
   "execution_count": 33,
   "metadata": {},
   "outputs": [],
   "source": [
    "# Transform and scale data\n",
    "X_train_scaled, X_test_scaled = transfxn.complete_pipeline(X_train, X_test)"
   ]
  },
  {
   "cell_type": "code",
   "execution_count": 34,
   "metadata": {},
   "outputs": [
    {
     "name": "stdout",
     "output_type": "stream",
     "text": [
      "Training set size after pre-processing: (9162, 78)\n",
      "Test set size after pre-processing: (2291, 78)\n"
     ]
    }
   ],
   "source": [
    "# Size of the data after pre-processing\n",
    "print('Training set size after pre-processing:', X_train_scaled.shape)\n",
    "print('Test set size after pre-processing:', X_test_scaled.shape)"
   ]
  },
  {
   "cell_type": "code",
   "execution_count": 35,
   "metadata": {},
   "outputs": [],
   "source": [
    "# Convert the class labels to arrays\n",
    "y_train, y_test = y_train.values,  y_test.values"
   ]
  },
  {
   "cell_type": "markdown",
   "metadata": {},
   "source": [
    "# A. Model Selection by Cross-Validation\n",
    "\n",
    "In this section, we train three supervised ml models on the imbalanced dataset: \n",
    "\n",
    "1). Logistic Regression\n",
    "\n",
    "2). Random Forest classifier\n",
    "\n",
    "3). XGBoost classifier\n",
    "\n",
    "The result shows that the overall accuracy of the model is not a good  performance measure on the imbalanced datasets, as it is bias towards the majority (negative) class. Therefore, we shall select and optimize the model with the best area under the receiver operating charateristics curve (AUROC) and the best precision-recall (AUPR) curve. "
   ]
  },
  {
   "cell_type": "code",
   "execution_count": 73,
   "metadata": {},
   "outputs": [],
   "source": [
    "# Instantiate the class\n",
    "model = SupervisedModels()"
   ]
  },
  {
   "cell_type": "markdown",
   "metadata": {},
   "source": [
    "## A-1. Logistic Regression"
   ]
  },
  {
   "cell_type": "code",
   "execution_count": 37,
   "metadata": {},
   "outputs": [
    {
     "name": "stdout",
     "output_type": "stream",
     "text": [
      "---------------------------------------------------------------------------\n",
      "Cross-validation accuracy (std): 0.990286 (0.002220)\n",
      "AUROC: 0.876451\n",
      "AUPRC: 0.541974\n",
      "Predicted classes: [0 1]\n",
      "Confusion matrix:\n",
      " [[9015    0]\n",
      " [  89   58]]\n",
      "Classification report:\n",
      "               precision    recall  f1-score   support\n",
      "\n",
      "           0       0.99      1.00      1.00      9015\n",
      "           1       1.00      0.39      0.57       147\n",
      "\n",
      "    accuracy                           0.99      9162\n",
      "   macro avg       1.00      0.70      0.78      9162\n",
      "weighted avg       0.99      0.99      0.99      9162\n",
      "\n",
      "---------------------------------------------------------------------------\n"
     ]
    }
   ],
   "source": [
    "log_clf = LogisticRegression()   \n",
    "model.model_selection_cv(log_clf, X_train_scaled, y_train, cv_fold = 5, scoring = 'accuracy')"
   ]
  },
  {
   "cell_type": "markdown",
   "metadata": {},
   "source": [
    "## A-2. Random Forest Classifier"
   ]
  },
  {
   "cell_type": "code",
   "execution_count": 38,
   "metadata": {
    "scrolled": true
   },
   "outputs": [
    {
     "name": "stdout",
     "output_type": "stream",
     "text": [
      "---------------------------------------------------------------------------\n",
      "Cross-validation accuracy (std): 0.990286 (0.001902)\n",
      "AUROC: 0.844784\n",
      "AUPRC: 0.513429\n",
      "Predicted classes: [0 1]\n",
      "Confusion matrix:\n",
      " [[9015    0]\n",
      " [  89   58]]\n",
      "Classification report:\n",
      "               precision    recall  f1-score   support\n",
      "\n",
      "           0       0.99      1.00      1.00      9015\n",
      "           1       1.00      0.39      0.57       147\n",
      "\n",
      "    accuracy                           0.99      9162\n",
      "   macro avg       1.00      0.70      0.78      9162\n",
      "weighted avg       0.99      0.99      0.99      9162\n",
      "\n",
      "---------------------------------------------------------------------------\n"
     ]
    }
   ],
   "source": [
    "rf_clf = RandomForestClassifier(random_state = 42)                         \n",
    "model.model_selection_cv(rf_clf, X_train_scaled, y_train, cv_fold = 5, scoring = 'accuracy')"
   ]
  },
  {
   "cell_type": "markdown",
   "metadata": {},
   "source": [
    "## A-3. XGBoost"
   ]
  },
  {
   "cell_type": "code",
   "execution_count": 39,
   "metadata": {},
   "outputs": [
    {
     "name": "stdout",
     "output_type": "stream",
     "text": [
      "---------------------------------------------------------------------------\n",
      "Cross-validation accuracy (std): 0.990177 (0.001792)\n",
      "AUROC: 0.896006\n",
      "AUPRC: 0.521249\n",
      "Predicted classes: [0 1]\n",
      "Confusion matrix:\n",
      " [[9014    1]\n",
      " [  89   58]]\n",
      "Classification report:\n",
      "               precision    recall  f1-score   support\n",
      "\n",
      "           0       0.99      1.00      1.00      9015\n",
      "           1       0.98      0.39      0.56       147\n",
      "\n",
      "    accuracy                           0.99      9162\n",
      "   macro avg       0.99      0.70      0.78      9162\n",
      "weighted avg       0.99      0.99      0.99      9162\n",
      "\n",
      "---------------------------------------------------------------------------\n"
     ]
    }
   ],
   "source": [
    "xgb_model = xgb.XGBClassifier(random_state = 42)\n",
    "model.model_selection_cv(xgb_model, X_train_scaled, y_train, cv_fold = 5, scoring = 'accuracy')"
   ]
  },
  {
   "cell_type": "markdown",
   "metadata": {},
   "source": [
    "# B.  Hyperparameter Tuning and Cost Sensitive Method\n",
    " In this section, we shall optimize the **AUC** of the classifiers using grid/randomized search, cross-validation, and cost sensitive method"
   ]
  },
  {
   "cell_type": "code",
   "execution_count": 40,
   "metadata": {},
   "outputs": [
    {
     "data": {
      "text/plain": [
       "61.326530612244895"
      ]
     },
     "execution_count": 40,
     "metadata": {},
     "output_type": "execute_result"
    }
   ],
   "source": [
    "# Class ratio of the negative class to the positive class\n",
    "neg = y_train == 0\n",
    "pos = y_train == 1\n",
    "class_ratio = np.sum(neg)/np.sum(pos)\n",
    "class_ratio"
   ]
  },
  {
   "cell_type": "markdown",
   "metadata": {},
   "source": [
    "## B-1. Logistic Regression"
   ]
  },
  {
   "cell_type": "code",
   "execution_count": 41,
   "metadata": {},
   "outputs": [
    {
     "name": "stdout",
     "output_type": "stream",
     "text": [
      "Fitting 5 folds for each of 15 candidates, totalling 75 fits\n"
     ]
    },
    {
     "name": "stderr",
     "output_type": "stream",
     "text": [
      "[Parallel(n_jobs=-1)]: Using backend LokyBackend with 4 concurrent workers.\n",
      "[Parallel(n_jobs=-1)]: Done  42 tasks      | elapsed:    7.0s\n",
      "[Parallel(n_jobs=-1)]: Done  75 out of  75 | elapsed:   11.8s finished\n"
     ]
    },
    {
     "name": "stdout",
     "output_type": "stream",
     "text": [
      "Grid search best AUC score: 0.8788039091934898\n",
      "Grid search best parameters: {'C': 0.5, 'class_weight': {0: 1, 1: 2}}\n"
     ]
    }
   ],
   "source": [
    "# Range of hyperparameters\n",
    "param_grid = {'C': [2**(-5), 2**(-3), 2**(-1), 2**(0), 2**(1)], \n",
    "             'class_weight': ['balanced', {0:1, 1:2}, {0:1, 1:3}]}\n",
    "                             \n",
    "# Grid search\n",
    "gsearch_log = GridSearchCV(LogisticRegression(),param_grid, cv = 5,\n",
    "                           scoring = 'roc_auc',verbose =1, n_jobs = -1)\n",
    "\n",
    "# Fit the  training set\n",
    "gsearch_log.fit(X_train_scaled, y_train)\n",
    "\n",
    "# Pickle trained model\n",
    "joblib.dump(gsearch_log.best_estimator_, '../data/log_clf.pkl')\n",
    "\n",
    "# Print results\n",
    "print('Grid search best AUC score:', gsearch_log.best_score_)\n",
    "print('Grid search best parameters:', gsearch_log.best_params_)    "
   ]
  },
  {
   "cell_type": "markdown",
   "metadata": {},
   "source": [
    "## B-2. Random Forest"
   ]
  },
  {
   "cell_type": "code",
   "execution_count": 42,
   "metadata": {},
   "outputs": [
    {
     "name": "stdout",
     "output_type": "stream",
     "text": [
      "Fitting 5 folds for each of 10 candidates, totalling 50 fits\n"
     ]
    },
    {
     "name": "stderr",
     "output_type": "stream",
     "text": [
      "[Parallel(n_jobs=-1)]: Using backend LokyBackend with 4 concurrent workers.\n",
      "[Parallel(n_jobs=-1)]: Done  42 tasks      | elapsed:  9.8min\n",
      "[Parallel(n_jobs=-1)]: Done  50 out of  50 | elapsed: 11.3min finished\n"
     ]
    },
    {
     "name": "stdout",
     "output_type": "stream",
     "text": [
      "Randomized search best AUC score: 0.883403841617738\n",
      "Randomized search best hyperparameters: {'n_estimators': 15000, 'max_features': 'log2', 'class_weight': 'balanced_subsample'}\n"
     ]
    }
   ],
   "source": [
    "# Range of hyperparameters\n",
    "params = {'n_estimators': [100, 300, 500, 1000, 15000],\n",
    "        'max_features': [0.5, 1, 'sqrt', 'log2', None], \n",
    "        'class_weight': ['balanced', 'balanced_subsample', {0: 1, 1: 2}, {0: 1, 1: class_ratio}]}\n",
    "\n",
    "# Randomized search\n",
    "rf_clf = RandomForestClassifier(random_state = 42)           \n",
    "rsearch_rf = RandomizedSearchCV(estimator = rf_clf, param_distributions = params, \n",
    "                                scoring = 'roc_auc', cv = 5, n_jobs = -1, \n",
    "                                random_state = 42, verbose = 1)  \n",
    "# Fit the  training set                                                    \n",
    "rsearch_rf.fit(X_train_scaled, y_train)\n",
    "\n",
    "# Pickle trained model\n",
    "joblib.dump(rsearch_rf.best_estimator_, '../data/rf_clf.pkl')\n",
    "\n",
    "# Print results\n",
    "print('Randomized search best AUC score:', rsearch_rf.best_score_) \n",
    "print('Randomized search best hyperparameters:', rsearch_rf.best_params_) "
   ]
  },
  {
   "cell_type": "code",
   "execution_count": 43,
   "metadata": {},
   "outputs": [
    {
     "data": {
      "text/plain": [
       "Text(0.5, 1.0, 'Top 20 Feature Importances')"
      ]
     },
     "execution_count": 43,
     "metadata": {},
     "output_type": "execute_result"
    },
    {
     "data": {
      "image/png": "[encoded data removed]",
      "text/plain": [
       "<Figure size 1296x720 with 1 Axes>"
      ]
     },
     "metadata": {
      "needs_background": "light"
     },
     "output_type": "display_data"
    }
   ],
   "source": [
    "# Load trained model\n",
    "rf_clf = joblib.load('../data/rf_clf.pkl')\n",
    "\n",
    "# Compute feature importances\n",
    "importances_df = pd.DataFrame({'Features': X_train_scaled.columns, 'Importances': rf_clf.feature_importances_})\n",
    "\n",
    "# Bar plot\n",
    "importances_df.sort_values('Importances', ascending = True, inplace = True)\n",
    "importances_df.set_index('Features', inplace = True)\n",
    "importances_df.head(20).plot(kind='barh', figsize = (18,10))\n",
    "plt.title('Top 20 Feature Importances')"
   ]
  },
  {
   "cell_type": "markdown",
   "metadata": {},
   "source": [
    "## B-3. XGBoost"
   ]
  },
  {
   "cell_type": "code",
   "execution_count": null,
   "metadata": {},
   "outputs": [],
   "source": [
    "# Range of hyperparameters\n",
    "params = {'subsample':[i/10 for i in range(5,9)],'colsample_bytree': [i/10 for i in range(5,9)]}\n",
    "\n",
    "# Randomized search\n",
    "xgb_model = xgb.XGBClassifier(n_estimators = 2000, random_state = 42,\n",
    "                              scale_pos_weight = class_ratio, learning_rate = 0.1, \n",
    "                              min_child_weight = 5, max_depth = 9)\n",
    "rsearch_xgb = RandomizedSearchCV(estimator = xgb_model, param_distributions = params, \n",
    "                                  scoring = 'roc_auc', cv = 5, n_jobs = -1, \n",
    "                                  random_state = 42, verbose = 1)  \n",
    "# Fit the  training set                                                            \n",
    "rsearch_xgb.fit(X_train_scaled, y_train)\n",
    "\n",
    "# Pickle trained model\n",
    "joblib.dump(rsearch_xgb.best_estimator_, '../data/xgb_clf.pkl')\n",
    "\n",
    "# Print results\n",
    "print('Randomized search best AUC score:', rsearch_xgb.best_score_) \n",
    "print('Randomized search best hyperparameters:', rsearch_xgb.best_params_) "
   ]
  },
  {
   "cell_type": "markdown",
   "metadata": {},
   "source": [
    "# C. Resampling Methods\n",
    "In this section, we will employ two resampling techniques on the training set to balance the classes. However, the final prediction will be made on the imbalanced test set. The idea of resampling is to trick the classifier using a balanced dataset.  "
   ]
  },
  {
   "cell_type": "markdown",
   "metadata": {},
   "source": [
    "## C-1. Under Sampling  combined with Random Forest Classifier\n",
    "In undersampling, we reduce the majority class such that it matches the minority class"
   ]
  },
  {
   "cell_type": "code",
   "execution_count": 45,
   "metadata": {},
   "outputs": [],
   "source": [
    "# Under sample the majority class\n",
    "und = RandomUnderSampler(ratio = 'majority', random_state = 42)\n",
    "X_train_scaled_und, y_train_und = und.fit_sample(X_train_scaled, y_train)"
   ]
  },
  {
   "cell_type": "code",
   "execution_count": 46,
   "metadata": {},
   "outputs": [
    {
     "name": "stdout",
     "output_type": "stream",
     "text": [
      "Undersampled training data size: (294, 78) (294,)\n"
     ]
    }
   ],
   "source": [
    "print('Undersampled training data size:', X_train_scaled_und.shape, y_train_und.shape)"
   ]
  },
  {
   "cell_type": "code",
   "execution_count": 47,
   "metadata": {},
   "outputs": [
    {
     "name": "stdout",
     "output_type": "stream",
     "text": [
      "Imbalanced training set class distribution: [9015  147]\n",
      "Undersampled training set class distribution: [147 147]\n"
     ]
    }
   ],
   "source": [
    "print('Imbalanced training set class distribution:', np.bincount(y_train))\n",
    "print('Undersampled training set class distribution:', np.bincount(y_train_und))"
   ]
  },
  {
   "cell_type": "code",
   "execution_count": 48,
   "metadata": {
    "scrolled": false
   },
   "outputs": [
    {
     "name": "stdout",
     "output_type": "stream",
     "text": [
      "---------------------------------------------------------------------------\n",
      "Cross-validation accuracy (std): 0.792461 (0.052075)\n",
      "AUROC: 0.867740\n",
      "AUPRC: 0.894640\n",
      "Predicted classes: [0 1]\n",
      "Confusion matrix:\n",
      " [[126  21]\n",
      " [ 40 107]]\n",
      "Classification report:\n",
      "               precision    recall  f1-score   support\n",
      "\n",
      "           0       0.76      0.86      0.81       147\n",
      "           1       0.84      0.73      0.78       147\n",
      "\n",
      "    accuracy                           0.79       294\n",
      "   macro avg       0.80      0.79      0.79       294\n",
      "weighted avg       0.80      0.79      0.79       294\n",
      "\n",
      "---------------------------------------------------------------------------\n"
     ]
    }
   ],
   "source": [
    "# Random Forest Classifier cross-validation on the undersampled dataset\n",
    "rf_und = RandomForestClassifier(n_estimators = 1000,random_state = 42)\n",
    "model.model_selection_cv(rf_und, X_train_scaled_und, y_train_und, cv_fold = 5, scoring = 'accuracy')"
   ]
  },
  {
   "cell_type": "markdown",
   "metadata": {},
   "source": [
    "## C-2. SMOTE  combined with Random Forest Classifier\n",
    "In Synthetic Minority Over Sampling Technique (SMOTE), we generate synthetic oberservations to match the minority clas.\n",
    "SMOTE oversampled the minority class in the training set, so we now have equal class distribution. "
   ]
  },
  {
   "cell_type": "code",
   "execution_count": 49,
   "metadata": {},
   "outputs": [],
   "source": [
    "# Over sample the minority class\n",
    "sm = SMOTE(ratio = 'minority', random_state = 42)\n",
    "X_train_scaled_ovsm, y_train_ovsm = sm.fit_sample(X_train_scaled, y_train)"
   ]
  },
  {
   "cell_type": "code",
   "execution_count": 50,
   "metadata": {},
   "outputs": [
    {
     "name": "stdout",
     "output_type": "stream",
     "text": [
      "SMOTE training data size: (18030, 78) (18030,)\n"
     ]
    }
   ],
   "source": [
    "print('SMOTE training data size:', X_train_scaled_ovsm.shape, y_train_ovsm.shape)"
   ]
  },
  {
   "cell_type": "code",
   "execution_count": 51,
   "metadata": {},
   "outputs": [
    {
     "name": "stdout",
     "output_type": "stream",
     "text": [
      "Imbalanced training set class distribution: [9015  147]\n",
      "SMOTE resampled training set class distribution: [9015 9015]\n"
     ]
    }
   ],
   "source": [
    "print('Imbalanced training set class distribution:', np.bincount(y_train))\n",
    "print('SMOTE resampled training set class distribution:', np.bincount(y_train_ovsm))"
   ]
  },
  {
   "cell_type": "code",
   "execution_count": 52,
   "metadata": {},
   "outputs": [
    {
     "name": "stdout",
     "output_type": "stream",
     "text": [
      "---------------------------------------------------------------------------\n",
      "Cross-validation accuracy (std): 0.995286 (0.008738)\n",
      "AUROC: 0.999686\n",
      "AUPRC: 0.999715\n",
      "Predicted classes: [0 1]\n",
      "Confusion matrix:\n",
      " [[9009    6]\n",
      " [  79 8936]]\n",
      "Classification report:\n",
      "               precision    recall  f1-score   support\n",
      "\n",
      "           0       0.99      1.00      1.00      9015\n",
      "           1       1.00      0.99      1.00      9015\n",
      "\n",
      "    accuracy                           1.00     18030\n",
      "   macro avg       1.00      1.00      1.00     18030\n",
      "weighted avg       1.00      1.00      1.00     18030\n",
      "\n",
      "---------------------------------------------------------------------------\n"
     ]
    }
   ],
   "source": [
    "# Random Forest cross-validation on the SMOTE dataset\n",
    "rf_ovsm = RandomForestClassifier(random_state = 42)\n",
    "model.model_selection_cv(rf_ovsm, X_train_scaled_ovsm, y_train_ovsm, cv_fold = 5, scoring = 'accuracy')"
   ]
  },
  {
   "cell_type": "markdown",
   "metadata": {},
   "source": [
    "## C-3. ROC and PR Curves on the Cross-Validation Training Set"
   ]
  },
  {
   "cell_type": "code",
   "execution_count": 74,
   "metadata": {
    "scrolled": false
   },
   "outputs": [
    {
     "data": {
      "image/png": "[encoded data removed]",
      "text/plain": [
       "<Figure size 1440x576 with 2 Axes>"
      ]
     },
     "metadata": {
      "needs_background": "light"
     },
     "output_type": "display_data"
    }
   ],
   "source": [
    "plt.figure(figsize = (20,8))\n",
    "\n",
    "# Normal imbalanced distribution\n",
    "rf_clf = joblib.load('../data/rf_clf.pkl') # Load trained model\n",
    "model.plot_roc_prc_cv(rf_clf, X_train_scaled, y_train,\n",
    "                       color= 'b', label = 'Normal (AUC= %0.2f)')\n",
    "\n",
    "# Under Sampled distribution\n",
    "model.plot_roc_prc_cv(rf_und, X_train_scaled_und, y_train_und,\n",
    "                       color= 'g', label = 'Under Sampled (AUC= %0.2f)')\n",
    "                     \n",
    "# SMOTE distribution\n",
    "model.plot_roc_prc_cv(rf_ovsm, X_train_scaled_ovsm, y_train_ovsm,\n",
    "                       color= 'r', label = 'SMOTE (AUC= %0.2f)') "
   ]
  },
  {
   "cell_type": "markdown",
   "metadata": {},
   "source": [
    "# D. Prediction on the Imbalanced Test Set \n",
    "In this section, we make our final prediction on the imbalanced dataset after training the model using the resampling techniques."
   ]
  },
  {
   "cell_type": "markdown",
   "metadata": {},
   "source": [
    "## D-1. Normal Imbalanced Dataset"
   ]
  },
  {
   "cell_type": "code",
   "execution_count": 54,
   "metadata": {},
   "outputs": [
    {
     "name": "stdout",
     "output_type": "stream",
     "text": [
      "---------------------------------------------------------------------------\n",
      "Test accuracy:  0.992143\n",
      "AUROC: 0.898295\n",
      "AUPRC: 0.589394\n",
      "Predicted classes: [0 1]\n",
      "Confusion matrix:\n",
      " [[2254    0]\n",
      " [  18   19]]\n",
      "Classification report:\n",
      "               precision    recall  f1-score   support\n",
      "\n",
      "           0       0.99      1.00      1.00      2254\n",
      "           1       1.00      0.51      0.68        37\n",
      "\n",
      "    accuracy                           0.99      2291\n",
      "   macro avg       1.00      0.76      0.84      2291\n",
      "weighted avg       0.99      0.99      0.99      2291\n",
      "\n",
      "---------------------------------------------------------------------------\n"
     ]
    }
   ],
   "source": [
    "rf_clf = joblib.load('../data/rf_clf.pkl') # Load trained model\n",
    "model.test_prediction(rf_clf, X_train_scaled, y_train, X_test_scaled, y_test)"
   ]
  },
  {
   "cell_type": "markdown",
   "metadata": {},
   "source": [
    "## D-2. Undersampled Dataset"
   ]
  },
  {
   "cell_type": "code",
   "execution_count": 55,
   "metadata": {},
   "outputs": [
    {
     "name": "stdout",
     "output_type": "stream",
     "text": [
      "---------------------------------------------------------------------------\n",
      "Test accuracy:  0.862942\n",
      "AUROC: 0.892587\n",
      "AUPRC: 0.494695\n",
      "Predicted classes: [0 1]\n",
      "Confusion matrix:\n",
      " [[1950  304]\n",
      " [  10   27]]\n",
      "Classification report:\n",
      "               precision    recall  f1-score   support\n",
      "\n",
      "           0       0.99      0.87      0.93      2254\n",
      "           1       0.08      0.73      0.15        37\n",
      "\n",
      "    accuracy                           0.86      2291\n",
      "   macro avg       0.54      0.80      0.54      2291\n",
      "weighted avg       0.98      0.86      0.91      2291\n",
      "\n",
      "---------------------------------------------------------------------------\n"
     ]
    }
   ],
   "source": [
    "model.test_prediction(rf_und, X_train_scaled_und, y_train_und, X_test_scaled, y_test)"
   ]
  },
  {
   "cell_type": "markdown",
   "metadata": {},
   "source": [
    "## D-3. SMOTE Dataset"
   ]
  },
  {
   "cell_type": "code",
   "execution_count": 56,
   "metadata": {},
   "outputs": [
    {
     "name": "stdout",
     "output_type": "stream",
     "text": [
      "---------------------------------------------------------------------------\n",
      "Test accuracy:  0.992143\n",
      "AUROC: 0.875267\n",
      "AUPRC: 0.591628\n",
      "Predicted classes: [0 1]\n",
      "Confusion matrix:\n",
      " [[2254    0]\n",
      " [  18   19]]\n",
      "Classification report:\n",
      "               precision    recall  f1-score   support\n",
      "\n",
      "           0       0.99      1.00      1.00      2254\n",
      "           1       1.00      0.51      0.68        37\n",
      "\n",
      "    accuracy                           0.99      2291\n",
      "   macro avg       1.00      0.76      0.84      2291\n",
      "weighted avg       0.99      0.99      0.99      2291\n",
      "\n",
      "---------------------------------------------------------------------------\n"
     ]
    }
   ],
   "source": [
    "model.test_prediction(rf_ovsm, X_train_scaled_ovsm, y_train_ovsm, X_test_scaled, y_test)"
   ]
  },
  {
   "cell_type": "markdown",
   "metadata": {},
   "source": [
    "## D-4. ROC and PR Curves on the Test Set\n",
    "The AUPRC of the normal imbalanced dataset is slightly higher than undersampling and SMOTE."
   ]
  },
  {
   "cell_type": "code",
   "execution_count": 75,
   "metadata": {},
   "outputs": [
    {
     "data": {
      "image/png": "[encoded data removed]",
      "text/plain": [
       "<Figure size 1440x576 with 2 Axes>"
      ]
     },
     "metadata": {
      "needs_background": "light"
     },
     "output_type": "display_data"
    }
   ],
   "source": [
    "plt.figure(figsize = (20,8))\n",
    "\n",
    "# Normal imbalanced distribution\n",
    "rf_clf = joblib.load('../data/rf_clf.pkl') # Load trained model\n",
    "model.plot_roc_prc(rf_clf, X_train_scaled, y_train, X_test_scaled, y_test,\n",
    "                       color= 'b', label = 'Normal (AUC= %0.2f)')\n",
    "\n",
    "# Under Sampled distribution\n",
    "model.plot_roc_prc(rf_und, X_train_scaled_und, y_train_und, X_test_scaled, y_test,\n",
    "                       color= 'g', label = 'Under Sampled (AUC= %0.2f)')\n",
    "\n",
    "# SMOTE distribution\n",
    "model.plot_roc_prc(rf_ovsm, X_train_scaled_ovsm, y_train_ovsm, X_test_scaled, y_test,\n",
    "                       color= 'r', label = 'SMOTE (AUC= %0.2f)')"
   ]
  },
  {
   "cell_type": "code",
   "execution_count": null,
   "metadata": {},
   "outputs": [],
   "source": []
  }
 ],
 "metadata": {
  "kernelspec": {
   "display_name": "Python 3",
   "language": "python",
   "name": "python3"
  },
  "language_info": {
   "codemirror_mode": {
    "name": "ipython",
    "version": 3
   },
   "file_extension": ".py",
   "mimetype": "text/x-python",
   "name": "python",
   "nbconvert_exporter": "python",
   "pygments_lexer": "ipython3",
   "version": "3.7.7"
  }
 },
 "nbformat": 4,
 "nbformat_minor": 2
}
