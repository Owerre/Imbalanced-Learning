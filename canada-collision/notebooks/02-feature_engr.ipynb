{
 "cells": [
  {
   "cell_type": "markdown",
   "metadata": {},
   "source": [
    "# Feature Engineering\n",
    "In this notebook, we will engineer count based features based on existing features. We note that the number of features which can be engineered through count is very large"
   ]
  },
  {
   "cell_type": "code",
   "execution_count": 1,
   "metadata": {},
   "outputs": [],
   "source": [
    "# Ignore deprecated warning\n",
    "import warnings\n",
    "warnings.filterwarnings(\"ignore\")\n",
    "\n",
    "# Data manipulation\n",
    "%matplotlib inline\n",
    "import pandas as pd\n",
    "import numpy as np\n",
    "import time\n",
    "\n",
    "# Data visualization\n",
    "import matplotlib.pyplot as plt\n",
    "import seaborn as sns\n",
    "\n",
    "# Set font scale and style\n",
    "plt.rcParams.update({'font.size': 15})"
   ]
  },
  {
   "cell_type": "code",
   "execution_count": 2,
   "metadata": {},
   "outputs": [
    {
     "name": "stdout",
     "output_type": "stream",
     "text": [
      "Data size (3817613, 23)\n"
     ]
    },
    {
     "data": {
      "text/html": [
       "<div>\n",
       "<style scoped>\n",
       "    .dataframe tbody tr th:only-of-type {\n",
       "        vertical-align: middle;\n",
       "    }\n",
       "\n",
       "    .dataframe tbody tr th {\n",
       "        vertical-align: top;\n",
       "    }\n",
       "\n",
       "    .dataframe thead th {\n",
       "        text-align: right;\n",
       "    }\n",
       "</style>\n",
       "<table border=\"1\" class=\"dataframe\">\n",
       "  <thead>\n",
       "    <tr style=\"text-align: right;\">\n",
       "      <th></th>\n",
       "      <th>c_year</th>\n",
       "      <th>c_mnth</th>\n",
       "      <th>c_wday</th>\n",
       "      <th>c_hour</th>\n",
       "      <th>class</th>\n",
       "      <th>c_vehs</th>\n",
       "      <th>c_conf</th>\n",
       "      <th>c_rcfg</th>\n",
       "      <th>c_wthr</th>\n",
       "      <th>c_rsur</th>\n",
       "      <th>...</th>\n",
       "      <th>v_type</th>\n",
       "      <th>v_year</th>\n",
       "      <th>p_id</th>\n",
       "      <th>p_sex</th>\n",
       "      <th>p_age</th>\n",
       "      <th>p_psn</th>\n",
       "      <th>p_isev</th>\n",
       "      <th>p_safe</th>\n",
       "      <th>p_user</th>\n",
       "      <th>c_case</th>\n",
       "    </tr>\n",
       "  </thead>\n",
       "  <tbody>\n",
       "    <tr>\n",
       "      <th>0</th>\n",
       "      <td>1999</td>\n",
       "      <td>January</td>\n",
       "      <td>Monday</td>\n",
       "      <td>9.0</td>\n",
       "      <td>0</td>\n",
       "      <td>2.0</td>\n",
       "      <td>Right turn</td>\n",
       "      <td>At an intersection</td>\n",
       "      <td>Clear and sunny</td>\n",
       "      <td>Dry, normal</td>\n",
       "      <td>...</td>\n",
       "      <td>Light Duty Vehicle</td>\n",
       "      <td>1992.0</td>\n",
       "      <td>1.0</td>\n",
       "      <td>F</td>\n",
       "      <td>33.0</td>\n",
       "      <td>Driver</td>\n",
       "      <td>Injury</td>\n",
       "      <td>Safety device used</td>\n",
       "      <td>Motor Vehicle Driver</td>\n",
       "      <td>2890</td>\n",
       "    </tr>\n",
       "    <tr>\n",
       "      <th>1</th>\n",
       "      <td>1999</td>\n",
       "      <td>January</td>\n",
       "      <td>Monday</td>\n",
       "      <td>9.0</td>\n",
       "      <td>0</td>\n",
       "      <td>2.0</td>\n",
       "      <td>Right turn</td>\n",
       "      <td>At an intersection</td>\n",
       "      <td>Clear and sunny</td>\n",
       "      <td>Dry, normal</td>\n",
       "      <td>...</td>\n",
       "      <td>Light Duty Vehicle</td>\n",
       "      <td>1992.0</td>\n",
       "      <td>1.0</td>\n",
       "      <td>F</td>\n",
       "      <td>70.0</td>\n",
       "      <td>Driver</td>\n",
       "      <td>No Injury</td>\n",
       "      <td>Safety device used</td>\n",
       "      <td>Motor Vehicle Driver</td>\n",
       "      <td>2890</td>\n",
       "    </tr>\n",
       "    <tr>\n",
       "      <th>2</th>\n",
       "      <td>1999</td>\n",
       "      <td>January</td>\n",
       "      <td>Monday</td>\n",
       "      <td>20.0</td>\n",
       "      <td>0</td>\n",
       "      <td>1.0</td>\n",
       "      <td>Ran off left shoulder</td>\n",
       "      <td>Intersection with parking lot entrance</td>\n",
       "      <td>Clear and sunny</td>\n",
       "      <td>Dry, normal</td>\n",
       "      <td>...</td>\n",
       "      <td>Light Duty Vehicle</td>\n",
       "      <td>1988.0</td>\n",
       "      <td>1.0</td>\n",
       "      <td>F</td>\n",
       "      <td>38.0</td>\n",
       "      <td>Driver</td>\n",
       "      <td>Injury</td>\n",
       "      <td>Safety device used</td>\n",
       "      <td>Motor Vehicle Driver</td>\n",
       "      <td>4332</td>\n",
       "    </tr>\n",
       "    <tr>\n",
       "      <th>3</th>\n",
       "      <td>1999</td>\n",
       "      <td>January</td>\n",
       "      <td>Monday</td>\n",
       "      <td>5.0</td>\n",
       "      <td>0</td>\n",
       "      <td>2.0</td>\n",
       "      <td>Hit a moving object</td>\n",
       "      <td>At an intersection</td>\n",
       "      <td>Raining</td>\n",
       "      <td>Wet</td>\n",
       "      <td>...</td>\n",
       "      <td>Other trucks and vans</td>\n",
       "      <td>1995.0</td>\n",
       "      <td>1.0</td>\n",
       "      <td>M</td>\n",
       "      <td>34.0</td>\n",
       "      <td>Driver</td>\n",
       "      <td>No Injury</td>\n",
       "      <td>Safety device used</td>\n",
       "      <td>Motor Vehicle Driver</td>\n",
       "      <td>5053</td>\n",
       "    </tr>\n",
       "    <tr>\n",
       "      <th>4</th>\n",
       "      <td>1999</td>\n",
       "      <td>January</td>\n",
       "      <td>Monday</td>\n",
       "      <td>5.0</td>\n",
       "      <td>0</td>\n",
       "      <td>2.0</td>\n",
       "      <td>Hit a moving object</td>\n",
       "      <td>At an intersection</td>\n",
       "      <td>Raining</td>\n",
       "      <td>Wet</td>\n",
       "      <td>...</td>\n",
       "      <td>Other trucks and vans</td>\n",
       "      <td>1995.0</td>\n",
       "      <td>2.0</td>\n",
       "      <td>M</td>\n",
       "      <td>30.0</td>\n",
       "      <td>Front row, right outboard</td>\n",
       "      <td>No Injury</td>\n",
       "      <td>Safety device used</td>\n",
       "      <td>Motor Vehicle Passenger</td>\n",
       "      <td>5053</td>\n",
       "    </tr>\n",
       "  </tbody>\n",
       "</table>\n",
       "<p>5 rows × 23 columns</p>\n",
       "</div>"
      ],
      "text/plain": [
       "   c_year   c_mnth  c_wday  c_hour  class  c_vehs                 c_conf  \\\n",
       "0    1999  January  Monday     9.0      0     2.0             Right turn   \n",
       "1    1999  January  Monday     9.0      0     2.0             Right turn   \n",
       "2    1999  January  Monday    20.0      0     1.0  Ran off left shoulder   \n",
       "3    1999  January  Monday     5.0      0     2.0    Hit a moving object   \n",
       "4    1999  January  Monday     5.0      0     2.0    Hit a moving object   \n",
       "\n",
       "                                   c_rcfg           c_wthr       c_rsur  ...  \\\n",
       "0                      At an intersection  Clear and sunny  Dry, normal  ...   \n",
       "1                      At an intersection  Clear and sunny  Dry, normal  ...   \n",
       "2  Intersection with parking lot entrance  Clear and sunny  Dry, normal  ...   \n",
       "3                      At an intersection          Raining          Wet  ...   \n",
       "4                      At an intersection          Raining          Wet  ...   \n",
       "\n",
       "                  v_type  v_year  p_id p_sex  p_age  \\\n",
       "0     Light Duty Vehicle  1992.0   1.0     F   33.0   \n",
       "1     Light Duty Vehicle  1992.0   1.0     F   70.0   \n",
       "2     Light Duty Vehicle  1988.0   1.0     F   38.0   \n",
       "3  Other trucks and vans  1995.0   1.0     M   34.0   \n",
       "4  Other trucks and vans  1995.0   2.0     M   30.0   \n",
       "\n",
       "                       p_psn     p_isev              p_safe  \\\n",
       "0                     Driver     Injury  Safety device used   \n",
       "1                     Driver  No Injury  Safety device used   \n",
       "2                     Driver     Injury  Safety device used   \n",
       "3                     Driver  No Injury  Safety device used   \n",
       "4  Front row, right outboard  No Injury  Safety device used   \n",
       "\n",
       "                    p_user c_case  \n",
       "0     Motor Vehicle Driver   2890  \n",
       "1     Motor Vehicle Driver   2890  \n",
       "2     Motor Vehicle Driver   4332  \n",
       "3     Motor Vehicle Driver   5053  \n",
       "4  Motor Vehicle Passenger   5053  \n",
       "\n",
       "[5 rows x 23 columns]"
      ]
     },
     "execution_count": 2,
     "metadata": {},
     "output_type": "execute_result"
    }
   ],
   "source": [
    "df = pd.read_csv('../data/clean_data.csv') #  Load  data\n",
    "print('Data size',df.shape)\n",
    "df.head()"
   ]
  },
  {
   "cell_type": "code",
   "execution_count": 3,
   "metadata": {},
   "outputs": [
    {
     "name": "stdout",
     "output_type": "stream",
     "text": [
      "<class 'pandas.core.frame.DataFrame'>\n",
      "RangeIndex: 3817613 entries, 0 to 3817612\n",
      "Data columns (total 23 columns):\n",
      " #   Column  Dtype  \n",
      "---  ------  -----  \n",
      " 0   c_year  int64  \n",
      " 1   c_mnth  object \n",
      " 2   c_wday  object \n",
      " 3   c_hour  float64\n",
      " 4   class   int64  \n",
      " 5   c_vehs  float64\n",
      " 6   c_conf  object \n",
      " 7   c_rcfg  object \n",
      " 8   c_wthr  object \n",
      " 9   c_rsur  object \n",
      " 10  c_raln  object \n",
      " 11  c_traf  object \n",
      " 12  v_id    float64\n",
      " 13  v_type  object \n",
      " 14  v_year  float64\n",
      " 15  p_id    float64\n",
      " 16  p_sex   object \n",
      " 17  p_age   float64\n",
      " 18  p_psn   object \n",
      " 19  p_isev  object \n",
      " 20  p_safe  object \n",
      " 21  p_user  object \n",
      " 22  c_case  int64  \n",
      "dtypes: float64(6), int64(3), object(14)\n",
      "memory usage: 669.9+ MB\n"
     ]
    }
   ],
   "source": [
    "df.info()"
   ]
  },
  {
   "cell_type": "markdown",
   "metadata": {},
   "source": [
    "# 1. Day, month, and year counts"
   ]
  },
  {
   "cell_type": "code",
   "execution_count": 4,
   "metadata": {},
   "outputs": [],
   "source": [
    "# Day count\n",
    "df_day = pd.DataFrame(df.c_wday.value_counts())\n",
    "df_day.reset_index(level=0,inplace=True)\n",
    "df_day.rename(columns = {'c_wday':'wday_ct',  'index':'c_wday'},inplace=True)\n",
    "\n",
    "# Month count\n",
    "df_mnth = pd.DataFrame(df.c_mnth.value_counts())\n",
    "df_mnth.reset_index(level=0,inplace=True)\n",
    "df_mnth.rename(columns = {'c_mnth':'mnth_ct',  'index':'c_mnth'},inplace=True)\n",
    "\n",
    "# Year count\n",
    "df_year = pd.DataFrame(df.c_year.value_counts())\n",
    "df_year.reset_index(level=0,inplace=True)\n",
    "df_year.rename(columns = {'c_year':'year_ct',  'index':'c_year'},inplace=True)"
   ]
  },
  {
   "cell_type": "code",
   "execution_count": 5,
   "metadata": {},
   "outputs": [],
   "source": [
    "# left join to the main dataframe\n",
    "df = df.merge(df_day, how = 'left', on = 'c_wday') \n",
    "df = df.merge(df_mnth, how = 'left', on = 'c_mnth')\n",
    "df = df.merge(df_year, how = 'left', on = 'c_year') "
   ]
  },
  {
   "cell_type": "code",
   "execution_count": 6,
   "metadata": {},
   "outputs": [],
   "source": [
    "# Average features\n",
    "df['avg_day_per_mnth'] =  df.wday_ct/df.mnth_ct\n",
    "df['avg_mnth_per_year'] =  df.mnth_ct/df.year_ct"
   ]
  },
  {
   "cell_type": "markdown",
   "metadata": {},
   "source": [
    "# 2. Hour, weather, configurations counts"
   ]
  },
  {
   "cell_type": "code",
   "execution_count": 7,
   "metadata": {
    "scrolled": true
   },
   "outputs": [],
   "source": [
    "# Hour count\n",
    "df_hour = pd.DataFrame(df.c_hour.value_counts())\n",
    "df_hour.reset_index(level=0,inplace=True)\n",
    "df_hour.rename(columns = {'c_hour':'hour_ct',  'index':'c_hour'},inplace=True)\n",
    "\n",
    "# Weather count\n",
    "df_wthr = pd.DataFrame(df.c_wthr.value_counts())\n",
    "df_wthr.reset_index(level=0,inplace=True)\n",
    "df_wthr.rename(columns = {'c_wthr':'wthr_ct',  'index':'c_wthr'},inplace=True)\n",
    "\n",
    "# Configuration count\n",
    "df_conf = pd.DataFrame(df.c_conf.value_counts())\n",
    "df_conf.reset_index(level=0,inplace=True)\n",
    "df_conf.rename(columns = {'c_conf':'conf_ct',  'index':'c_conf'},inplace=True)\n",
    "\n",
    "# Road way configuration count\n",
    "df_rcfg = pd.DataFrame(df.c_rcfg.value_counts())\n",
    "df_rcfg.reset_index(level=0,inplace=True)\n",
    "df_rcfg.rename(columns = {'c_rcfg':'rcfg_ct',  'index':'c_rcfg'},inplace=True)"
   ]
  },
  {
   "cell_type": "code",
   "execution_count": 8,
   "metadata": {},
   "outputs": [],
   "source": [
    "# left join to the main dataframe\n",
    "df = df.merge(df_hour, how = 'left', on = 'c_hour')\n",
    "df = df.merge(df_wthr, how = 'left', on = 'c_wthr') \n",
    "df = df.merge(df_conf, how = 'left', on = 'c_conf') \n",
    "df = df.merge(df_rcfg, how = 'left', on = 'c_rcfg') "
   ]
  },
  {
   "cell_type": "code",
   "execution_count": 9,
   "metadata": {},
   "outputs": [],
   "source": [
    "# Average features\n",
    "df['avg_hr_per_day'] =  df.hour_ct/df.wday_ct\n",
    "df['avg_wthr_per_day'] =  df.wthr_ct/df.wday_ct\n",
    "df['avg_conf_per_day'] =  df.conf_ct/df.wday_ct\n",
    "df['avg_rcfg_per_day'] =  df.rcfg_ct/df.wday_ct"
   ]
  },
  {
   "cell_type": "markdown",
   "metadata": {},
   "source": [
    "# 3. Surface, alignment and position counts"
   ]
  },
  {
   "cell_type": "code",
   "execution_count": 10,
   "metadata": {},
   "outputs": [],
   "source": [
    "# Road surface count\n",
    "df_rsur = pd.DataFrame(df.c_rsur.value_counts())\n",
    "df_rsur.reset_index(level=0,inplace=True)\n",
    "df_rsur.rename(columns = {'c_rsur':'rsur_ct',  'index':'c_rsur'},inplace=True)\n",
    "\n",
    "# Road alignment count\n",
    "df_raln = pd.DataFrame(df.c_raln.value_counts())\n",
    "df_raln.reset_index(level=0,inplace=True)\n",
    "df_raln.rename(columns = {'c_raln':'raln_ct',  'index':'c_raln'},inplace=True)\n",
    "\n",
    "# Person position count\n",
    "df_psn = pd.DataFrame(df.p_psn.value_counts())\n",
    "df_psn.reset_index(level=0,inplace=True)\n",
    "df_psn.rename(columns = {'p_psn':'psn_ct',  'index':'p_psn'},inplace=True)"
   ]
  },
  {
   "cell_type": "code",
   "execution_count": 11,
   "metadata": {},
   "outputs": [],
   "source": [
    "# left join to the main dataframe\n",
    "df = df.merge(df_rsur, how = 'left', on = 'c_rsur')\n",
    "df = df.merge(df_raln, how = 'left', on = 'c_raln') \n",
    "df = df.merge(df_psn, how = 'left', on = 'p_psn') "
   ]
  },
  {
   "cell_type": "code",
   "execution_count": 12,
   "metadata": {},
   "outputs": [],
   "source": [
    "# Average features\n",
    "df['avg_rsur_per_day'] =  df.rsur_ct/df.wday_ct\n",
    "df['avg_raln_per_day'] =  df.raln_ct/df.wday_ct\n",
    "df['avg_psn_per_day'] =  df.psn_ct/df.wday_ct"
   ]
  },
  {
   "cell_type": "markdown",
   "metadata": {},
   "source": [
    "# 4. Treatment, vehicle types, traffic control counts"
   ]
  },
  {
   "cell_type": "code",
   "execution_count": 13,
   "metadata": {},
   "outputs": [],
   "source": [
    "# Treatment required count\n",
    "df_isev = pd.DataFrame(df.p_isev.value_counts())\n",
    "df_isev.reset_index(level=0,inplace=True)\n",
    "df_isev.rename(columns = {'p_isev':'isev_ct',  'index':'p_isev'},inplace=True)\n",
    "\n",
    "# Vechicle type count\n",
    "df_vtype = pd.DataFrame(df.v_type.value_counts())\n",
    "df_vtype.reset_index(level=0,inplace=True)\n",
    "df_vtype.rename(columns = {'v_type':'vtype_ct',  'index':'v_type'},inplace=True)\n",
    "\n",
    "# Traffic control type\n",
    "df_traf = pd.DataFrame(df.c_traf.value_counts())\n",
    "df_traf.reset_index(level=0,inplace=True)\n",
    "df_traf.rename(columns = {'c_traf':'traf_ct',  'index':'c_traf'},inplace=True)"
   ]
  },
  {
   "cell_type": "code",
   "execution_count": 14,
   "metadata": {},
   "outputs": [],
   "source": [
    "# left join to the main dataframe\n",
    "df = df.merge(df_isev, how = 'left', on = 'p_isev')\n",
    "df = df.merge(df_vtype, how = 'left', on = 'v_type') \n",
    "df = df.merge(df_traf, how = 'left', on = 'c_traf') "
   ]
  },
  {
   "cell_type": "code",
   "execution_count": 15,
   "metadata": {},
   "outputs": [],
   "source": [
    "# Average features\n",
    "df['avg_isev_per_day'] =  df.isev_ct/df.wday_ct\n",
    "df['avg_vtype_per_day'] =  df.vtype_ct/df.wday_ct\n",
    "df['avg_traf_per_day'] =  df.traf_ct/df.wday_ct"
   ]
  },
  {
   "cell_type": "markdown",
   "metadata": {},
   "source": [
    "# Scatter plot"
   ]
  },
  {
   "cell_type": "code",
   "execution_count": null,
   "metadata": {},
   "outputs": [],
   "source": [
    "vars_ = ['avg_isev_per_day', 'isev_ct', 'class', 'traf_ct']\n",
    "sns.pairplot(df, vars = vars_, hue = 'class')\n",
    "plt.show()"
   ]
  },
  {
   "cell_type": "markdown",
   "metadata": {},
   "source": [
    "# Save as csv"
   ]
  },
  {
   "cell_type": "code",
   "execution_count": null,
   "metadata": {},
   "outputs": [],
   "source": [
    "df.to_csv('../data/feat_engr_data.csv', index= False)"
   ]
  },
  {
   "cell_type": "markdown",
   "metadata": {},
   "source": [
    "# Fisher Score"
   ]
  },
  {
   "cell_type": "code",
   "execution_count": 36,
   "metadata": {},
   "outputs": [],
   "source": [
    "def fisher_score(df, col1, col2):\n",
    "    \"\"\"\n",
    "    Calculate the Fisher score for variable selection\n",
    "\n",
    "    Parameters\n",
    "    ---------\n",
    "    df: Pandas Dataframe\n",
    "    col1: class variable column name\n",
    "    col2: variable column name to calculate fisher score\n",
    "    \n",
    "    Returns\n",
    "    --------\n",
    "    Fisher score\n",
    "    \"\"\"\n",
    "    pvt = pd.crosstab(df[col2], df[col1])\n",
    "\n",
    "    mean = pvt[0].mean() - pvt[1].mean()\n",
    "    variance = (pvt[0].var())**2 + (pvt[1].var())**2\n",
    "    score = np.abs(mean)/np.sqrt(variance)\n",
    "    print(\"Fisher score for {} is {}\".format(str(col2), np.round(score,5)))"
   ]
  },
  {
   "cell_type": "code",
   "execution_count": 37,
   "metadata": {},
   "outputs": [
    {
     "name": "stdout",
     "output_type": "stream",
     "text": [
      "Fisher score for c_year is 0.00034\n",
      "Fisher score for c_hour is 2e-05\n",
      "Fisher score for c_vehs is 0.0\n",
      "Fisher score for v_id is 0.0\n",
      "Fisher score for v_year is 1e-05\n",
      "Fisher score for p_id is 0.0\n",
      "Fisher score for p_age is 4e-05\n",
      "Fisher score for c_case is 0.93347\n",
      "Fisher score for wday_ct is 0.00016\n",
      "Fisher score for mnth_ct is 0.0003\n",
      "Fisher score for year_ct is 0.00034\n",
      "Fisher score for avg_day_per_mnth is 0.00107\n",
      "Fisher score for avg_mnth_per_year is 0.00232\n",
      "Fisher score for hour_ct is 2e-05\n",
      "Fisher score for wthr_ct is 0.0\n",
      "Fisher score for conf_ct is 0.0\n",
      "Fisher score for rcfg_ct is 0.0\n",
      "Fisher score for avg_hr_per_day is 0.0001\n",
      "Fisher score for avg_wthr_per_day is 0.0\n",
      "Fisher score for avg_conf_per_day is 1e-05\n",
      "Fisher score for avg_rcfg_per_day is 1e-05\n",
      "Fisher score for rsur_ct is 0.0\n",
      "Fisher score for raln_ct is 0.0\n",
      "Fisher score for psn_ct is 0.0\n",
      "Fisher score for avg_rsur_per_day is 0.0\n",
      "Fisher score for avg_raln_per_day is 0.0\n",
      "Fisher score for avg_psn_per_day is 0.0\n",
      "Fisher score for isev_ct is 0.0\n",
      "Fisher score for vtype_ct is 0.0\n",
      "Fisher score for traf_ct is 0.0\n",
      "Fisher score for avg_isev_per_day is 1e-05\n",
      "Fisher score for avg_vtype_per_day is 0.0\n",
      "Fisher score for avg_traf_per_day is 1e-05\n"
     ]
    }
   ],
   "source": [
    "cols = list(df.drop('class', axis =1).select_dtypes('number'))\n",
    "for col in cols:\n",
    "    fisher_score(df, 'class', col)"
   ]
  },
  {
   "cell_type": "code",
   "execution_count": 15,
   "metadata": {},
   "outputs": [],
   "source": []
  }
 ],
 "metadata": {
  "kernelspec": {
   "display_name": "Python 3",
   "language": "python",
   "name": "python3"
  },
  "language_info": {
   "codemirror_mode": {
    "name": "ipython",
    "version": 3
   },
   "file_extension": ".py",
   "mimetype": "text/x-python",
   "name": "python",
   "nbconvert_exporter": "python",
   "pygments_lexer": "ipython3",
   "version": "3.9.4"
  },
  "metadata": {
   "interpreter": {
    "hash": "aee8b7b246df8f9039afb4144a1f6fd8d2ca17a180786b69acc140d282b71a49"
   }
  }
 },
 "nbformat": 4,
 "nbformat_minor": 4
}
