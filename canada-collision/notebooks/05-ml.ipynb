{
 "cells": [
  {
   "cell_type": "markdown",
   "metadata": {},
   "source": [
    "# Imbalanced Supervised Machine Learning\n",
    "In this notebook, we train the following supervised ML models: \n",
    "\n",
    "- Logistic Regression\n",
    "\n",
    "- Support Vector Machine classifier\n",
    "\n",
    "- Random Forest classifier\n",
    "\n",
    "- XGBoost classifier\n",
    "\n",
    "- Light GBM classifier\n",
    "\n",
    "- SMOTE with Random Forest\n",
    "\n",
    "- Undersampling with Random Forest\n",
    "\n",
    "The class distribution is 98 $\\%$ majority class (non-fatal collisions) and 2 $\\%$ minority class (fatal collisions). The optimizimation of the area under the receiver operating characteristic (AUROC) curve gives a slight improvement on the predictive power of the models.  SMOTE and Under Sampling techniques in combination with Random Forest classifier were applied on the training set, but they did not give any significant improvement on the imbalanced test set."
   ]
  },
  {
   "cell_type": "code",
   "execution_count": 1,
   "metadata": {},
   "outputs": [],
   "source": [
    "%matplotlib inline\n",
    "\n",
    "# Ignore deprecated warning\n",
    "import warnings\n",
    "warnings.filterwarnings(\"ignore\")\n",
    "\n",
    "# Data manipulation\n",
    "import pandas as pd\n",
    "import numpy as np\n",
    "\n",
    "# Data visualization\n",
    "import matplotlib.pyplot as plt\n",
    "import seaborn as sns\n",
    "\n",
    "# Set font scale and style\n",
    "plt.rcParams.update({'font.size': 15})\n",
    "\n",
    "# Dimensionality reduction\n",
    "from sklearn.decomposition import PCA\n",
    "\n",
    "# Resampling\n",
    "from imblearn.under_sampling import RandomUnderSampler\n",
    "from imblearn.over_sampling import SMOTE\n",
    "\n",
    "# Machine learning models\n",
    "import lightgbm as lgb\n",
    "import xgboost as xgb\n",
    "from sklearn.svm import SVC\n",
    "from sklearn.ensemble import RandomForestClassifier\n",
    "from sklearn.linear_model import LogisticRegression\n",
    "\n",
    "# Grid search and model selection\n",
    "from sklearn.model_selection import GridSearchCV, RandomizedSearchCV\n",
    "from sklearn.model_selection import train_test_split\n",
    "\n",
    "# Model performance metrics\n",
    "from sklearn.model_selection import cross_val_score, cross_val_predict\n",
    "from sklearn.metrics import confusion_matrix, classification_report\n",
    "from sklearn.metrics import roc_curve, roc_auc_score, average_precision_score\n",
    "\n",
    "# Pickle\n",
    "import joblib"
   ]
  },
  {
   "cell_type": "code",
   "execution_count": 2,
   "metadata": {},
   "outputs": [],
   "source": [
    "# Import custom class\n",
    "%run -i '../src/helper/transfxn.py'\n",
    "%run -i '../src/helper/ml.py'"
   ]
  },
  {
   "cell_type": "code",
   "execution_count": 3,
   "metadata": {},
   "outputs": [],
   "source": [
    "# Instantiate the class\n",
    "transfxn = TransformationPipeline()\n",
    "model = SupervisedModels()"
   ]
  },
  {
   "cell_type": "markdown",
   "metadata": {},
   "source": [
    "# Load data"
   ]
  },
  {
   "cell_type": "code",
   "execution_count": 4,
   "metadata": {},
   "outputs": [
    {
     "name": "stdout",
     "output_type": "stream",
     "text": [
      "Data size (3817613, 42)\n"
     ]
    },
    {
     "data": {
      "text/html": [
       "<div>\n",
       "<style scoped>\n",
       "    .dataframe tbody tr th:only-of-type {\n",
       "        vertical-align: middle;\n",
       "    }\n",
       "\n",
       "    .dataframe tbody tr th {\n",
       "        vertical-align: top;\n",
       "    }\n",
       "\n",
       "    .dataframe thead th {\n",
       "        text-align: right;\n",
       "    }\n",
       "</style>\n",
       "<table border=\"1\" class=\"dataframe\">\n",
       "  <thead>\n",
       "    <tr style=\"text-align: right;\">\n",
       "      <th></th>\n",
       "      <th>c_year</th>\n",
       "      <th>c_mnth</th>\n",
       "      <th>c_wday</th>\n",
       "      <th>c_hour</th>\n",
       "      <th>class</th>\n",
       "      <th>c_vehs</th>\n",
       "      <th>c_conf</th>\n",
       "      <th>c_rcfg</th>\n",
       "      <th>c_wthr</th>\n",
       "      <th>c_rsur</th>\n",
       "      <th>...</th>\n",
       "      <th>conf_per_day</th>\n",
       "      <th>conf_per_hour</th>\n",
       "      <th>c_conf_ind</th>\n",
       "      <th>c_rcfg_ind</th>\n",
       "      <th>v_type_ind</th>\n",
       "      <th>p_psn_ind</th>\n",
       "      <th>c_wthr_ind</th>\n",
       "      <th>c_raln_ind</th>\n",
       "      <th>c_rsur_ind</th>\n",
       "      <th>c_traf_ind</th>\n",
       "    </tr>\n",
       "  </thead>\n",
       "  <tbody>\n",
       "    <tr>\n",
       "      <th>0</th>\n",
       "      <td>2008</td>\n",
       "      <td>September</td>\n",
       "      <td>Saturday</td>\n",
       "      <td>17.0</td>\n",
       "      <td>0</td>\n",
       "      <td>2.0</td>\n",
       "      <td>Right angle collision</td>\n",
       "      <td>At an intersection</td>\n",
       "      <td>Clear and sunny</td>\n",
       "      <td>Dry, normal</td>\n",
       "      <td>...</td>\n",
       "      <td>1.081702</td>\n",
       "      <td>1.846882</td>\n",
       "      <td>N</td>\n",
       "      <td>N</td>\n",
       "      <td>N</td>\n",
       "      <td>N</td>\n",
       "      <td>N</td>\n",
       "      <td>N</td>\n",
       "      <td>N</td>\n",
       "      <td>N</td>\n",
       "    </tr>\n",
       "    <tr>\n",
       "      <th>1</th>\n",
       "      <td>2000</td>\n",
       "      <td>June</td>\n",
       "      <td>Friday</td>\n",
       "      <td>20.0</td>\n",
       "      <td>0</td>\n",
       "      <td>2.0</td>\n",
       "      <td>Rear-end collision</td>\n",
       "      <td>At an intersection</td>\n",
       "      <td>Clear and sunny</td>\n",
       "      <td>Wet</td>\n",
       "      <td>...</td>\n",
       "      <td>2.042169</td>\n",
       "      <td>9.569781</td>\n",
       "      <td>N</td>\n",
       "      <td>N</td>\n",
       "      <td>N</td>\n",
       "      <td>N</td>\n",
       "      <td>N</td>\n",
       "      <td>N</td>\n",
       "      <td>N</td>\n",
       "      <td>N</td>\n",
       "    </tr>\n",
       "    <tr>\n",
       "      <th>2</th>\n",
       "      <td>2005</td>\n",
       "      <td>October</td>\n",
       "      <td>Wednesday</td>\n",
       "      <td>12.0</td>\n",
       "      <td>0</td>\n",
       "      <td>2.0</td>\n",
       "      <td>Rear-end collision</td>\n",
       "      <td>Non-intersection</td>\n",
       "      <td>Clear and sunny</td>\n",
       "      <td>Dry, normal</td>\n",
       "      <td>...</td>\n",
       "      <td>2.498360</td>\n",
       "      <td>5.467715</td>\n",
       "      <td>N</td>\n",
       "      <td>N</td>\n",
       "      <td>N</td>\n",
       "      <td>N</td>\n",
       "      <td>N</td>\n",
       "      <td>N</td>\n",
       "      <td>N</td>\n",
       "      <td>N</td>\n",
       "    </tr>\n",
       "    <tr>\n",
       "      <th>3</th>\n",
       "      <td>2012</td>\n",
       "      <td>September</td>\n",
       "      <td>Monday</td>\n",
       "      <td>15.0</td>\n",
       "      <td>0</td>\n",
       "      <td>2.0</td>\n",
       "      <td>Any other two-vehicle - different direction</td>\n",
       "      <td>At an intersection</td>\n",
       "      <td>Clear and sunny</td>\n",
       "      <td>Dry, normal</td>\n",
       "      <td>...</td>\n",
       "      <td>0.803227</td>\n",
       "      <td>1.238855</td>\n",
       "      <td>N</td>\n",
       "      <td>N</td>\n",
       "      <td>N</td>\n",
       "      <td>N</td>\n",
       "      <td>N</td>\n",
       "      <td>N</td>\n",
       "      <td>N</td>\n",
       "      <td>N</td>\n",
       "    </tr>\n",
       "    <tr>\n",
       "      <th>4</th>\n",
       "      <td>2007</td>\n",
       "      <td>January</td>\n",
       "      <td>Wednesday</td>\n",
       "      <td>9.0</td>\n",
       "      <td>0</td>\n",
       "      <td>3.0</td>\n",
       "      <td>Left turn across opposing traffic</td>\n",
       "      <td>At an intersection</td>\n",
       "      <td>Clear and sunny</td>\n",
       "      <td>Dry, normal</td>\n",
       "      <td>...</td>\n",
       "      <td>0.551169</td>\n",
       "      <td>1.884935</td>\n",
       "      <td>N</td>\n",
       "      <td>N</td>\n",
       "      <td>N</td>\n",
       "      <td>N</td>\n",
       "      <td>N</td>\n",
       "      <td>N</td>\n",
       "      <td>N</td>\n",
       "      <td>N</td>\n",
       "    </tr>\n",
       "  </tbody>\n",
       "</table>\n",
       "<p>5 rows × 42 columns</p>\n",
       "</div>"
      ],
      "text/plain": [
       "   c_year     c_mnth     c_wday  c_hour  class  c_vehs  \\\n",
       "0    2008  September   Saturday    17.0      0     2.0   \n",
       "1    2000       June     Friday    20.0      0     2.0   \n",
       "2    2005    October  Wednesday    12.0      0     2.0   \n",
       "3    2012  September     Monday    15.0      0     2.0   \n",
       "4    2007    January  Wednesday     9.0      0     3.0   \n",
       "\n",
       "                                        c_conf              c_rcfg  \\\n",
       "0                        Right angle collision  At an intersection   \n",
       "1                           Rear-end collision  At an intersection   \n",
       "2                           Rear-end collision    Non-intersection   \n",
       "3  Any other two-vehicle - different direction  At an intersection   \n",
       "4            Left turn across opposing traffic  At an intersection   \n",
       "\n",
       "            c_wthr       c_rsur  ... conf_per_day conf_per_hour  c_conf_ind  \\\n",
       "0  Clear and sunny  Dry, normal  ...     1.081702      1.846882           N   \n",
       "1  Clear and sunny          Wet  ...     2.042169      9.569781           N   \n",
       "2  Clear and sunny  Dry, normal  ...     2.498360      5.467715           N   \n",
       "3  Clear and sunny  Dry, normal  ...     0.803227      1.238855           N   \n",
       "4  Clear and sunny  Dry, normal  ...     0.551169      1.884935           N   \n",
       "\n",
       "  c_rcfg_ind  v_type_ind  p_psn_ind c_wthr_ind  c_raln_ind c_rsur_ind  \\\n",
       "0          N           N          N          N           N          N   \n",
       "1          N           N          N          N           N          N   \n",
       "2          N           N          N          N           N          N   \n",
       "3          N           N          N          N           N          N   \n",
       "4          N           N          N          N           N          N   \n",
       "\n",
       "  c_traf_ind  \n",
       "0          N  \n",
       "1          N  \n",
       "2          N  \n",
       "3          N  \n",
       "4          N  \n",
       "\n",
       "[5 rows x 42 columns]"
      ]
     },
     "execution_count": 4,
     "metadata": {},
     "output_type": "execute_result"
    }
   ],
   "source": [
    "df = pd.read_csv('../data/feat_engr_data.csv') # Load cleaned data\n",
    "\n",
    "df = df.sample(frac =1).reset_index(drop = True) # shuffle\n",
    "\n",
    "print('Data size',df.shape) # data size\n",
    "df.head()"
   ]
  },
  {
   "cell_type": "markdown",
   "metadata": {},
   "source": [
    "# Class distribution"
   ]
  },
  {
   "cell_type": "code",
   "execution_count": 5,
   "metadata": {},
   "outputs": [
    {
     "data": {
      "text/html": [
       "<div>\n",
       "<style scoped>\n",
       "    .dataframe tbody tr th:only-of-type {\n",
       "        vertical-align: middle;\n",
       "    }\n",
       "\n",
       "    .dataframe tbody tr th {\n",
       "        vertical-align: top;\n",
       "    }\n",
       "\n",
       "    .dataframe thead th {\n",
       "        text-align: right;\n",
       "    }\n",
       "</style>\n",
       "<table border=\"1\" class=\"dataframe\">\n",
       "  <thead>\n",
       "    <tr style=\"text-align: right;\">\n",
       "      <th></th>\n",
       "      <th>labels</th>\n",
       "      <th>count</th>\n",
       "      <th>percentage</th>\n",
       "    </tr>\n",
       "  </thead>\n",
       "  <tbody>\n",
       "    <tr>\n",
       "      <th>0</th>\n",
       "      <td>0</td>\n",
       "      <td>3756304</td>\n",
       "      <td>98.394049</td>\n",
       "    </tr>\n",
       "    <tr>\n",
       "      <th>1</th>\n",
       "      <td>1</td>\n",
       "      <td>61309</td>\n",
       "      <td>1.605951</td>\n",
       "    </tr>\n",
       "  </tbody>\n",
       "</table>\n",
       "</div>"
      ],
      "text/plain": [
       "   labels    count  percentage\n",
       "0       0  3756304   98.394049\n",
       "1       1    61309    1.605951"
      ]
     },
     "execution_count": 5,
     "metadata": {},
     "output_type": "execute_result"
    }
   ],
   "source": [
    "label_pct = df['class'].value_counts(normalize = True)*100\n",
    "label_ct =  df['class'].value_counts()\n",
    "pd.DataFrame({'labels': label_pct.index, 'count': label_ct.values, 'percentage': label_pct.values})"
   ]
  },
  {
   "cell_type": "markdown",
   "metadata": {},
   "source": [
    "# Descriptive statistics"
   ]
  },
  {
   "cell_type": "code",
   "execution_count": 6,
   "metadata": {},
   "outputs": [
    {
     "data": {
      "text/html": [
       "<div>\n",
       "<style scoped>\n",
       "    .dataframe tbody tr th:only-of-type {\n",
       "        vertical-align: middle;\n",
       "    }\n",
       "\n",
       "    .dataframe tbody tr th {\n",
       "        vertical-align: top;\n",
       "    }\n",
       "\n",
       "    .dataframe thead th {\n",
       "        text-align: right;\n",
       "    }\n",
       "</style>\n",
       "<table border=\"1\" class=\"dataframe\">\n",
       "  <thead>\n",
       "    <tr style=\"text-align: right;\">\n",
       "      <th></th>\n",
       "      <th>c_year</th>\n",
       "      <th>c_hour</th>\n",
       "      <th>c_vehs</th>\n",
       "      <th>v_year</th>\n",
       "      <th>p_age</th>\n",
       "      <th>c_case</th>\n",
       "      <th>wday_ct</th>\n",
       "      <th>mnth_ct</th>\n",
       "      <th>year_ct</th>\n",
       "      <th>hour_ct</th>\n",
       "      <th>hr_per_day</th>\n",
       "      <th>p_isev_ct</th>\n",
       "      <th>conf_ct</th>\n",
       "      <th>p_isev_per_day</th>\n",
       "      <th>p_isev_per_hour</th>\n",
       "      <th>conf_per_day</th>\n",
       "      <th>conf_per_hour</th>\n",
       "    </tr>\n",
       "  </thead>\n",
       "  <tbody>\n",
       "    <tr>\n",
       "      <th>count</th>\n",
       "      <td>3.817613e+06</td>\n",
       "      <td>3.817613e+06</td>\n",
       "      <td>3.817613e+06</td>\n",
       "      <td>3.817613e+06</td>\n",
       "      <td>3.817613e+06</td>\n",
       "      <td>3.817613e+06</td>\n",
       "      <td>3.817613e+06</td>\n",
       "      <td>3.817613e+06</td>\n",
       "      <td>3.817613e+06</td>\n",
       "      <td>3.817613e+06</td>\n",
       "      <td>3.817613e+06</td>\n",
       "      <td>3.817613e+06</td>\n",
       "      <td>3.817613e+06</td>\n",
       "      <td>3.817613e+06</td>\n",
       "      <td>3.817613e+06</td>\n",
       "      <td>3.817613e+06</td>\n",
       "      <td>3.817613e+06</td>\n",
       "    </tr>\n",
       "    <tr>\n",
       "      <th>mean</th>\n",
       "      <td>2.007373e+03</td>\n",
       "      <td>1.371886e+01</td>\n",
       "      <td>2.099251e+00</td>\n",
       "      <td>1.999937e+03</td>\n",
       "      <td>3.664816e+01</td>\n",
       "      <td>1.275838e+06</td>\n",
       "      <td>5.506330e+05</td>\n",
       "      <td>3.212393e+05</td>\n",
       "      <td>2.037808e+05</td>\n",
       "      <td>2.210917e+05</td>\n",
       "      <td>4.052139e-01</td>\n",
       "      <td>1.919134e+06</td>\n",
       "      <td>6.804044e+05</td>\n",
       "      <td>3.519232e+00</td>\n",
       "      <td>1.214891e+01</td>\n",
       "      <td>1.245211e+00</td>\n",
       "      <td>3.836399e+00</td>\n",
       "    </tr>\n",
       "    <tr>\n",
       "      <th>std</th>\n",
       "      <td>5.455213e+00</td>\n",
       "      <td>5.106257e+00</td>\n",
       "      <td>1.102796e+00</td>\n",
       "      <td>7.572315e+00</td>\n",
       "      <td>1.868770e+01</td>\n",
       "      <td>7.419594e+05</td>\n",
       "      <td>5.485928e+04</td>\n",
       "      <td>3.014784e+04</td>\n",
       "      <td>2.401377e+04</td>\n",
       "      <td>8.982059e+04</td>\n",
       "      <td>1.699315e-01</td>\n",
       "      <td>2.936949e+05</td>\n",
       "      <td>4.995984e+05</td>\n",
       "      <td>6.408663e-01</td>\n",
       "      <td>1.167246e+01</td>\n",
       "      <td>9.238901e-01</td>\n",
       "      <td>4.474090e+00</td>\n",
       "    </tr>\n",
       "    <tr>\n",
       "      <th>min</th>\n",
       "      <td>1.999000e+03</td>\n",
       "      <td>0.000000e+00</td>\n",
       "      <td>1.000000e+00</td>\n",
       "      <td>1.901000e+03</td>\n",
       "      <td>1.000000e+00</td>\n",
       "      <td>1.524000e+03</td>\n",
       "      <td>4.683690e+05</td>\n",
       "      <td>2.605760e+05</td>\n",
       "      <td>1.656460e+05</td>\n",
       "      <td>2.452000e+04</td>\n",
       "      <td>3.769657e-02</td>\n",
       "      <td>2.400800e+04</td>\n",
       "      <td>5.893000e+03</td>\n",
       "      <td>3.690943e-02</td>\n",
       "      <td>6.949434e-02</td>\n",
       "      <td>9.059784e-03</td>\n",
       "      <td>1.705807e-02</td>\n",
       "    </tr>\n",
       "    <tr>\n",
       "      <th>25%</th>\n",
       "      <td>2.003000e+03</td>\n",
       "      <td>1.000000e+01</td>\n",
       "      <td>2.000000e+00</td>\n",
       "      <td>1.995000e+03</td>\n",
       "      <td>2.200000e+01</td>\n",
       "      <td>6.370150e+05</td>\n",
       "      <td>5.033110e+05</td>\n",
       "      <td>3.109770e+05</td>\n",
       "      <td>1.813860e+05</td>\n",
       "      <td>1.554690e+05</td>\n",
       "      <td>2.775525e-01</td>\n",
       "      <td>1.641640e+06</td>\n",
       "      <td>2.930490e+05</td>\n",
       "      <td>3.087612e+00</td>\n",
       "      <td>6.447855e+00</td>\n",
       "      <td>5.200395e-01</td>\n",
       "      <td>1.206246e+00</td>\n",
       "    </tr>\n",
       "    <tr>\n",
       "      <th>50%</th>\n",
       "      <td>2.007000e+03</td>\n",
       "      <td>1.400000e+01</td>\n",
       "      <td>2.000000e+00</td>\n",
       "      <td>2.000000e+03</td>\n",
       "      <td>3.500000e+01</td>\n",
       "      <td>1.272317e+06</td>\n",
       "      <td>5.316860e+05</td>\n",
       "      <td>3.342180e+05</td>\n",
       "      <td>2.054070e+05</td>\n",
       "      <td>2.429430e+05</td>\n",
       "      <td>4.047416e-01</td>\n",
       "      <td>2.151965e+06</td>\n",
       "      <td>6.163950e+05</td>\n",
       "      <td>3.505014e+00</td>\n",
       "      <td>8.540662e+00</td>\n",
       "      <td>9.476337e-01</td>\n",
       "      <td>2.537200e+00</td>\n",
       "    </tr>\n",
       "    <tr>\n",
       "      <th>75%</th>\n",
       "      <td>2.012000e+03</td>\n",
       "      <td>1.700000e+01</td>\n",
       "      <td>2.000000e+00</td>\n",
       "      <td>2.005000e+03</td>\n",
       "      <td>5.000000e+01</td>\n",
       "      <td>1.914410e+06</td>\n",
       "      <td>5.698380e+05</td>\n",
       "      <td>3.416400e+05</td>\n",
       "      <td>2.267020e+05</td>\n",
       "      <td>3.263280e+05</td>\n",
       "      <td>5.311143e-01</td>\n",
       "      <td>2.151965e+06</td>\n",
       "      <td>1.328343e+06</td>\n",
       "      <td>4.047436e+00</td>\n",
       "      <td>1.262829e+01</td>\n",
       "      <td>2.331089e+00</td>\n",
       "      <td>5.045611e+00</td>\n",
       "    </tr>\n",
       "    <tr>\n",
       "      <th>max</th>\n",
       "      <td>2.017000e+03</td>\n",
       "      <td>2.300000e+01</td>\n",
       "      <td>7.700000e+01</td>\n",
       "      <td>2.018000e+03</td>\n",
       "      <td>9.900000e+01</td>\n",
       "      <td>2.570235e+06</td>\n",
       "      <td>6.504570e+05</td>\n",
       "      <td>3.562190e+05</td>\n",
       "      <td>2.373130e+05</td>\n",
       "      <td>3.454670e+05</td>\n",
       "      <td>7.375958e-01</td>\n",
       "      <td>2.151965e+06</td>\n",
       "      <td>1.328343e+06</td>\n",
       "      <td>4.594593e+00</td>\n",
       "      <td>8.776366e+01</td>\n",
       "      <td>2.836104e+00</td>\n",
       "      <td>5.417386e+01</td>\n",
       "    </tr>\n",
       "  </tbody>\n",
       "</table>\n",
       "</div>"
      ],
      "text/plain": [
       "             c_year        c_hour        c_vehs        v_year         p_age  \\\n",
       "count  3.817613e+06  3.817613e+06  3.817613e+06  3.817613e+06  3.817613e+06   \n",
       "mean   2.007373e+03  1.371886e+01  2.099251e+00  1.999937e+03  3.664816e+01   \n",
       "std    5.455213e+00  5.106257e+00  1.102796e+00  7.572315e+00  1.868770e+01   \n",
       "min    1.999000e+03  0.000000e+00  1.000000e+00  1.901000e+03  1.000000e+00   \n",
       "25%    2.003000e+03  1.000000e+01  2.000000e+00  1.995000e+03  2.200000e+01   \n",
       "50%    2.007000e+03  1.400000e+01  2.000000e+00  2.000000e+03  3.500000e+01   \n",
       "75%    2.012000e+03  1.700000e+01  2.000000e+00  2.005000e+03  5.000000e+01   \n",
       "max    2.017000e+03  2.300000e+01  7.700000e+01  2.018000e+03  9.900000e+01   \n",
       "\n",
       "             c_case       wday_ct       mnth_ct       year_ct       hour_ct  \\\n",
       "count  3.817613e+06  3.817613e+06  3.817613e+06  3.817613e+06  3.817613e+06   \n",
       "mean   1.275838e+06  5.506330e+05  3.212393e+05  2.037808e+05  2.210917e+05   \n",
       "std    7.419594e+05  5.485928e+04  3.014784e+04  2.401377e+04  8.982059e+04   \n",
       "min    1.524000e+03  4.683690e+05  2.605760e+05  1.656460e+05  2.452000e+04   \n",
       "25%    6.370150e+05  5.033110e+05  3.109770e+05  1.813860e+05  1.554690e+05   \n",
       "50%    1.272317e+06  5.316860e+05  3.342180e+05  2.054070e+05  2.429430e+05   \n",
       "75%    1.914410e+06  5.698380e+05  3.416400e+05  2.267020e+05  3.263280e+05   \n",
       "max    2.570235e+06  6.504570e+05  3.562190e+05  2.373130e+05  3.454670e+05   \n",
       "\n",
       "         hr_per_day     p_isev_ct       conf_ct  p_isev_per_day  \\\n",
       "count  3.817613e+06  3.817613e+06  3.817613e+06    3.817613e+06   \n",
       "mean   4.052139e-01  1.919134e+06  6.804044e+05    3.519232e+00   \n",
       "std    1.699315e-01  2.936949e+05  4.995984e+05    6.408663e-01   \n",
       "min    3.769657e-02  2.400800e+04  5.893000e+03    3.690943e-02   \n",
       "25%    2.775525e-01  1.641640e+06  2.930490e+05    3.087612e+00   \n",
       "50%    4.047416e-01  2.151965e+06  6.163950e+05    3.505014e+00   \n",
       "75%    5.311143e-01  2.151965e+06  1.328343e+06    4.047436e+00   \n",
       "max    7.375958e-01  2.151965e+06  1.328343e+06    4.594593e+00   \n",
       "\n",
       "       p_isev_per_hour  conf_per_day  conf_per_hour  \n",
       "count     3.817613e+06  3.817613e+06   3.817613e+06  \n",
       "mean      1.214891e+01  1.245211e+00   3.836399e+00  \n",
       "std       1.167246e+01  9.238901e-01   4.474090e+00  \n",
       "min       6.949434e-02  9.059784e-03   1.705807e-02  \n",
       "25%       6.447855e+00  5.200395e-01   1.206246e+00  \n",
       "50%       8.540662e+00  9.476337e-01   2.537200e+00  \n",
       "75%       1.262829e+01  2.331089e+00   5.045611e+00  \n",
       "max       8.776366e+01  2.836104e+00   5.417386e+01  "
      ]
     },
     "execution_count": 6,
     "metadata": {},
     "output_type": "execute_result"
    }
   ],
   "source": [
    "df.drop(['class', 'p_id', 'v_id'], axis =1).describe()"
   ]
  },
  {
   "cell_type": "markdown",
   "metadata": {},
   "source": [
    "# Reduced Dataset\n",
    "The dataset is very large to fit into memory, so training models on the entire dataset will take days to run let alone tuning the hyperparameters by grid search.  Hence, we will first split the dataset into two subsets and train the model on the small subset"
   ]
  },
  {
   "cell_type": "code",
   "execution_count": 7,
   "metadata": {},
   "outputs": [],
   "source": [
    "X1, X2, y1, y2 = train_test_split(df, df['class'], test_size = 0.03, random_state = 42, \n",
    "                                  stratify = df['class'])"
   ]
  },
  {
   "cell_type": "code",
   "execution_count": 8,
   "metadata": {},
   "outputs": [
    {
     "name": "stdout",
     "output_type": "stream",
     "text": [
      "Large subset size: (3703084, 42) (3703084,)\n",
      "Small subset size: (114529, 42) (114529,)\n"
     ]
    }
   ],
   "source": [
    "print('Large subset size:', X1.shape, y1.shape)\n",
    "print('Small subset size:', X2.shape, y2.shape)"
   ]
  },
  {
   "cell_type": "code",
   "execution_count": 9,
   "metadata": {},
   "outputs": [],
   "source": [
    "# Pickle the small subset\n",
    "X2.to_pickle('../data/collision.pkl')"
   ]
  },
  {
   "cell_type": "markdown",
   "metadata": {},
   "source": [
    "# Prepare the Reduced Dataset for Machine Learning"
   ]
  },
  {
   "cell_type": "code",
   "execution_count": 10,
   "metadata": {},
   "outputs": [],
   "source": [
    "# Reload the small subset\n",
    "df_small = pd.read_pickle('../data/collision.pkl')"
   ]
  },
  {
   "cell_type": "code",
   "execution_count": 11,
   "metadata": {},
   "outputs": [],
   "source": [
    "# Feature matrix and class label\n",
    "cols_to_drop = ['c_case', 'p_id', 'v_id',  'class', 'c_traf',\n",
    "                'v_type_ind', 'p_psn_ind', 'c_wthr_ind', \n",
    "                'c_raln_ind', 'c_rsur_ind', 'c_traf_ind',\n",
    "                'conf_per_day', 'conf_per_hour'\n",
    "                ]\n",
    "X, y = df_small.drop(cols_to_drop, axis = 1), df_small['class']"
   ]
  },
  {
   "cell_type": "code",
   "execution_count": 12,
   "metadata": {},
   "outputs": [
    {
     "name": "stdout",
     "output_type": "stream",
     "text": [
      "Data size: (114529, 29) (114529,)\n"
     ]
    }
   ],
   "source": [
    "print('Data size:', X.shape, y.shape)"
   ]
  },
  {
   "cell_type": "markdown",
   "metadata": {},
   "source": [
    "# Create a test set\n",
    "We now split the data set into $80\\%$ training set and $20\\%$ test set in a stratify fashion"
   ]
  },
  {
   "cell_type": "code",
   "execution_count": 13,
   "metadata": {},
   "outputs": [],
   "source": [
    "X_train, X_test, y_train, y_test = train_test_split(X,y, test_size = 0.2, random_state = 42, stratify = y)"
   ]
  },
  {
   "cell_type": "code",
   "execution_count": 14,
   "metadata": {},
   "outputs": [
    {
     "name": "stdout",
     "output_type": "stream",
     "text": [
      "Training set size: (91623, 29) (91623,)\n",
      "Test set size: (22906, 29) (22906,)\n"
     ]
    }
   ],
   "source": [
    "print('Training set size:', X_train.shape, y_train.shape)\n",
    "print('Test set size:', X_test.shape, y_test.shape)"
   ]
  },
  {
   "cell_type": "code",
   "execution_count": 15,
   "metadata": {},
   "outputs": [
    {
     "name": "stdout",
     "output_type": "stream",
     "text": [
      "Training set class distribution:\n",
      " 0    98.394508\n",
      "1     1.605492\n",
      "Name: class, dtype: float64\n",
      "------------------------------\n",
      "Test set class distribution:\n",
      " 0    98.393434\n",
      "1     1.606566\n",
      "Name: class, dtype: float64\n"
     ]
    }
   ],
   "source": [
    "print('Training set class distribution:\\n', (y_train.value_counts()/X_train.shape[0])*100)\n",
    "print('--' * 15)\n",
    "print('Test set class distribution:\\n', (y_test.value_counts()/X_test.shape[0])*100)"
   ]
  },
  {
   "cell_type": "markdown",
   "metadata": {},
   "source": [
    "# Transformation pipeline"
   ]
  },
  {
   "cell_type": "code",
   "execution_count": 16,
   "metadata": {},
   "outputs": [],
   "source": [
    "# Transform and scale data\n",
    "X_train_scaled, X_test_scaled, feat_names = transfxn.preprocessing(X_train, X_test)"
   ]
  },
  {
   "cell_type": "code",
   "execution_count": 17,
   "metadata": {},
   "outputs": [
    {
     "name": "stdout",
     "output_type": "stream",
     "text": [
      "Training set size after pre-processing: (91623, 126)\n",
      "Test set size after pre-processing: (22906, 126)\n"
     ]
    }
   ],
   "source": [
    "# Size of the data after pre-processing\n",
    "print('Training set size after pre-processing:', X_train_scaled.shape)\n",
    "print('Test set size after pre-processing:', X_test_scaled.shape)"
   ]
  },
  {
   "cell_type": "code",
   "execution_count": 18,
   "metadata": {},
   "outputs": [],
   "source": [
    "# Convert the class labels to arrays\n",
    "y_train, y_test = y_train.values,  y_test.values"
   ]
  },
  {
   "cell_type": "markdown",
   "metadata": {},
   "source": [
    "# A. Model Selection by Cross-Validation"
   ]
  },
  {
   "cell_type": "markdown",
   "metadata": {},
   "source": [
    "## A-1. Logistic Regression"
   ]
  },
  {
   "cell_type": "code",
   "execution_count": 19,
   "metadata": {},
   "outputs": [
    {
     "name": "stdout",
     "output_type": "stream",
     "text": [
      "5-Fold cross-validation results for Logistic Regression\n",
      "------------------------------------------------------------\n",
      "Accuracy (std): 0.990254 (0.000470)\n",
      "AUROC: 0.884636\n",
      "AUPRC: 0.519760\n",
      "Predicted classes: [0 1]\n",
      "Confusion matrix:\n",
      " [[90146     6]\n",
      " [  887   584]]\n",
      "Classification report:\n",
      "               precision    recall  f1-score   support\n",
      "\n",
      "           0       0.99      1.00      1.00     90152\n",
      "           1       0.99      0.40      0.57      1471\n",
      "\n",
      "    accuracy                           0.99     91623\n",
      "   macro avg       0.99      0.70      0.78     91623\n",
      "weighted avg       0.99      0.99      0.99     91623\n",
      "\n",
      "------------------------------------------------------------\n"
     ]
    }
   ],
   "source": [
    "log_clf = LogisticRegression()   \n",
    "model.eval_metrics_cv(log_clf, X_train_scaled, y_train, cv_fold = 5, scoring = 'accuracy',\n",
    "                      model_nm = \"Logistic Regression\")"
   ]
  },
  {
   "cell_type": "code",
   "execution_count": 21,
   "metadata": {},
   "outputs": [
    {
     "data": {
      "image/png": "[encoded data removed]",
      "text/plain": [
       "<Figure size 1296x432 with 2 Axes>"
      ]
     },
     "metadata": {
      "needs_background": "light"
     },
     "output_type": "display_data"
    }
   ],
   "source": [
    "model.plot_auc_ap_lr(X_train_scaled, y_train, cv_fold = 5)"
   ]
  },
  {
   "cell_type": "markdown",
   "metadata": {},
   "source": [
    "## A-1-1.  Hyperparameter tuning - LR\n",
    " In this section, we shall optimize the **AUC** of the classifiers using grid/randomized search, cross-validation, and cost sensitive method"
   ]
  },
  {
   "cell_type": "code",
   "execution_count": 22,
   "metadata": {},
   "outputs": [
    {
     "data": {
      "text/plain": [
       "61.28619986403807"
      ]
     },
     "execution_count": 22,
     "metadata": {},
     "output_type": "execute_result"
    }
   ],
   "source": [
    "# Class ratio of the negative class to the positive class\n",
    "neg = y_train == 0\n",
    "pos = y_train == 1\n",
    "class_ratio = np.sum(neg)/np.sum(pos)\n",
    "class_ratio"
   ]
  },
  {
   "cell_type": "code",
   "execution_count": 24,
   "metadata": {},
   "outputs": [
    {
     "name": "stdout",
     "output_type": "stream",
     "text": [
      "Fitting 5 folds for each of 8 candidates, totalling 40 fits\n",
      "Grid search best AUC scor: 0.885671832759102\n",
      "Grid search best parameters: {'class_weight': 'balanced', 'C': 0.25}\n"
     ]
    }
   ],
   "source": [
    "# Range of hyperparameters\n",
    "params = {'C': [2**x for x in range(-2,5,2)], \n",
    "          'class_weight': ['balanced', {0:1, 1:class_ratio}]}\n",
    "                             \n",
    "# Grid search\n",
    "gsearch_log = RandomizedSearchCV(estimator = log_clf, param_distributions = params, \n",
    "                                scoring = 'roc_auc', cv = 5, n_jobs = -1, \n",
    "                                n_iter = 200, random_state = 42, verbose = 1)\n",
    "\n",
    "# Fit the training set\n",
    "gsearch_log.fit(X_train_scaled, y_train)\n",
    "\n",
    "# Pickle trained model\n",
    "joblib.dump(gsearch_log.best_estimator_, '../src/model/log_clf.pkl')\n",
    "\n",
    "# Print results\n",
    "print('Grid search best AUC scor:', gsearch_log.best_score_)\n",
    "print('Grid search best parameters:', gsearch_log.best_params_)    "
   ]
  },
  {
   "cell_type": "markdown",
   "metadata": {},
   "source": [
    "## A-2. Support Vector Machine"
   ]
  },
  {
   "cell_type": "code",
   "execution_count": null,
   "metadata": {},
   "outputs": [],
   "source": [
    "svm_clf = SVC(probability = True, kernel = 'rbf')   \n",
    "model.eval_metrics_cv(svm_clf, X_train_scaled, y_train, cv_fold = 5, scoring = 'accuracy', \n",
    "                      model_nm = \"SVM Classifier\")"
   ]
  },
  {
   "cell_type": "code",
   "execution_count": null,
   "metadata": {},
   "outputs": [],
   "source": [
    "model.plot_auc_ap_svm(X_train_scaled, y_train, cv_fold = 5)"
   ]
  },
  {
   "cell_type": "markdown",
   "metadata": {},
   "source": [
    "## A-2-1. Hyperparameter tuning- SVM"
   ]
  },
  {
   "cell_type": "code",
   "execution_count": null,
   "metadata": {},
   "outputs": [],
   "source": [
    "# Range of hyperparameters\n",
    "params = {'C': [2**x for x in range(-2,8,2)], \n",
    "          'gamma': [2**x for x in range(-11,1,2)],\n",
    "          'class_weight': ['balanced',{0:1, 1:class_ratio}]\n",
    "         } \n",
    "                                                              \n",
    "# Randomized search for SVM\n",
    "svm_clf = SVC(probability = True, kernel = 'rbf')\n",
    "rsearch_svm = RandomizedSearchCV(svm_clf, param_distributions = params, cv = 5,\n",
    "                                 scoring = 'roc_auc', n_iter =200,\n",
    "                                 n_jobs = -1,random_state = 42, verbose = 1) \n",
    "# Fit the training set\n",
    "rsearch_svm.fit(X_train_scaled, y_train)\n",
    "\n",
    "# Pickle trained model\n",
    "joblib.dump(rsearch_svm.best_estimator_, '../src/model/svm_clf.pkl')\n",
    "\n",
    "print('Best score: ', rsearch_svm.best_score_)\n",
    "print('Best parameters: ', rsearch_svm.best_params_)  "
   ]
  },
  {
   "cell_type": "markdown",
   "metadata": {},
   "source": [
    "## A-3. Random Forest"
   ]
  },
  {
   "cell_type": "code",
   "execution_count": null,
   "metadata": {
    "scrolled": true
   },
   "outputs": [],
   "source": [
    "rf_clf = RandomForestClassifier(random_state = 42)                         \n",
    "model.eval_metrics_cv(rf_clf, X_train_scaled, y_train, cv_fold = 5, scoring = 'accuracy', \n",
    "                      model_nm = \"Random Forest Classifier\")"
   ]
  },
  {
   "cell_type": "code",
   "execution_count": null,
   "metadata": {},
   "outputs": [],
   "source": [
    "# Compute feature importances\n",
    "importances_df = pd.DataFrame({'Features': feat_names, \n",
    "                                'Importances': rf_clf.feature_importances_\n",
    "                                })\n",
    "# Bar plot\n",
    "importances_df.sort_values('Importances', ascending = True, inplace = True)\n",
    "importances_df.set_index('Features', inplace = True)\n",
    "importances_df.tail(20).plot(kind='barh', figsize = (18,10))\n",
    "plt.title('Top 20 Feature Importances for Random Forest Classifier')\n",
    "plt.show()"
   ]
  },
  {
   "cell_type": "markdown",
   "metadata": {},
   "source": [
    "## A-3-1.  Hyperparameter tuning - RF"
   ]
  },
  {
   "cell_type": "code",
   "execution_count": null,
   "metadata": {},
   "outputs": [],
   "source": [
    "# Range of hyperparameters\n",
    "params = {'max_features': [0.5, 1, 'sqrt', 'log2', None],\n",
    "          'max_depth': range(2,8,1),\n",
    "          'min_samples_split': range(2,10,1),\n",
    "          'class_weight': ['balanced', {0: 1, 1: class_ratio}]\n",
    "                         }\n",
    "\n",
    "# Randomized search\n",
    "rf_clf = RandomForestClassifier(n_estimators = 1000, random_state = 42)           \n",
    "rsearch_rf = RandomizedSearchCV(estimator = rf_clf, param_distributions = params, \n",
    "                                scoring = 'roc_auc', cv = 5, n_jobs = -1, n_iter = 200, \n",
    "                                random_state = 42, verbose = 1)  \n",
    "# Fit the  training set                                                    \n",
    "rsearch_rf.fit(X_train_scaled, y_train)\n",
    "\n",
    "# Pickle trained model\n",
    "joblib.dump(rsearch_rf.best_estimator_, '../src/model/rf_clf.pkl')\n",
    "\n",
    "# Print results\n",
    "print('Randomized search best AUC score:', rsearch_rf.best_score_) \n",
    "print('Randomized search best hyperparameters:', rsearch_rf.best_params_) "
   ]
  },
  {
   "cell_type": "markdown",
   "metadata": {},
   "source": [
    "## A-4. XGBoost"
   ]
  },
  {
   "cell_type": "code",
   "execution_count": null,
   "metadata": {},
   "outputs": [],
   "source": [
    "param_dist = {'objective':'binary:logistic', 'eval_metric':'logloss', 'random_state':42}\n",
    "\n",
    "xgb_clf = xgb.XGBClassifier(**param_dist) \n",
    "model.eval_metrics_cv(xgb_clf, X_train_scaled, y_train, cv_fold = 5,scoring = 'accuracy',\n",
    "                      model_nm = \"XGBoost Classifier\")"
   ]
  },
  {
   "cell_type": "code",
   "execution_count": null,
   "metadata": {},
   "outputs": [],
   "source": [
    "# Compute feature importances\n",
    "importances_df = pd.DataFrame({'Features': feat_names,\n",
    "                               'Importances': xgb_clf.feature_importances_})\n",
    "# Bar plot\n",
    "importances_df.sort_values('Importances', ascending = True, inplace = True)\n",
    "importances_df.set_index('Features', inplace = True)\n",
    "importances_df.tail(20).plot(kind='barh', figsize = (18,10))\n",
    "plt.title('Top 20 Feature Importances for XGBoost Classifier')\n",
    "plt.show()"
   ]
  },
  {
   "cell_type": "markdown",
   "metadata": {},
   "source": [
    "## A-4-1. Hyperparameter tuning  - XGB"
   ]
  },
  {
   "cell_type": "code",
   "execution_count": null,
   "metadata": {},
   "outputs": [],
   "source": [
    "# Range of hyperparameters\n",
    "params = {'subsample':[i/10 for i in range(5,9)],\n",
    "          'colsample_bytree': [i/10 for i in range(5,9)],\n",
    "          'max_depth': range(2,10,1)\n",
    "          }\n",
    "\n",
    "# Randomized search\n",
    "param_dist = {'objective':'binary:logistic', 'eval_metric':'logloss', 'n_estimators':1000,\n",
    "              'scale_pos_weight':class_ratio, 'learning_rate':0.1, 'random_state':5,\n",
    "              'n_jobs':-1\n",
    "              }\n",
    "xgb_clf = xgb.XGBClassifier(**param_dist)\n",
    "\n",
    "rsearch_xgb = RandomizedSearchCV(estimator = xgb_clf, param_distributions = params, \n",
    "                                  scoring = 'roc_auc', cv = 5, n_jobs = -1, n_iter = 200, \n",
    "                                  random_state = 42, verbose = 1)   \n",
    "# Fit the  training set                                                            \n",
    "rsearch_xgb.fit(X_train_scaled, y_train)\n",
    "\n",
    "# Pickle trained model\n",
    "joblib.dump(rsearch_xgb.best_estimator_, '../src/model/xgb_clf.pkl')\n",
    "\n",
    "# Print results\n",
    "print('Randomized search best AUC score:', rsearch_xgb.best_score_) \n",
    "print('Randomized search best hyperparameters:', rsearch_xgb.best_params_) "
   ]
  },
  {
   "cell_type": "markdown",
   "metadata": {},
   "source": [
    "## 5. LGBM"
   ]
  },
  {
   "cell_type": "code",
   "execution_count": null,
   "metadata": {},
   "outputs": [],
   "source": [
    "param_dict = {'boosting_type':'gbdt', 'num_leaves':31, 'max_depth':- 1, \n",
    "              'learning_rate':0.1, 'n_estimators':1000, 'random_state':42\n",
    "             }\n",
    "              \n",
    "lgb_clf = lgb.LGBMClassifier(**param_dict)\n",
    "model.eval_metrics_cv(lgb_clf, X_train_scaled, y_train, cv_fold = 5, model_nm = 'LGBM Classifier')"
   ]
  },
  {
   "cell_type": "code",
   "execution_count": null,
   "metadata": {},
   "outputs": [],
   "source": [
    "# Compute feature importances\n",
    "importances_df = pd.DataFrame({'Features': feat_names, \n",
    "                               'Importances': lgb_clf.feature_importances_\n",
    "                              })\n",
    "# Plot\n",
    "importances_df.sort_values('Importances', ascending = True, inplace = True)\n",
    "importances_df.set_index('Features', inplace = True)\n",
    "importances_df.tail(10).plot(kind='barh', figsize = (18,10))\n",
    "plt.yticks(rotation = 45)\n",
    "plt.title('Top 10 Feature Importances for LGBM Classifier')\n",
    "plt.savefig('../image/lgbm.png')"
   ]
  },
  {
   "cell_type": "markdown",
   "metadata": {},
   "source": [
    "## A-5-1. Hyperparameter tuning  - LGBM"
   ]
  },
  {
   "cell_type": "code",
   "execution_count": null,
   "metadata": {},
   "outputs": [],
   "source": [
    "# Hyperparameter range\n",
    "params = {'max_depth': [-1,30,40],\n",
    "          'num_leaves': range(80,120,10),\n",
    "          'min_child_samples': range(20,50,10)\n",
    "          }\n",
    "\n",
    "# Randomized search\n",
    "param_dict = {'boosting_type':'gbdt', 'learning_rate':0.1, \n",
    "              'n_estimators':1000, 'random_state':42,\n",
    "              'scale_pos_weight':class_ratio\n",
    "             }\n",
    "lgb_clf =  lgb.LGBMClassifier(**param_dict)                       \n",
    "rsearch_lgbm = RandomizedSearchCV(estimator = lgb_clf, param_distributions = params, \n",
    "                                n_iter = 200,scoring = 'roc_auc', cv = 5, \n",
    "                                n_jobs = -1, random_state = 42, verbose = 1\n",
    "                                 )  \n",
    "# Fit model\n",
    "rsearch_lgbm.fit(X_train_scaled, y_train)\n",
    "\n",
    "# Pickle trained model\n",
    "joblib.dump(rsearch_lgbm.best_estimator_, '../src/model/lgb_clf.pkl')\n",
    "\n",
    "# Print results\n",
    "print('Randomized search best AUC score:', rsearch_lgbm.best_score_) \n",
    "print('Best hyperparameters:', rsearch_lgbm.best_params_) "
   ]
  },
  {
   "cell_type": "code",
   "execution_count": null,
   "metadata": {},
   "outputs": [],
   "source": [
    "# Load trained model\n",
    "log_clf = joblib.load('../src/model/log_clf.pkl')\n",
    "svm_clf = joblib.load('../src/model/svm_clf.pkl')\n",
    "rf_clf = joblib.load('../src/model/rf_clf.pkl')\n",
    "xgb_clf = joblib.load('../src/model/xgb_clf.pkl')\n",
    "lgb_clf = joblib.load('../src/model/lgb_clf.pkl')"
   ]
  },
  {
   "cell_type": "code",
   "execution_count": null,
   "metadata": {},
   "outputs": [],
   "source": [
    "model_dict = {'LR': log_clf, 'SVM': svm_clf, 'RF': rf_clf, 'XGB': xgb_clf, 'LGB': lgb_clf}\n",
    "roc_scores = []\n",
    "\n",
    "for i, (name, model_) in enumerate(model_dict.items()):\n",
    "    score = cross_val_score(model_, X_train_scaled, y_train, cv = 5, scoring = 'roc_auc')\n",
    "    roc_scores.append(score)\n",
    "\n",
    "plt.figure(figsize = (12,6))\n",
    "plt.boxplot(roc_scores)\n",
    "plt.xticks(np.arange(len(model_dict))+1, list(model_dict.keys()))\n",
    "plt.title('ROC AUC on 5-Fold Cross-Validation Set', fontsize = 20)\n",
    "plt.ylabel('ROC AUC (Cross-validation)')\n",
    "plt.savefig('../image/cv_metric.png')\n",
    "plt.show()"
   ]
  },
  {
   "cell_type": "markdown",
   "metadata": {},
   "source": [
    "# C. Resampling Methods\n",
    "In this section, we will employ two resampling techniques on the training set to balance the classes. However, the final prediction will be made on the imbalanced test set. The idea of resampling is to trick the classifier using a balanced dataset.  "
   ]
  },
  {
   "cell_type": "markdown",
   "metadata": {},
   "source": [
    "## C-1. Under Sampling  combined with Random Forest Classifier\n",
    "In undersampling, we reduce the majority class such that it matches the minority class"
   ]
  },
  {
   "cell_type": "code",
   "execution_count": null,
   "metadata": {},
   "outputs": [],
   "source": [
    "# Under sample the majority class\n",
    "und = RandomUnderSampler(random_state = 42)\n",
    "X_train_scaled_und, y_train_und = und.fit_resample(X_train_scaled, y_train)"
   ]
  },
  {
   "cell_type": "code",
   "execution_count": null,
   "metadata": {},
   "outputs": [],
   "source": [
    "print('Undersampled training data size:', X_train_scaled_und.shape, y_train_und.shape)"
   ]
  },
  {
   "cell_type": "code",
   "execution_count": null,
   "metadata": {},
   "outputs": [],
   "source": [
    "print('Imbalanced training set class distribution:', np.bincount(y_train))\n",
    "print('Undersampled training set class distribution:', np.bincount(y_train_und))"
   ]
  },
  {
   "cell_type": "code",
   "execution_count": null,
   "metadata": {},
   "outputs": [],
   "source": [
    "# Random Forest Classifier cross-validation on the undersampled dataset\n",
    "rf_und =  RandomForestClassifier(n_estimators = 100, random_state = 42)\n",
    "model.eval_metrics_cv(svm_und, X_train_scaled_und, y_train_und, cv_fold = 5, \n",
    "scoring = 'accuracy', model_nm = \"Undersampling with Random Forest Classifier\")"
   ]
  },
  {
   "cell_type": "markdown",
   "metadata": {},
   "source": [
    "## C-2. SMOTE  combined with Random Forest Classifier\n",
    "In Synthetic Minority Over Sampling Technique (SMOTE), we generate synthetic oberservations to match the minority clas.\n",
    "SMOTE oversampled the minority class in the training set, so we now have equal class distribution. "
   ]
  },
  {
   "cell_type": "code",
   "execution_count": null,
   "metadata": {},
   "outputs": [],
   "source": [
    "# Over sample the minority class\n",
    "sm = SMOTE(random_state = 42)\n",
    "X_train_scaled_ovsm, y_train_ovsm = sm.fit_resample(X_train_scaled, y_train)"
   ]
  },
  {
   "cell_type": "code",
   "execution_count": null,
   "metadata": {},
   "outputs": [],
   "source": [
    "print('SMOTE training data size:', X_train_scaled_ovsm.shape, y_train_ovsm.shape)"
   ]
  },
  {
   "cell_type": "code",
   "execution_count": null,
   "metadata": {},
   "outputs": [],
   "source": [
    "print('Imbalanced training set class distribution:', np.bincount(y_train))\n",
    "print('SMOTE resampled training set class distribution:', np.bincount(y_train_ovsm))"
   ]
  },
  {
   "cell_type": "code",
   "execution_count": null,
   "metadata": {},
   "outputs": [],
   "source": [
    "# Random Forest cross-validation on the SMOTE dataset\n",
    "rf_ovsm = RandomForestClassifier(random_state = 42)\n",
    "model.eval_metrics_cv(rf_ovsm, X_train_scaled_ovsm, y_train_ovsm, cv_fold = 5, \n",
    "scoring = 'accuracy', model_nm = \"SMOTE with Random Forest Classifier\")"
   ]
  },
  {
   "cell_type": "markdown",
   "metadata": {},
   "source": [
    "# D. Prediction on the Imbalanced Test Set \n",
    "In this section, we make our final prediction on the imbalanced dataset after training the model using the resampling techniques."
   ]
  },
  {
   "cell_type": "markdown",
   "metadata": {},
   "source": [
    "## D-1. Normal Imbalanced Dataset"
   ]
  },
  {
   "cell_type": "code",
   "execution_count": null,
   "metadata": {},
   "outputs": [],
   "source": [
    "model.test_pred(rf_clf, X_train_scaled, y_train, X_test_scaled, y_test, \n",
    "                    model_nm = \"Random Forest Classifier\")"
   ]
  },
  {
   "cell_type": "markdown",
   "metadata": {},
   "source": [
    "## D-2. Undersampled Dataset"
   ]
  },
  {
   "cell_type": "code",
   "execution_count": null,
   "metadata": {},
   "outputs": [],
   "source": [
    "model.test_pred(rf_und, X_train_scaled_und, y_train_und, X_test_scaled, y_test,\n",
    "                model_nm = \"UnderSampling with Random Forest Classifier\")"
   ]
  },
  {
   "cell_type": "markdown",
   "metadata": {},
   "source": [
    "## D-3. SMOTE Dataset"
   ]
  },
  {
   "cell_type": "code",
   "execution_count": null,
   "metadata": {},
   "outputs": [],
   "source": [
    "model.test_pred(rf_ovsm, X_train_scaled_ovsm, y_train_ovsm, X_test_scaled, y_test,\n",
    "                model_nm = \"SMOTE with Random Forest Classifier\")"
   ]
  },
  {
   "cell_type": "markdown",
   "metadata": {},
   "source": [
    "# E.  ROC and PR Curves\n"
   ]
  },
  {
   "cell_type": "code",
   "execution_count": null,
   "metadata": {},
   "outputs": [],
   "source": [
    "plt.figure(figsize = (20,15))\n",
    "\n",
    "# Normal imbalanced distribution\n",
    "model.plot_roc_pr_curves(rf_clf, X_train_scaled, y_train, X_test_scaled, y_test, cv_fold = 5,\n",
    "                       color= 'b', label = 'Normal (AUC= %0.2f)')\n",
    "\n",
    "# Under Sampled distribution\n",
    "model.plot_roc_pr_curves(rf_und, X_train_scaled_und, y_train_und, X_test_scaled, y_test, cv_fold = 5,\n",
    "                       color= 'g', label = 'Under Sampled (AUC= %0.2f)')\n",
    "                     \n",
    "# SMOTE distribution\n",
    "model.plot_roc_pr_curves(rf_ovsm, X_train_scaled_ovsm, y_train_ovsm, X_test_scaled, y_test, cv_fold = 5,\n",
    "                       color= 'r', label = 'SMOTE (AUC= %0.2f)') "
   ]
  },
  {
   "cell_type": "markdown",
   "metadata": {},
   "source": [
    "# F. AUC-ROC and AUC-PR for Cross-Validation vs. Test Sets"
   ]
  },
  {
   "cell_type": "code",
   "execution_count": null,
   "metadata": {},
   "outputs": [],
   "source": [
    "plt.figure(figsize = (20,8))\n",
    "\n",
    "# Normal imbalanced distribution\n",
    "model.plot_aucroc_aucpr(rf_clf, X_train_scaled, y_train, X_test_scaled, y_test, cv_fold = 5,\n",
    "                       marker = 'o', color= 'b', label = 'Normal')\n",
    "\n",
    "# Under Sampled distribution\n",
    "model.plot_aucroc_aucpr(rf_und, X_train_scaled_und, y_train_und, X_test_scaled, y_test, cv_fold = 5, \n",
    "                        marker = '^', color= 'g', label = 'Under Sampled')\n",
    "                     \n",
    "# SMOTE distribution\n",
    "model.plot_aucroc_aucpr(rf_ovsm, X_train_scaled_ovsm, y_train_ovsm, X_test_scaled, y_test, cv_fold = 5, \n",
    "                        marker = 'd', color= 'r', label = 'SMOTE') "
   ]
  },
  {
   "cell_type": "code",
   "execution_count": null,
   "metadata": {},
   "outputs": [],
   "source": []
  }
 ],
 "metadata": {
  "kernelspec": {
   "display_name": "Python 3",
   "language": "python",
   "name": "python3"
  },
  "language_info": {
   "codemirror_mode": {
    "name": "ipython",
    "version": 3
   },
   "file_extension": ".py",
   "mimetype": "text/x-python",
   "name": "python",
   "nbconvert_exporter": "python",
   "pygments_lexer": "ipython3",
   "version": "3.9.4"
  },
  "metadata": {
   "interpreter": {
    "hash": "aee8b7b246df8f9039afb4144a1f6fd8d2ca17a180786b69acc140d282b71a49"
   }
  }
 },
 "nbformat": 4,
 "nbformat_minor": 4
}
